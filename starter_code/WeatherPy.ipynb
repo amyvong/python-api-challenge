{
 "cells": [
  {
   "cell_type": "markdown",
   "metadata": {},
   "source": [
    "# WeatherPy\n",
    "----\n",
    "\n",
    "#### Note\n",
    "* Instructions have been included for each segment. You do not have to follow them exactly, but they are included to help you think through the steps."
   ]
  },
  {
   "cell_type": "code",
   "execution_count": 1,
   "metadata": {
    "scrolled": true
   },
   "outputs": [],
   "source": [
    "# Dependencies and Setup\n",
    "import matplotlib.pyplot as plt\n",
    "import pandas as pd\n",
    "import numpy as np\n",
    "import requests\n",
    "import time\n",
    "from scipy.stats import linregress \n",
    "\n",
    "\n",
    "# Import API key\n",
    "from api_keys import weather_api_key\n",
    "\n",
    "# Incorporated citipy to determine city based on latitude and longitude\n",
    "from citipy import citipy\n",
    "\n",
    "# Output File (CSV)\n",
    "outputcities = \"output_data/cities.csv\"\n",
    "\n",
    "# Range of latitudes and longitudes\n",
    "lat_range = (-90, 90)\n",
    "lng_range = (-180, 180)"
   ]
  },
  {
   "cell_type": "code",
   "execution_count": null,
   "metadata": {},
   "outputs": [],
   "source": []
  },
  {
   "cell_type": "markdown",
   "metadata": {},
   "source": [
    "## Generate Cities List"
   ]
  },
  {
   "cell_type": "code",
   "execution_count": 2,
   "metadata": {},
   "outputs": [
    {
     "data": {
      "text/plain": [
       "613"
      ]
     },
     "execution_count": 2,
     "metadata": {},
     "output_type": "execute_result"
    }
   ],
   "source": [
    "# List for holding lat_lngs and cities\n",
    "lat_lngs = []\n",
    "cities = []\n",
    "\n",
    "# Create a set of random lat and lng combinations\n",
    "lats = np.random.uniform(lat_range[0], lat_range[1], size=1500)\n",
    "lngs = np.random.uniform(lng_range[0], lng_range[1], size=1500)\n",
    "lat_lngs = zip(lats, lngs)\n",
    "\n",
    "# Identify nearest city for each lat, lng combination\n",
    "for lat_lng in lat_lngs:\n",
    "    city = citipy.nearest_city(lat_lng[0], lat_lng[1]).city_name\n",
    "    \n",
    "    # If the city is unique, then add it to a our cities list\n",
    "    if city not in cities:\n",
    "        cities.append(city)\n",
    "\n",
    "# Print the city count to confirm sufficient count\n",
    "len(cities)"
   ]
  },
  {
   "cell_type": "code",
   "execution_count": 5,
   "metadata": {},
   "outputs": [],
   "source": [
    "url = \"http://api.openweathermap.org/data/2.5/weather?\"\n",
    "units =\"imperial\""
   ]
  },
  {
   "cell_type": "markdown",
   "metadata": {},
   "source": [
    "### Perform API Calls\n",
    "* Perform a weather check on each city using a series of successive API calls.\n",
    "* Include a print log of each city as it'sbeing processed (with the city number and city name).\n"
   ]
  },
  {
   "cell_type": "code",
   "execution_count": 6,
   "metadata": {},
   "outputs": [
    {
     "data": {
      "text/plain": [
       "{'coord': {'lon': 26.89, 'lat': -33.59},\n",
       " 'weather': [{'id': 800,\n",
       "   'main': 'Clear',\n",
       "   'description': 'clear sky',\n",
       "   'icon': '01n'}],\n",
       " 'base': 'stations',\n",
       " 'main': {'temp': 63.79,\n",
       "  'feels_like': 57.7,\n",
       "  'temp_min': 63.79,\n",
       "  'temp_max': 63.79,\n",
       "  'pressure': 1023,\n",
       "  'humidity': 55,\n",
       "  'sea_level': 1023,\n",
       "  'grnd_level': 1020},\n",
       " 'visibility': 10000,\n",
       " 'wind': {'speed': 9.71, 'deg': 9},\n",
       " 'clouds': {'all': 0},\n",
       " 'dt': 1595463745,\n",
       " 'sys': {'country': 'ZA', 'sunrise': 1595481020, 'sunset': 1595518031},\n",
       " 'timezone': 7200,\n",
       " 'id': 964432,\n",
       " 'name': 'Port Alfred',\n",
       " 'cod': 200}"
      ]
     },
     "execution_count": 6,
     "metadata": {},
     "output_type": "execute_result"
    }
   ],
   "source": [
    "\n",
    "query_url = f\"{url}appid={weather_api_key}&units={units}&q=\"\n",
    "response = requests.get(query_url + cities[0]).json()\n",
    "\n",
    "response"
   ]
  },
  {
   "cell_type": "code",
   "execution_count": null,
   "metadata": {},
   "outputs": [],
   "source": [
    "\n",
    "        "
   ]
  },
  {
   "cell_type": "code",
   "execution_count": 15,
   "metadata": {},
   "outputs": [
    {
     "name": "stdout",
     "output_type": "stream",
     "text": [
      "Beginning Data Retrieval\n",
      "-----------------------------\n",
      "Processing Record 1 of Set 1 | port alfred\n",
      "Processing Record 2 of Set 1 | bubaque\n",
      "Processing Record 3 of Set 1 | seoni malwa\n",
      "Processing Record 4 of Set 1 | bhanvad\n",
      "Processing Record 5 of Set 1 | aporawan\n",
      "City not found. Skipping...\n",
      "Processing Record 6 of Set 1 | taolanaro\n",
      "City not found. Skipping...\n",
      "Processing Record 7 of Set 1 | san quintin\n",
      "Processing Record 8 of Set 1 | karratha\n",
      "Processing Record 9 of Set 1 | raahe\n",
      "Processing Record 10 of Set 1 | cockburn town\n",
      "Processing Record 11 of Set 1 | albany\n",
      "Processing Record 12 of Set 1 | kizukuri\n",
      "Processing Record 13 of Set 1 | vaini\n",
      "Processing Record 14 of Set 1 | cabedelo\n",
      "Processing Record 15 of Set 1 | morro bay\n",
      "Processing Record 16 of Set 1 | chuy\n",
      "Processing Record 17 of Set 1 | chicama\n",
      "Processing Record 18 of Set 1 | barrow\n",
      "Processing Record 19 of Set 1 | arlit\n",
      "Processing Record 20 of Set 1 | tuktoyaktuk\n",
      "Processing Record 21 of Set 1 | taltal\n",
      "Processing Record 22 of Set 1 | rikitea\n",
      "Processing Record 23 of Set 1 | fukue\n",
      "Processing Record 24 of Set 1 | mataura\n",
      "Processing Record 25 of Set 1 | hilo\n",
      "Processing Record 26 of Set 1 | hobart\n",
      "Processing Record 27 of Set 1 | faanui\n",
      "Processing Record 28 of Set 1 | butaritari\n",
      "Processing Record 29 of Set 1 | clyde river\n",
      "Processing Record 30 of Set 1 | puerto ayora\n",
      "Processing Record 31 of Set 1 | tuatapere\n",
      "Processing Record 32 of Set 1 | mahebourg\n",
      "Processing Record 33 of Set 1 | coihaique\n",
      "Processing Record 34 of Set 1 | daloa\n",
      "Processing Record 35 of Set 1 | carnarvon\n",
      "Processing Record 36 of Set 1 | yellowknife\n",
      "Processing Record 37 of Set 1 | jamestown\n",
      "Processing Record 38 of Set 1 | bethel\n",
      "Processing Record 39 of Set 1 | nikolskoye\n",
      "Processing Record 40 of Set 1 | cape town\n",
      "Processing Record 41 of Set 1 | fortuna\n",
      "Processing Record 42 of Set 1 | belokurikha\n",
      "Processing Record 43 of Set 1 | thompson\n",
      "Processing Record 44 of Set 1 | pandan\n",
      "Processing Record 45 of Set 1 | saint george\n",
      "Processing Record 46 of Set 1 | east london\n",
      "Processing Record 47 of Set 1 | sitka\n",
      "Processing Record 48 of Set 1 | ozernovskiy\n",
      "Processing Record 49 of Set 1 | anadyr\n",
      "Processing Record 50 of Set 1 | demyanovo\n",
      "Processing Record 1 of Set 2 | port elizabeth\n",
      "Processing Record 2 of Set 2 | alice springs\n",
      "Processing Record 3 of Set 2 | atuona\n",
      "Processing Record 4 of Set 2 | moussoro\n",
      "Processing Record 5 of Set 2 | saint-louis\n",
      "Processing Record 6 of Set 2 | taozhuang\n",
      "Processing Record 7 of Set 2 | sinegorskiy\n",
      "Processing Record 8 of Set 2 | petatlan\n",
      "Processing Record 9 of Set 2 | santa rosa\n",
      "Processing Record 10 of Set 2 | ushuaia\n",
      "Processing Record 11 of Set 2 | ponta do sol\n",
      "Processing Record 12 of Set 2 | santa isabel do rio negro\n",
      "Processing Record 13 of Set 2 | lata\n",
      "Processing Record 14 of Set 2 | mitsamiouli\n",
      "Processing Record 15 of Set 2 | kapaa\n",
      "Processing Record 16 of Set 2 | dikson\n",
      "Processing Record 17 of Set 2 | okhotsk\n",
      "Processing Record 18 of Set 2 | buala\n",
      "Processing Record 19 of Set 2 | awbari\n",
      "Processing Record 20 of Set 2 | ilulissat\n",
      "Processing Record 21 of Set 2 | katsuura\n",
      "Processing Record 22 of Set 2 | yenagoa\n",
      "Processing Record 23 of Set 2 | georgetown\n",
      "Processing Record 24 of Set 2 | cherskiy\n",
      "Processing Record 25 of Set 2 | alihe\n",
      "Processing Record 26 of Set 2 | kruisfontein\n",
      "Processing Record 27 of Set 2 | port augusta\n",
      "Processing Record 28 of Set 2 | khatanga\n",
      "Processing Record 29 of Set 2 | ust-kuyga\n",
      "Processing Record 30 of Set 2 | changping\n",
      "Processing Record 31 of Set 2 | torbay\n",
      "Processing Record 32 of Set 2 | tautira\n",
      "Processing Record 33 of Set 2 | mount gambier\n",
      "Processing Record 34 of Set 2 | berezovyy\n",
      "Processing Record 35 of Set 2 | wajid\n",
      "Processing Record 36 of Set 2 | faya\n",
      "Processing Record 37 of Set 2 | shingu\n",
      "Processing Record 38 of Set 2 | bredasdorp\n",
      "Processing Record 39 of Set 2 | abu samrah\n",
      "Processing Record 40 of Set 2 | hasaki\n",
      "Processing Record 41 of Set 2 | paytug\n",
      "City not found. Skipping...\n",
      "Processing Record 42 of Set 2 | abha\n",
      "Processing Record 43 of Set 2 | sao joao da barra\n",
      "Processing Record 44 of Set 2 | changji\n",
      "Processing Record 45 of Set 2 | piacabucu\n",
      "Processing Record 46 of Set 2 | longyearbyen\n",
      "Processing Record 47 of Set 2 | mar del plata\n",
      "Processing Record 48 of Set 2 | ginir\n",
      "Processing Record 49 of Set 2 | lyngseidet\n",
      "Processing Record 50 of Set 2 | kodiak\n",
      "Processing Record 1 of Set 3 | bluff\n",
      "Processing Record 2 of Set 3 | amderma\n",
      "City not found. Skipping...\n",
      "Processing Record 3 of Set 3 | riyadh\n",
      "Processing Record 4 of Set 3 | antsohihy\n",
      "Processing Record 5 of Set 3 | vila velha\n",
      "Processing Record 6 of Set 3 | hithadhoo\n",
      "Processing Record 7 of Set 3 | mpika\n",
      "Processing Record 8 of Set 3 | busselton\n",
      "Processing Record 9 of Set 3 | leninskoye\n",
      "Processing Record 10 of Set 3 | srednekolymsk\n",
      "Processing Record 11 of Set 3 | kloulklubed\n",
      "Processing Record 12 of Set 3 | xining\n",
      "Processing Record 13 of Set 3 | chokurdakh\n",
      "Processing Record 14 of Set 3 | solnechnyy\n",
      "Processing Record 15 of Set 3 | tasiilaq\n",
      "Processing Record 16 of Set 3 | punta arenas\n",
      "Processing Record 17 of Set 3 | pacifica\n",
      "Processing Record 18 of Set 3 | kaitangata\n",
      "Processing Record 19 of Set 3 | saint-augustin\n",
      "Processing Record 20 of Set 3 | kadirli\n",
      "Processing Record 21 of Set 3 | galle\n",
      "Processing Record 22 of Set 3 | taoudenni\n",
      "Processing Record 23 of Set 3 | lensk\n",
      "Processing Record 24 of Set 3 | vokhma\n",
      "Processing Record 25 of Set 3 | bilma\n",
      "Processing Record 26 of Set 3 | tabiauea\n",
      "City not found. Skipping...\n",
      "Processing Record 27 of Set 3 | canton\n",
      "Processing Record 28 of Set 3 | gravdal\n",
      "Processing Record 29 of Set 3 | adrar\n",
      "Processing Record 30 of Set 3 | iqaluit\n",
      "Processing Record 31 of Set 3 | cidreira\n",
      "Processing Record 32 of Set 3 | ishim\n",
      "Processing Record 33 of Set 3 | lavrentiya\n",
      "Processing Record 34 of Set 3 | souillac\n",
      "Processing Record 35 of Set 3 | kasongo\n",
      "Processing Record 36 of Set 3 | sur\n",
      "Processing Record 37 of Set 3 | soe\n",
      "Processing Record 38 of Set 3 | new norfolk\n",
      "Processing Record 39 of Set 3 | geraldton\n",
      "Processing Record 40 of Set 3 | petropavlovsk-kamchatskiy\n",
      "Processing Record 41 of Set 3 | skagen\n",
      "Processing Record 42 of Set 3 | kirakira\n",
      "Processing Record 43 of Set 3 | sokoni\n",
      "Processing Record 44 of Set 3 | viedma\n",
      "Processing Record 45 of Set 3 | diego de almagro\n",
      "Processing Record 46 of Set 3 | mys shmidta\n",
      "City not found. Skipping...\n",
      "Processing Record 47 of Set 3 | saldanha\n",
      "Processing Record 48 of Set 3 | lebu\n",
      "Processing Record 49 of Set 3 | lagoa\n",
      "Processing Record 50 of Set 3 | muros\n",
      "Processing Record 1 of Set 4 | naze\n",
      "Processing Record 2 of Set 4 | avarua\n",
      "Processing Record 3 of Set 4 | nelson\n",
      "Processing Record 4 of Set 4 | hermanus\n",
      "Processing Record 5 of Set 4 | pokhara\n",
      "Processing Record 6 of Set 4 | langsa\n",
      "Processing Record 7 of Set 4 | aklavik\n",
      "Processing Record 8 of Set 4 | price\n",
      "Processing Record 9 of Set 4 | asfi\n",
      "Processing Record 10 of Set 4 | kuala lumpur\n",
      "Processing Record 11 of Set 4 | liverpool\n",
      "Processing Record 12 of Set 4 | senador guiomard\n",
      "Processing Record 13 of Set 4 | cayenne\n",
      "Processing Record 14 of Set 4 | beringovskiy\n",
      "Processing Record 15 of Set 4 | grand river south east\n",
      "City not found. Skipping...\n",
      "Processing Record 16 of Set 4 | barentsburg\n",
      "City not found. Skipping...\n",
      "Processing Record 17 of Set 4 | klaksvik\n",
      "Processing Record 18 of Set 4 | yuryevets\n",
      "Processing Record 19 of Set 4 | duncanville\n",
      "Processing Record 20 of Set 4 | tazovskiy\n",
      "Processing Record 21 of Set 4 | kaeo\n",
      "Processing Record 22 of Set 4 | deputatskiy\n",
      "Processing Record 23 of Set 4 | cabo san lucas\n",
      "Processing Record 24 of Set 4 | saint-philippe\n",
      "Processing Record 25 of Set 4 | mayo\n",
      "Processing Record 26 of Set 4 | san patricio\n",
      "Processing Record 27 of Set 4 | tiksi\n",
      "Processing Record 28 of Set 4 | saskylakh\n",
      "Processing Record 29 of Set 4 | qaanaaq\n",
      "Processing Record 30 of Set 4 | eenhana\n",
      "Processing Record 31 of Set 4 | ulaangom\n",
      "Processing Record 32 of Set 4 | fairbanks\n",
      "Processing Record 33 of Set 4 | falmouth\n",
      "Processing Record 34 of Set 4 | pacific grove\n",
      "Processing Record 35 of Set 4 | marcona\n",
      "City not found. Skipping...\n",
      "Processing Record 36 of Set 4 | ulladulla\n",
      "Processing Record 37 of Set 4 | escarcega\n",
      "Processing Record 38 of Set 4 | isangel\n",
      "Processing Record 39 of Set 4 | lebedyn\n",
      "Processing Record 40 of Set 4 | bima\n",
      "Processing Record 41 of Set 4 | mbamba\n",
      "Processing Record 42 of Set 4 | bilibino\n",
      "Processing Record 43 of Set 4 | cap malheureux\n"
     ]
    },
    {
     "name": "stdout",
     "output_type": "stream",
     "text": [
      "Processing Record 44 of Set 4 | trinidad\n",
      "Processing Record 45 of Set 4 | samusu\n",
      "City not found. Skipping...\n",
      "Processing Record 46 of Set 4 | tshikapa\n",
      "Processing Record 47 of Set 4 | castro\n",
      "Processing Record 48 of Set 4 | hami\n",
      "Processing Record 49 of Set 4 | airai\n",
      "Processing Record 50 of Set 4 | chapais\n",
      "Processing Record 1 of Set 5 | lagos\n",
      "Processing Record 2 of Set 5 | ahipara\n",
      "Processing Record 3 of Set 5 | san vicente\n",
      "Processing Record 4 of Set 5 | xiongyue\n",
      "Processing Record 5 of Set 5 | idlib\n",
      "Processing Record 6 of Set 5 | maldonado\n",
      "Processing Record 7 of Set 5 | hambantota\n",
      "Processing Record 8 of Set 5 | grand gaube\n",
      "Processing Record 9 of Set 5 | verkhnevilyuysk\n",
      "Processing Record 10 of Set 5 | rungata\n",
      "City not found. Skipping...\n",
      "Processing Record 11 of Set 5 | nanortalik\n",
      "Processing Record 12 of Set 5 | ucluelet\n",
      "Processing Record 13 of Set 5 | luderitz\n",
      "Processing Record 14 of Set 5 | rodos\n",
      "Processing Record 15 of Set 5 | bowen\n",
      "Processing Record 16 of Set 5 | borovskoy\n",
      "Processing Record 17 of Set 5 | langres\n",
      "Processing Record 18 of Set 5 | tzucacab\n",
      "Processing Record 19 of Set 5 | paucartambo\n",
      "City not found. Skipping...\n",
      "Processing Record 20 of Set 5 | dudinka\n",
      "Processing Record 21 of Set 5 | guerrero negro\n",
      "Processing Record 22 of Set 5 | ngukurr\n",
      "City not found. Skipping...\n",
      "Processing Record 23 of Set 5 | varkaus\n",
      "Processing Record 24 of Set 5 | uhlove\n",
      "Processing Record 25 of Set 5 | tsihombe\n",
      "City not found. Skipping...\n",
      "Processing Record 26 of Set 5 | solovetskiy\n",
      "City not found. Skipping...\n",
      "Processing Record 27 of Set 5 | alofi\n",
      "Processing Record 28 of Set 5 | talnakh\n",
      "Processing Record 29 of Set 5 | naryan-mar\n",
      "Processing Record 30 of Set 5 | bengkulu\n",
      "Processing Record 31 of Set 5 | victoria\n",
      "Processing Record 32 of Set 5 | galdar\n",
      "Processing Record 33 of Set 5 | chimore\n",
      "Processing Record 34 of Set 5 | varkkallai\n",
      "Processing Record 35 of Set 5 | los llanos de aridane\n",
      "Processing Record 36 of Set 5 | rio gallegos\n",
      "Processing Record 37 of Set 5 | anloga\n",
      "Processing Record 38 of Set 5 | matagami\n",
      "Processing Record 39 of Set 5 | aitape\n",
      "Processing Record 40 of Set 5 | yinchuan\n",
      "Processing Record 41 of Set 5 | te anau\n",
      "Processing Record 42 of Set 5 | zheshart\n",
      "Processing Record 43 of Set 5 | rabaul\n",
      "Processing Record 44 of Set 5 | pemba\n",
      "Processing Record 45 of Set 5 | bambanglipuro\n",
      "Processing Record 46 of Set 5 | rocha\n",
      "Processing Record 47 of Set 5 | vaitupu\n",
      "City not found. Skipping...\n",
      "Processing Record 48 of Set 5 | ramos arizpe\n",
      "Processing Record 49 of Set 5 | port lincoln\n",
      "Processing Record 50 of Set 5 | pangnirtung\n",
      "Processing Record 1 of Set 6 | peniche\n",
      "Processing Record 2 of Set 6 | richards bay\n",
      "Processing Record 3 of Set 6 | chiang khong\n",
      "Processing Record 4 of Set 6 | sentyabrskiy\n",
      "City not found. Skipping...\n",
      "Processing Record 5 of Set 6 | gazli\n",
      "Processing Record 6 of Set 6 | pevek\n",
      "Processing Record 7 of Set 6 | rochester\n",
      "Processing Record 8 of Set 6 | namanga\n",
      "Processing Record 9 of Set 6 | salina\n",
      "Processing Record 10 of Set 6 | dunedin\n",
      "Processing Record 11 of Set 6 | illoqqortoormiut\n",
      "City not found. Skipping...\n",
      "Processing Record 12 of Set 6 | khilok\n",
      "Processing Record 13 of Set 6 | the valley\n",
      "Processing Record 14 of Set 6 | ribeira grande\n",
      "Processing Record 15 of Set 6 | meulaboh\n",
      "Processing Record 16 of Set 6 | north bend\n",
      "Processing Record 17 of Set 6 | priargunsk\n",
      "Processing Record 18 of Set 6 | tiarei\n",
      "Processing Record 19 of Set 6 | awjilah\n",
      "Processing Record 20 of Set 6 | barbar\n",
      "City not found. Skipping...\n",
      "Processing Record 21 of Set 6 | samarai\n",
      "Processing Record 22 of Set 6 | lorengau\n",
      "Processing Record 23 of Set 6 | port hedland\n",
      "Processing Record 24 of Set 6 | port moresby\n",
      "Processing Record 25 of Set 6 | kieta\n",
      "Processing Record 26 of Set 6 | inverness\n",
      "Processing Record 27 of Set 6 | mecca\n",
      "Processing Record 28 of Set 6 | belushya guba\n",
      "City not found. Skipping...\n",
      "Processing Record 29 of Set 6 | niles\n",
      "Processing Record 30 of Set 6 | tupelo\n",
      "Processing Record 31 of Set 6 | carnwath\n",
      "Processing Record 32 of Set 6 | bada\n",
      "Processing Record 33 of Set 6 | boyolangu\n",
      "Processing Record 34 of Set 6 | bahia honda\n",
      "Processing Record 35 of Set 6 | namibe\n",
      "Processing Record 36 of Set 6 | redondela\n",
      "Processing Record 37 of Set 6 | mrirt\n",
      "City not found. Skipping...\n",
      "Processing Record 38 of Set 6 | umzimvubu\n",
      "City not found. Skipping...\n",
      "Processing Record 39 of Set 6 | vostok\n",
      "Processing Record 40 of Set 6 | micheweni\n",
      "Processing Record 41 of Set 6 | henties bay\n",
      "Processing Record 42 of Set 6 | arraial do cabo\n",
      "Processing Record 43 of Set 6 | stephenville\n",
      "Processing Record 44 of Set 6 | praia\n",
      "Processing Record 45 of Set 6 | amalner\n",
      "Processing Record 46 of Set 6 | sioux lookout\n",
      "Processing Record 47 of Set 6 | dzhebariki-khaya\n",
      "Processing Record 48 of Set 6 | honiara\n",
      "Processing Record 49 of Set 6 | roebourne\n",
      "Processing Record 50 of Set 6 | fuerte olimpo\n",
      "Processing Record 1 of Set 7 | harindanga\n",
      "Processing Record 2 of Set 7 | olafsvik\n",
      "Processing Record 3 of Set 7 | shirokiy\n",
      "Processing Record 4 of Set 7 | dicamay\n",
      "Processing Record 5 of Set 7 | zhigansk\n",
      "Processing Record 6 of Set 7 | shakawe\n",
      "Processing Record 7 of Set 7 | laguna de perlas\n",
      "Processing Record 8 of Set 7 | sumbuya\n",
      "Processing Record 9 of Set 7 | vila franca do campo\n",
      "Processing Record 10 of Set 7 | arona\n",
      "Processing Record 11 of Set 7 | san jose\n",
      "Processing Record 12 of Set 7 | san antonio\n",
      "Processing Record 13 of Set 7 | belmonte\n",
      "Processing Record 14 of Set 7 | boone\n",
      "Processing Record 15 of Set 7 | satitoa\n",
      "City not found. Skipping...\n",
      "Processing Record 16 of Set 7 | novokizhinginsk\n",
      "Processing Record 17 of Set 7 | nampula\n",
      "Processing Record 18 of Set 7 | lodwar\n",
      "Processing Record 19 of Set 7 | esperance\n",
      "Processing Record 20 of Set 7 | petrovsk-zabaykalskiy\n",
      "Processing Record 21 of Set 7 | attawapiskat\n",
      "City not found. Skipping...\n",
      "Processing Record 22 of Set 7 | jiujiang\n",
      "Processing Record 23 of Set 7 | mocuba\n",
      "Processing Record 24 of Set 7 | norman wells\n",
      "Processing Record 25 of Set 7 | sao filipe\n",
      "Processing Record 26 of Set 7 | kavaratti\n",
      "Processing Record 27 of Set 7 | itarema\n",
      "Processing Record 28 of Set 7 | betong\n",
      "Processing Record 29 of Set 7 | rawson\n",
      "Processing Record 30 of Set 7 | nizwa\n",
      "Processing Record 31 of Set 7 | waddan\n",
      "Processing Record 32 of Set 7 | walvis bay\n",
      "Processing Record 33 of Set 7 | mayumba\n",
      "Processing Record 34 of Set 7 | ixtapa\n",
      "Processing Record 35 of Set 7 | zyryanka\n",
      "Processing Record 36 of Set 7 | puerto montt\n",
      "Processing Record 37 of Set 7 | severo-kurilsk\n",
      "Processing Record 38 of Set 7 | tipp city\n",
      "Processing Record 39 of Set 7 | portland\n",
      "Processing Record 40 of Set 7 | bayan\n",
      "Processing Record 41 of Set 7 | tankhoy\n",
      "Processing Record 42 of Set 7 | port hardy\n",
      "Processing Record 43 of Set 7 | korla\n",
      "Processing Record 44 of Set 7 | charagua\n",
      "Processing Record 45 of Set 7 | shetpe\n",
      "Processing Record 46 of Set 7 | husavik\n",
      "Processing Record 47 of Set 7 | tierranueva\n",
      "Processing Record 48 of Set 7 | timberlake\n",
      "Processing Record 49 of Set 7 | asayita\n",
      "City not found. Skipping...\n",
      "Processing Record 50 of Set 7 | campana\n",
      "Processing Record 1 of Set 8 | gardan diwal\n",
      "City not found. Skipping...\n",
      "Processing Record 2 of Set 8 | manta\n",
      "Processing Record 3 of Set 8 | viransehir\n",
      "Processing Record 4 of Set 8 | benjamin aceval\n",
      "Processing Record 5 of Set 8 | natal\n",
      "Processing Record 6 of Set 8 | mitu\n",
      "Processing Record 7 of Set 8 | stornoway\n",
      "Processing Record 8 of Set 8 | nioro\n",
      "Processing Record 9 of Set 8 | vardo\n",
      "Processing Record 10 of Set 8 | andenes\n",
      "Processing Record 11 of Set 8 | provideniya\n",
      "Processing Record 12 of Set 8 | shellbrook\n",
      "Processing Record 13 of Set 8 | chagda\n",
      "City not found. Skipping...\n",
      "Processing Record 14 of Set 8 | narsaq\n",
      "Processing Record 15 of Set 8 | bobrovka\n",
      "Processing Record 16 of Set 8 | vanimo\n",
      "Processing Record 17 of Set 8 | tilichiki\n",
      "Processing Record 18 of Set 8 | yanam\n",
      "Processing Record 19 of Set 8 | jilikul\n",
      "Processing Record 20 of Set 8 | montegranaro\n",
      "Processing Record 21 of Set 8 | burnie\n",
      "Processing Record 22 of Set 8 | ambrolauri\n",
      "Processing Record 23 of Set 8 | pringsewu\n",
      "Processing Record 24 of Set 8 | dresden\n",
      "Processing Record 25 of Set 8 | savannah bight\n",
      "Processing Record 26 of Set 8 | longkou\n",
      "Processing Record 27 of Set 8 | darhan\n",
      "Processing Record 28 of Set 8 | raga\n",
      "Processing Record 29 of Set 8 | canmore\n",
      "Processing Record 30 of Set 8 | galiwinku\n"
     ]
    },
    {
     "name": "stdout",
     "output_type": "stream",
     "text": [
      "City not found. Skipping...\n",
      "Processing Record 31 of Set 8 | morondava\n",
      "Processing Record 32 of Set 8 | college\n",
      "Processing Record 33 of Set 8 | aksu\n",
      "Processing Record 34 of Set 8 | kushima\n",
      "Processing Record 35 of Set 8 | bontang\n",
      "Processing Record 36 of Set 8 | kadoshkino\n",
      "Processing Record 37 of Set 8 | bambous virieux\n",
      "Processing Record 38 of Set 8 | tonantins\n",
      "Processing Record 39 of Set 8 | sibu\n",
      "Processing Record 40 of Set 8 | hovd\n",
      "Processing Record 41 of Set 8 | dandong\n",
      "Processing Record 42 of Set 8 | maceio\n",
      "Processing Record 43 of Set 8 | nikel\n",
      "Processing Record 44 of Set 8 | emba\n",
      "Processing Record 45 of Set 8 | derzhavinsk\n",
      "Processing Record 46 of Set 8 | seoul\n",
      "Processing Record 47 of Set 8 | margate\n",
      "Processing Record 48 of Set 8 | longlac\n",
      "City not found. Skipping...\n",
      "Processing Record 49 of Set 8 | costinesti\n",
      "Processing Record 50 of Set 8 | salalah\n",
      "Processing Record 1 of Set 9 | svetlyy\n",
      "Processing Record 2 of Set 9 | abnub\n",
      "Processing Record 3 of Set 9 | alvorada\n",
      "Processing Record 4 of Set 9 | imbituba\n",
      "Processing Record 5 of Set 9 | elizabethtown\n",
      "Processing Record 6 of Set 9 | harper\n",
      "Processing Record 7 of Set 9 | gurskoye\n",
      "City not found. Skipping...\n",
      "Processing Record 8 of Set 9 | grindavik\n",
      "Processing Record 9 of Set 9 | san cristobal\n",
      "Processing Record 10 of Set 9 | hokitika\n",
      "Processing Record 11 of Set 9 | banmo\n",
      "City not found. Skipping...\n",
      "Processing Record 12 of Set 9 | beidao\n",
      "Processing Record 13 of Set 9 | gander\n",
      "Processing Record 14 of Set 9 | salinopolis\n",
      "Processing Record 15 of Set 9 | kavieng\n",
      "Processing Record 16 of Set 9 | yining\n",
      "Processing Record 17 of Set 9 | safipur\n",
      "Processing Record 18 of Set 9 | magione\n",
      "Processing Record 19 of Set 9 | shimoda\n",
      "Processing Record 20 of Set 9 | tayu\n",
      "Processing Record 21 of Set 9 | havre-saint-pierre\n",
      "Processing Record 22 of Set 9 | guinguineo\n",
      "Processing Record 23 of Set 9 | corrales\n",
      "Processing Record 24 of Set 9 | karpogory\n",
      "Processing Record 25 of Set 9 | codrington\n",
      "Processing Record 26 of Set 9 | nome\n",
      "Processing Record 27 of Set 9 | pimentel\n",
      "Processing Record 28 of Set 9 | teya\n",
      "Processing Record 29 of Set 9 | komsomolskiy\n",
      "Processing Record 30 of Set 9 | bandarbeyla\n",
      "Processing Record 31 of Set 9 | moose factory\n",
      "Processing Record 32 of Set 9 | buchanan\n",
      "Processing Record 33 of Set 9 | itaituba\n",
      "Processing Record 34 of Set 9 | jibuti\n",
      "Processing Record 35 of Set 9 | maragogi\n",
      "Processing Record 36 of Set 9 | liwale\n",
      "Processing Record 37 of Set 9 | ilinskiy\n",
      "Processing Record 38 of Set 9 | santa maria\n",
      "Processing Record 39 of Set 9 | invermere\n",
      "Processing Record 40 of Set 9 | manga\n",
      "Processing Record 41 of Set 9 | pochutla\n",
      "Processing Record 42 of Set 9 | borama\n",
      "City not found. Skipping...\n",
      "Processing Record 43 of Set 9 | calderitas\n",
      "Processing Record 44 of Set 9 | warqla\n",
      "City not found. Skipping...\n",
      "Processing Record 45 of Set 9 | manzanillo\n",
      "Processing Record 46 of Set 9 | haines junction\n",
      "Processing Record 47 of Set 9 | palas\n",
      "Processing Record 48 of Set 9 | leh\n",
      "Processing Record 49 of Set 9 | sorland\n",
      "Processing Record 50 of Set 9 | wanaka\n",
      "Processing Record 1 of Set 10 | eloy\n",
      "Processing Record 2 of Set 10 | amahai\n",
      "Processing Record 3 of Set 10 | hamilton\n",
      "Processing Record 4 of Set 10 | goba\n",
      "Processing Record 5 of Set 10 | lompoc\n",
      "Processing Record 6 of Set 10 | beloha\n",
      "Processing Record 7 of Set 10 | elko\n",
      "Processing Record 8 of Set 10 | oranjemund\n",
      "Processing Record 9 of Set 10 | yumen\n",
      "Processing Record 10 of Set 10 | lasa\n",
      "Processing Record 11 of Set 10 | krasnoselkup\n",
      "Processing Record 12 of Set 10 | les cayes\n",
      "Processing Record 13 of Set 10 | bejar\n",
      "Processing Record 14 of Set 10 | egvekinot\n",
      "Processing Record 15 of Set 10 | mokolo\n",
      "Processing Record 16 of Set 10 | masuguru\n",
      "Processing Record 17 of Set 10 | high level\n",
      "Processing Record 18 of Set 10 | tual\n",
      "Processing Record 19 of Set 10 | novikovo\n",
      "Processing Record 20 of Set 10 | sakakah\n",
      "Processing Record 21 of Set 10 | hihifo\n",
      "City not found. Skipping...\n",
      "Processing Record 22 of Set 10 | volchikha\n",
      "Processing Record 23 of Set 10 | cupar\n",
      "Processing Record 24 of Set 10 | play cu\n",
      "City not found. Skipping...\n",
      "Processing Record 25 of Set 10 | chumikan\n",
      "Processing Record 26 of Set 10 | aswan\n",
      "Processing Record 27 of Set 10 | san policarpo\n",
      "Processing Record 28 of Set 10 | taft\n",
      "Processing Record 29 of Set 10 | paamiut\n",
      "Processing Record 30 of Set 10 | touros\n",
      "Processing Record 31 of Set 10 | kamenskoye\n",
      "City not found. Skipping...\n",
      "Processing Record 32 of Set 10 | turbat\n",
      "Processing Record 33 of Set 10 | kununurra\n",
      "Processing Record 34 of Set 10 | zaozerne\n",
      "Processing Record 35 of Set 10 | firovo\n",
      "Processing Record 36 of Set 10 | gizo\n",
      "Processing Record 37 of Set 10 | indian head\n",
      "Processing Record 38 of Set 10 | berlevag\n",
      "Processing Record 39 of Set 10 | poum\n",
      "Processing Record 40 of Set 10 | omsukchan\n",
      "Processing Record 41 of Set 10 | palabuhanratu\n",
      "City not found. Skipping...\n",
      "Processing Record 42 of Set 10 | ancud\n",
      "Processing Record 43 of Set 10 | tiruvalla\n",
      "Processing Record 44 of Set 10 | uvalde\n",
      "Processing Record 45 of Set 10 | coquimbo\n",
      "Processing Record 46 of Set 10 | sant feliu de guixols\n",
      "Processing Record 47 of Set 10 | pisco\n",
      "Processing Record 48 of Set 10 | gorno-chuyskiy\n",
      "City not found. Skipping...\n",
      "Processing Record 49 of Set 10 | campoverde\n",
      "Processing Record 50 of Set 10 | tatarsk\n",
      "Processing Record 1 of Set 11 | padang\n",
      "Processing Record 2 of Set 11 | beira\n",
      "Processing Record 3 of Set 11 | guilin\n",
      "Processing Record 4 of Set 11 | tahoua\n",
      "Processing Record 5 of Set 11 | yulara\n",
      "Processing Record 6 of Set 11 | fort nelson\n",
      "Processing Record 7 of Set 11 | ciparay\n",
      "Processing Record 8 of Set 11 | astana\n",
      "Processing Record 9 of Set 11 | ponta delgada\n",
      "Processing Record 10 of Set 11 | constitucion\n",
      "Processing Record 11 of Set 11 | klyuchi\n",
      "Processing Record 12 of Set 11 | bukama\n",
      "Processing Record 13 of Set 11 | huajuapan\n",
      "City not found. Skipping...\n",
      "Processing Record 14 of Set 11 | voyvozh\n",
      "Processing Record 15 of Set 11 | kinshasa\n",
      "Processing Record 16 of Set 11 | palma\n",
      "Processing Record 17 of Set 11 | mattru\n",
      "Processing Record 18 of Set 11 | manaure\n",
      "Processing Record 19 of Set 11 | paita\n",
      "Processing Record 20 of Set 11 | baykit\n",
      "Processing Record 21 of Set 11 | siare\n",
      "City not found. Skipping...\n",
      "Processing Record 22 of Set 11 | waipawa\n",
      "Processing Record 23 of Set 11 | namatanai\n",
      "Processing Record 24 of Set 11 | leningradskiy\n",
      "Processing Record 25 of Set 11 | lashio\n",
      "Processing Record 26 of Set 11 | gasa\n",
      "Processing Record 27 of Set 11 | upernavik\n",
      "Processing Record 28 of Set 11 | nykoping\n",
      "Processing Record 29 of Set 11 | sistranda\n",
      "Processing Record 30 of Set 11 | labuhan\n",
      "Processing Record 31 of Set 11 | karlskrona\n",
      "Processing Record 32 of Set 11 | quebec\n",
      "Processing Record 33 of Set 11 | luanda\n",
      "Processing Record 34 of Set 11 | mehamn\n",
      "Processing Record 35 of Set 11 | ust-maya\n",
      "Processing Record 36 of Set 11 | cheuskiny\n",
      "City not found. Skipping...\n",
      "Processing Record 37 of Set 11 | shatsk\n",
      "Processing Record 38 of Set 11 | constantine\n",
      "Processing Record 39 of Set 11 | cumpas\n",
      "Processing Record 40 of Set 11 | muroto\n",
      "Processing Record 41 of Set 11 | adre\n",
      "Processing Record 42 of Set 11 | quatre cocos\n",
      "Processing Record 43 of Set 11 | lolua\n",
      "City not found. Skipping...\n",
      "Processing Record 44 of Set 11 | lima\n",
      "Processing Record 45 of Set 11 | khokhryaki\n",
      "Processing Record 46 of Set 11 | hit\n",
      "Processing Record 47 of Set 11 | prince rupert\n",
      "Processing Record 48 of Set 11 | ust-ilimsk\n",
      "Processing Record 49 of Set 11 | xiongzhou\n",
      "Processing Record 50 of Set 11 | mahibadhoo\n",
      "Processing Record 1 of Set 12 | korgen\n",
      "Processing Record 2 of Set 12 | vestmannaeyjar\n",
      "Processing Record 3 of Set 12 | nizhneyansk\n",
      "City not found. Skipping...\n",
      "Processing Record 4 of Set 12 | sinkat\n",
      "City not found. Skipping...\n",
      "Processing Record 5 of Set 12 | ikalamavony\n",
      "Processing Record 6 of Set 12 | kotelnikovo\n",
      "Processing Record 7 of Set 12 | santana do livramento\n",
      "Processing Record 8 of Set 12 | gavrilovka vtoraya\n",
      "Processing Record 9 of Set 12 | ketchikan\n",
      "Processing Record 10 of Set 12 | babanusah\n",
      "City not found. Skipping...\n",
      "Processing Record 11 of Set 12 | takaka\n",
      "Processing Record 12 of Set 12 | longford\n",
      "Processing Record 13 of Set 12 | makakilo city\n",
      "Processing Record 14 of Set 12 | tripoli\n",
      "Processing Record 15 of Set 12 | esfarayen\n",
      "Processing Record 16 of Set 12 | tornio\n",
      "Processing Record 17 of Set 12 | jacala\n"
     ]
    },
    {
     "name": "stdout",
     "output_type": "stream",
     "text": [
      "Processing Record 18 of Set 12 | ostrovnoy\n",
      "Processing Record 19 of Set 12 | broken hill\n",
      "Processing Record 20 of Set 12 | temaraia\n",
      "City not found. Skipping...\n",
      "Processing Record 21 of Set 12 | murray bridge\n",
      "Processing Record 22 of Set 12 | artyk\n",
      "City not found. Skipping...\n",
      "Processing Record 23 of Set 12 | gobabis\n",
      "Processing Record 24 of Set 12 | oudtshoorn\n",
      "Processing Record 25 of Set 12 | ovsyanka\n",
      "Processing Record 26 of Set 12 | progreso\n",
      "Processing Record 27 of Set 12 | hirado\n",
      "Processing Record 28 of Set 12 | nerchinskiy zavod\n",
      "Processing Record 29 of Set 12 | benjamin hill\n",
      "Processing Record 30 of Set 12 | mount pleasant\n",
      "Processing Record 31 of Set 12 | bafq\n",
      "Processing Record 32 of Set 12 | barahona\n",
      "Processing Record 33 of Set 12 | chardara\n",
      "Processing Record 34 of Set 12 | navirai\n",
      "Processing Record 35 of Set 12 | caucaia\n",
      "Processing Record 36 of Set 12 | tura\n",
      "Processing Record 37 of Set 12 | itoman\n",
      "Processing Record 38 of Set 12 | slave lake\n",
      "Processing Record 39 of Set 12 | agadir\n",
      "Processing Record 40 of Set 12 | cockburn harbour\n",
      "City not found. Skipping...\n",
      "Processing Record 41 of Set 12 | zelenogorskiy\n",
      "Processing Record 42 of Set 12 | billings\n",
      "Processing Record 43 of Set 12 | sahrak\n",
      "City not found. Skipping...\n",
      "Processing Record 44 of Set 12 | avila\n",
      "Processing Record 45 of Set 12 | tumannyy\n",
      "City not found. Skipping...\n",
      "Processing Record 46 of Set 12 | daru\n",
      "Processing Record 47 of Set 12 | oranjestad\n",
      "Processing Record 48 of Set 12 | maumere\n",
      "Processing Record 49 of Set 12 | mentok\n",
      "City not found. Skipping...\n",
      "Processing Record 50 of Set 12 | ambilobe\n",
      "Processing Record 1 of Set 13 | bykov\n",
      "Processing Record 2 of Set 13 | saint pete beach\n",
      "Processing Record 3 of Set 13 | coolum beach\n",
      "Processing Record 4 of Set 13 | bathsheba\n",
      "Processing Record 5 of Set 13 | arman\n",
      "Processing Record 6 of Set 13 | saleaula\n",
      "City not found. Skipping...\n",
      "Processing Record 7 of Set 13 | redmond\n",
      "Processing Record 8 of Set 13 | bukan\n",
      "Processing Record 9 of Set 13 | jishou\n",
      "Processing Record 10 of Set 13 | tarudant\n",
      "City not found. Skipping...\n",
      "Processing Record 11 of Set 13 | poya\n",
      "Processing Record 12 of Set 13 | champerico\n",
      "Processing Record 13 of Set 13 | karaul\n",
      "City not found. Skipping...\n"
     ]
    }
   ],
   "source": [
    "lat = []\n",
    "lng=[]\n",
    "temp=[]\n",
    "maxtemp = []\n",
    "humidity=[]\n",
    "cloudiness=[]\n",
    "windspeed=[]\n",
    "country=[]\n",
    "date=[]\n",
    "newcities=[]\n",
    "\n",
    "record=1\n",
    "setcounter=1\n",
    "\n",
    "# Build partial query URL\n",
    "units = \"imperial\"\n",
    "query_url = f\"{url}appid={weather_api_key}&units={units}&q=\"\n",
    "\n",
    "print (\"Beginning Data Retrieval\")     \n",
    "print (\"-----------------------------\")\n",
    "for city in cities:\n",
    "    if record > 50:\n",
    "        setcounter +=1\n",
    "        record = 1\n",
    "    print (f\"Processing Record {record} of Set {setcounter} | {city}\")\n",
    "    record +=1\n",
    "    try:\n",
    "        response = requests.get(query_url + city).json()\n",
    "        lat.append(response['coord']['lat'])\n",
    "        lng.append(response['coord']['lon'])\n",
    "        temp.append(response['main']['temp'])\n",
    "        maxtemp.append(response['main']['temp_max'])\n",
    "        humidity.append(response['main']['humidity'])\n",
    "        cloudiness.append(response['clouds']['all'])\n",
    "        windspeed.append(response['wind']['speed'])\n",
    "        country.append(response['sys']['country'])\n",
    "        date.append(response['dt'])\n",
    "        newcities.append(city)\n",
    "        \n",
    "    except:\n",
    "        print (\"City not found. Skipping...\")                        \n",
    "        pass\n",
    "    \n",
    "\n",
    "    "
   ]
  },
  {
   "cell_type": "code",
   "execution_count": 13,
   "metadata": {},
   "outputs": [
    {
     "name": "stdout",
     "output_type": "stream",
     "text": [
      "[]\n"
     ]
    }
   ],
   "source": [
    "print (maxtemp)"
   ]
  },
  {
   "cell_type": "code",
   "execution_count": 17,
   "metadata": {},
   "outputs": [
    {
     "data": {
      "text/html": [
       "<div>\n",
       "<style scoped>\n",
       "    .dataframe tbody tr th:only-of-type {\n",
       "        vertical-align: middle;\n",
       "    }\n",
       "\n",
       "    .dataframe tbody tr th {\n",
       "        vertical-align: top;\n",
       "    }\n",
       "\n",
       "    .dataframe thead th {\n",
       "        text-align: right;\n",
       "    }\n",
       "</style>\n",
       "<table border=\"1\" class=\"dataframe\">\n",
       "  <thead>\n",
       "    <tr style=\"text-align: right;\">\n",
       "      <th></th>\n",
       "      <th>City</th>\n",
       "      <th>Latitude</th>\n",
       "      <th>Longitude</th>\n",
       "      <th>Max Temp</th>\n",
       "      <th>Humidity</th>\n",
       "      <th>Cloudiness</th>\n",
       "      <th>Wind Speed</th>\n",
       "      <th>Country</th>\n",
       "      <th>Date</th>\n",
       "    </tr>\n",
       "  </thead>\n",
       "  <tbody>\n",
       "    <tr>\n",
       "      <th>0</th>\n",
       "      <td>port alfred</td>\n",
       "      <td>-33.59</td>\n",
       "      <td>26.89</td>\n",
       "      <td>64.49</td>\n",
       "      <td>44</td>\n",
       "      <td>0</td>\n",
       "      <td>9.73</td>\n",
       "      <td>ZA</td>\n",
       "      <td>1595466755</td>\n",
       "    </tr>\n",
       "    <tr>\n",
       "      <th>1</th>\n",
       "      <td>bubaque</td>\n",
       "      <td>11.28</td>\n",
       "      <td>-15.83</td>\n",
       "      <td>80.87</td>\n",
       "      <td>82</td>\n",
       "      <td>100</td>\n",
       "      <td>10.04</td>\n",
       "      <td>GW</td>\n",
       "      <td>1595466723</td>\n",
       "    </tr>\n",
       "    <tr>\n",
       "      <th>2</th>\n",
       "      <td>seoni malwa</td>\n",
       "      <td>22.45</td>\n",
       "      <td>77.47</td>\n",
       "      <td>80.06</td>\n",
       "      <td>81</td>\n",
       "      <td>100</td>\n",
       "      <td>3.69</td>\n",
       "      <td>IN</td>\n",
       "      <td>1595466755</td>\n",
       "    </tr>\n",
       "    <tr>\n",
       "      <th>3</th>\n",
       "      <td>bhanvad</td>\n",
       "      <td>21.93</td>\n",
       "      <td>69.77</td>\n",
       "      <td>80.92</td>\n",
       "      <td>84</td>\n",
       "      <td>94</td>\n",
       "      <td>8.72</td>\n",
       "      <td>IN</td>\n",
       "      <td>1595466755</td>\n",
       "    </tr>\n",
       "    <tr>\n",
       "      <th>4</th>\n",
       "      <td>san quintin</td>\n",
       "      <td>30.48</td>\n",
       "      <td>-115.95</td>\n",
       "      <td>67.86</td>\n",
       "      <td>76</td>\n",
       "      <td>35</td>\n",
       "      <td>16.13</td>\n",
       "      <td>MX</td>\n",
       "      <td>1595466756</td>\n",
       "    </tr>\n",
       "    <tr>\n",
       "      <th>...</th>\n",
       "      <td>...</td>\n",
       "      <td>...</td>\n",
       "      <td>...</td>\n",
       "      <td>...</td>\n",
       "      <td>...</td>\n",
       "      <td>...</td>\n",
       "      <td>...</td>\n",
       "      <td>...</td>\n",
       "      <td>...</td>\n",
       "    </tr>\n",
       "    <tr>\n",
       "      <th>554</th>\n",
       "      <td>redmond</td>\n",
       "      <td>47.67</td>\n",
       "      <td>-122.12</td>\n",
       "      <td>70.00</td>\n",
       "      <td>74</td>\n",
       "      <td>23</td>\n",
       "      <td>3.85</td>\n",
       "      <td>US</td>\n",
       "      <td>1595466621</td>\n",
       "    </tr>\n",
       "    <tr>\n",
       "      <th>555</th>\n",
       "      <td>bukan</td>\n",
       "      <td>36.52</td>\n",
       "      <td>46.21</td>\n",
       "      <td>68.09</td>\n",
       "      <td>26</td>\n",
       "      <td>0</td>\n",
       "      <td>1.25</td>\n",
       "      <td>IR</td>\n",
       "      <td>1595466892</td>\n",
       "    </tr>\n",
       "    <tr>\n",
       "      <th>556</th>\n",
       "      <td>jishou</td>\n",
       "      <td>28.32</td>\n",
       "      <td>109.72</td>\n",
       "      <td>82.63</td>\n",
       "      <td>74</td>\n",
       "      <td>95</td>\n",
       "      <td>3.58</td>\n",
       "      <td>CN</td>\n",
       "      <td>1595466892</td>\n",
       "    </tr>\n",
       "    <tr>\n",
       "      <th>557</th>\n",
       "      <td>poya</td>\n",
       "      <td>-21.35</td>\n",
       "      <td>165.15</td>\n",
       "      <td>71.22</td>\n",
       "      <td>62</td>\n",
       "      <td>83</td>\n",
       "      <td>6.93</td>\n",
       "      <td>NC</td>\n",
       "      <td>1595466892</td>\n",
       "    </tr>\n",
       "    <tr>\n",
       "      <th>558</th>\n",
       "      <td>champerico</td>\n",
       "      <td>14.30</td>\n",
       "      <td>-91.92</td>\n",
       "      <td>82.47</td>\n",
       "      <td>73</td>\n",
       "      <td>100</td>\n",
       "      <td>2.30</td>\n",
       "      <td>GT</td>\n",
       "      <td>1595466892</td>\n",
       "    </tr>\n",
       "  </tbody>\n",
       "</table>\n",
       "<p>559 rows × 9 columns</p>\n",
       "</div>"
      ],
      "text/plain": [
       "            City  Latitude  Longitude  Max Temp  Humidity  Cloudiness  \\\n",
       "0    port alfred    -33.59      26.89     64.49        44           0   \n",
       "1        bubaque     11.28     -15.83     80.87        82         100   \n",
       "2    seoni malwa     22.45      77.47     80.06        81         100   \n",
       "3        bhanvad     21.93      69.77     80.92        84          94   \n",
       "4    san quintin     30.48    -115.95     67.86        76          35   \n",
       "..           ...       ...        ...       ...       ...         ...   \n",
       "554      redmond     47.67    -122.12     70.00        74          23   \n",
       "555        bukan     36.52      46.21     68.09        26           0   \n",
       "556       jishou     28.32     109.72     82.63        74          95   \n",
       "557         poya    -21.35     165.15     71.22        62          83   \n",
       "558   champerico     14.30     -91.92     82.47        73         100   \n",
       "\n",
       "     Wind Speed Country        Date  \n",
       "0          9.73      ZA  1595466755  \n",
       "1         10.04      GW  1595466723  \n",
       "2          3.69      IN  1595466755  \n",
       "3          8.72      IN  1595466755  \n",
       "4         16.13      MX  1595466756  \n",
       "..          ...     ...         ...  \n",
       "554        3.85      US  1595466621  \n",
       "555        1.25      IR  1595466892  \n",
       "556        3.58      CN  1595466892  \n",
       "557        6.93      NC  1595466892  \n",
       "558        2.30      GT  1595466892  \n",
       "\n",
       "[559 rows x 9 columns]"
      ]
     },
     "execution_count": 17,
     "metadata": {},
     "output_type": "execute_result"
    }
   ],
   "source": [
    "\n",
    "weatherdf=pd.DataFrame({\"City\":newcities,\n",
    "              \"Latitude\":lat,\n",
    "              'Longitude':lng,\n",
    "            \"Max Temp\": maxtemp,\n",
    "             'Humidity': humidity,\n",
    "             'Cloudiness': cloudiness,\n",
    "             \"Wind Speed\": windspeed,\n",
    "             \"Country\": country,\n",
    "             \"Date\": date})\n",
    "weatherdf"
   ]
  },
  {
   "cell_type": "markdown",
   "metadata": {},
   "source": [
    "### Convert Raw Data to DataFrame\n",
    "* Export the city data into a .csv.\n",
    "* Display the DataFrame"
   ]
  },
  {
   "cell_type": "code",
   "execution_count": 18,
   "metadata": {},
   "outputs": [
    {
     "data": {
      "text/plain": [
       "City          559\n",
       "Latitude      559\n",
       "Longitude     559\n",
       "Max Temp      559\n",
       "Humidity      559\n",
       "Cloudiness    559\n",
       "Wind Speed    559\n",
       "Country       559\n",
       "Date          559\n",
       "dtype: int64"
      ]
     },
     "execution_count": 18,
     "metadata": {},
     "output_type": "execute_result"
    }
   ],
   "source": [
    "weatherdf.count()"
   ]
  },
  {
   "cell_type": "markdown",
   "metadata": {},
   "source": [
    "## Inspect the data and remove the cities where the humidity > 100%.\n",
    "----\n",
    "Skip this step if there are no cities that have humidity > 100%. "
   ]
  },
  {
   "cell_type": "code",
   "execution_count": 19,
   "metadata": {},
   "outputs": [
    {
     "data": {
      "text/html": [
       "<div>\n",
       "<style scoped>\n",
       "    .dataframe tbody tr th:only-of-type {\n",
       "        vertical-align: middle;\n",
       "    }\n",
       "\n",
       "    .dataframe tbody tr th {\n",
       "        vertical-align: top;\n",
       "    }\n",
       "\n",
       "    .dataframe thead th {\n",
       "        text-align: right;\n",
       "    }\n",
       "</style>\n",
       "<table border=\"1\" class=\"dataframe\">\n",
       "  <thead>\n",
       "    <tr style=\"text-align: right;\">\n",
       "      <th></th>\n",
       "      <th>Latitude</th>\n",
       "      <th>Longitude</th>\n",
       "      <th>Max Temp</th>\n",
       "      <th>Humidity</th>\n",
       "      <th>Cloudiness</th>\n",
       "      <th>Wind Speed</th>\n",
       "      <th>Date</th>\n",
       "    </tr>\n",
       "  </thead>\n",
       "  <tbody>\n",
       "    <tr>\n",
       "      <th>count</th>\n",
       "      <td>559.000000</td>\n",
       "      <td>559.000000</td>\n",
       "      <td>559.000000</td>\n",
       "      <td>559.000000</td>\n",
       "      <td>559.000000</td>\n",
       "      <td>559.000000</td>\n",
       "      <td>5.590000e+02</td>\n",
       "    </tr>\n",
       "    <tr>\n",
       "      <th>mean</th>\n",
       "      <td>20.679338</td>\n",
       "      <td>21.955886</td>\n",
       "      <td>68.779141</td>\n",
       "      <td>71.475850</td>\n",
       "      <td>50.543828</td>\n",
       "      <td>7.863864</td>\n",
       "      <td>1.595467e+09</td>\n",
       "    </tr>\n",
       "    <tr>\n",
       "      <th>std</th>\n",
       "      <td>33.682654</td>\n",
       "      <td>91.449762</td>\n",
       "      <td>13.168073</td>\n",
       "      <td>19.329969</td>\n",
       "      <td>40.827697</td>\n",
       "      <td>5.225778</td>\n",
       "      <td>9.453681e+01</td>\n",
       "    </tr>\n",
       "    <tr>\n",
       "      <th>min</th>\n",
       "      <td>-54.800000</td>\n",
       "      <td>-179.170000</td>\n",
       "      <td>14.000000</td>\n",
       "      <td>3.000000</td>\n",
       "      <td>0.000000</td>\n",
       "      <td>0.360000</td>\n",
       "      <td>1.595466e+09</td>\n",
       "    </tr>\n",
       "    <tr>\n",
       "      <th>25%</th>\n",
       "      <td>-8.025000</td>\n",
       "      <td>-58.260000</td>\n",
       "      <td>59.070000</td>\n",
       "      <td>61.000000</td>\n",
       "      <td>1.000000</td>\n",
       "      <td>3.940000</td>\n",
       "      <td>1.595467e+09</td>\n",
       "    </tr>\n",
       "    <tr>\n",
       "      <th>50%</th>\n",
       "      <td>26.000000</td>\n",
       "      <td>27.870000</td>\n",
       "      <td>70.120000</td>\n",
       "      <td>75.000000</td>\n",
       "      <td>58.000000</td>\n",
       "      <td>6.930000</td>\n",
       "      <td>1.595467e+09</td>\n",
       "    </tr>\n",
       "    <tr>\n",
       "      <th>75%</th>\n",
       "      <td>50.300000</td>\n",
       "      <td>105.050000</td>\n",
       "      <td>78.800000</td>\n",
       "      <td>87.000000</td>\n",
       "      <td>91.000000</td>\n",
       "      <td>10.290000</td>\n",
       "      <td>1.595467e+09</td>\n",
       "    </tr>\n",
       "    <tr>\n",
       "      <th>max</th>\n",
       "      <td>78.220000</td>\n",
       "      <td>179.320000</td>\n",
       "      <td>104.000000</td>\n",
       "      <td>100.000000</td>\n",
       "      <td>100.000000</td>\n",
       "      <td>28.860000</td>\n",
       "      <td>1.595467e+09</td>\n",
       "    </tr>\n",
       "  </tbody>\n",
       "</table>\n",
       "</div>"
      ],
      "text/plain": [
       "         Latitude   Longitude    Max Temp    Humidity  Cloudiness  Wind Speed  \\\n",
       "count  559.000000  559.000000  559.000000  559.000000  559.000000  559.000000   \n",
       "mean    20.679338   21.955886   68.779141   71.475850   50.543828    7.863864   \n",
       "std     33.682654   91.449762   13.168073   19.329969   40.827697    5.225778   \n",
       "min    -54.800000 -179.170000   14.000000    3.000000    0.000000    0.360000   \n",
       "25%     -8.025000  -58.260000   59.070000   61.000000    1.000000    3.940000   \n",
       "50%     26.000000   27.870000   70.120000   75.000000   58.000000    6.930000   \n",
       "75%     50.300000  105.050000   78.800000   87.000000   91.000000   10.290000   \n",
       "max     78.220000  179.320000  104.000000  100.000000  100.000000   28.860000   \n",
       "\n",
       "               Date  \n",
       "count  5.590000e+02  \n",
       "mean   1.595467e+09  \n",
       "std    9.453681e+01  \n",
       "min    1.595466e+09  \n",
       "25%    1.595467e+09  \n",
       "50%    1.595467e+09  \n",
       "75%    1.595467e+09  \n",
       "max    1.595467e+09  "
      ]
     },
     "execution_count": 19,
     "metadata": {},
     "output_type": "execute_result"
    }
   ],
   "source": [
    "weatherdf.describe()"
   ]
  },
  {
   "cell_type": "code",
   "execution_count": null,
   "metadata": {},
   "outputs": [],
   "source": [
    "#  Get the indices of cities that have humidity over 100%.\n"
   ]
  },
  {
   "cell_type": "code",
   "execution_count": null,
   "metadata": {},
   "outputs": [],
   "source": [
    "# Make a new DataFrame equal to the city data to drop all humidity outliers by index.\n",
    "# Passing \"inplace=False\" will make a copy of the city_data DataFrame, which we call \"clean_city_data\".\n"
   ]
  },
  {
   "cell_type": "code",
   "execution_count": null,
   "metadata": {},
   "outputs": [],
   "source": [
    "# Extract relevant fields from the data frame\n",
    "\n",
    "\n",
    "# Export the City_Data into a csv\n"
   ]
  },
  {
   "cell_type": "markdown",
   "metadata": {},
   "source": [
    "## Plotting the Data\n",
    "* Use proper labeling of the plots using plot titles (including date of analysis) and axes labels.\n",
    "* Save the plotted figures as .pngs."
   ]
  },
  {
   "cell_type": "markdown",
   "metadata": {},
   "source": [
    "## Latitude vs. Temperature Plot"
   ]
  },
  {
   "cell_type": "code",
   "execution_count": 20,
   "metadata": {},
   "outputs": [
    {
     "data": {
      "image/png": "[encoded data removed]",
      "text/plain": [
       "<Figure size 432x288 with 1 Axes>"
      ]
     },
     "metadata": {
      "needs_background": "light"
     },
     "output_type": "display_data"
    }
   ],
   "source": [
    "plt.scatter(x=weatherdf['Latitude'], y=weatherdf['Max Temp'])\n",
    "plt.xlabel('Latitude')\n",
    "plt.ylabel('Max Temperature')\n",
    "plt.grid()\n",
    "plt.title('City Latitude vs. Max Temperature (F)')\n",
    "plt.show()\n",
    "\n"
   ]
  },
  {
   "cell_type": "markdown",
   "metadata": {},
   "source": [
    "## Latitude vs. Humidity Plot"
   ]
  },
  {
   "cell_type": "code",
   "execution_count": 21,
   "metadata": {},
   "outputs": [
    {
     "data": {
      "image/png": "[encoded data removed]",
      "text/plain": [
       "<Figure size 432x288 with 1 Axes>"
      ]
     },
     "metadata": {
      "needs_background": "light"
     },
     "output_type": "display_data"
    }
   ],
   "source": [
    "plt.scatter(x=weatherdf['Latitude'], y=weatherdf['Humidity'])\n",
    "plt.xlabel('Latitude')\n",
    "plt.ylabel('Humidity')\n",
    "plt.title('City Latitude vs. Humidity (%)')\n",
    "plt.grid()\n",
    "plt.show()"
   ]
  },
  {
   "cell_type": "markdown",
   "metadata": {},
   "source": [
    "## Latitude vs. Cloudiness Plot"
   ]
  },
  {
   "cell_type": "code",
   "execution_count": 22,
   "metadata": {},
   "outputs": [
    {
     "data": {
      "image/png": "[encoded data removed]",
      "text/plain": [
       "<Figure size 432x288 with 1 Axes>"
      ]
     },
     "metadata": {
      "needs_background": "light"
     },
     "output_type": "display_data"
    }
   ],
   "source": [
    "plt.scatter(x=weatherdf['Latitude'], y=weatherdf['Cloudiness'])\n",
    "plt.xlabel('Latitude')\n",
    "plt.ylabel('Cloudiness')\n",
    "plt.title('City Latitude vs. Cloudiness (%)')\n",
    "plt.grid()\n",
    "plt.show()\n",
    "\n",
    "plt.show()"
   ]
  },
  {
   "cell_type": "markdown",
   "metadata": {},
   "source": [
    "## Latitude vs. Wind Speed Plot"
   ]
  },
  {
   "cell_type": "code",
   "execution_count": 23,
   "metadata": {},
   "outputs": [
    {
     "data": {
      "image/png": "[encoded data removed]",
      "text/plain": [
       "<Figure size 432x288 with 1 Axes>"
      ]
     },
     "metadata": {
      "needs_background": "light"
     },
     "output_type": "display_data"
    }
   ],
   "source": [
    "plt.scatter(x=weatherdf['Latitude'], y=weatherdf['Wind Speed'])\n",
    "plt.xlabel('Latitude')\n",
    "plt.ylabel('Wind Speed')\n",
    "plt.title('City Latitude vs. Wind Speed (mph)')\n",
    "plt.grid()\n",
    "plt.show()"
   ]
  },
  {
   "cell_type": "markdown",
   "metadata": {},
   "source": [
    "## Linear Regression"
   ]
  },
  {
   "cell_type": "code",
   "execution_count": 24,
   "metadata": {},
   "outputs": [
    {
     "ename": "NameError",
     "evalue": "name 'x_values' is not defined",
     "output_type": "error",
     "traceback": [
      "\u001b[0;31m---------------------------------------------------------------------------\u001b[0m",
      "\u001b[0;31mNameError\u001b[0m                                 Traceback (most recent call last)",
      "\u001b[0;32m<ipython-input-24-309fa10d7de1>\u001b[0m in \u001b[0;36m<module>\u001b[0;34m\u001b[0m\n\u001b[1;32m      1\u001b[0m \u001b[0;31m# Define function for creating linear agression and scatter plot\u001b[0m\u001b[0;34m\u001b[0m\u001b[0;34m\u001b[0m\u001b[0;34m\u001b[0m\u001b[0m\n\u001b[0;32m----> 2\u001b[0;31m \u001b[0;34m(\u001b[0m\u001b[0mslope\u001b[0m\u001b[0;34m,\u001b[0m \u001b[0mintercept\u001b[0m\u001b[0;34m,\u001b[0m \u001b[0mrvalue\u001b[0m\u001b[0;34m,\u001b[0m \u001b[0mpvalue\u001b[0m\u001b[0;34m,\u001b[0m \u001b[0mstderr\u001b[0m\u001b[0;34m)\u001b[0m \u001b[0;34m=\u001b[0m \u001b[0mlinregress\u001b[0m\u001b[0;34m(\u001b[0m\u001b[0mx_values\u001b[0m\u001b[0;34m,\u001b[0m \u001b[0my_values\u001b[0m\u001b[0;34m)\u001b[0m\u001b[0;34m\u001b[0m\u001b[0;34m\u001b[0m\u001b[0m\n\u001b[0m\u001b[1;32m      3\u001b[0m \u001b[0mregress_values\u001b[0m \u001b[0;34m=\u001b[0m \u001b[0mx_values\u001b[0m \u001b[0;34m*\u001b[0m \u001b[0mslope\u001b[0m \u001b[0;34m+\u001b[0m \u001b[0mintercept\u001b[0m\u001b[0;34m\u001b[0m\u001b[0;34m\u001b[0m\u001b[0m\n\u001b[1;32m      4\u001b[0m \u001b[0mline_eq\u001b[0m \u001b[0;34m=\u001b[0m \u001b[0;34m\"y = \"\u001b[0m \u001b[0;34m+\u001b[0m \u001b[0mstr\u001b[0m\u001b[0;34m(\u001b[0m\u001b[0mround\u001b[0m\u001b[0;34m(\u001b[0m\u001b[0mslope\u001b[0m\u001b[0;34m,\u001b[0m\u001b[0;36m2\u001b[0m\u001b[0;34m)\u001b[0m\u001b[0;34m)\u001b[0m \u001b[0;34m+\u001b[0m \u001b[0;34m\"x + \"\u001b[0m \u001b[0;34m+\u001b[0m \u001b[0mstr\u001b[0m\u001b[0;34m(\u001b[0m\u001b[0mround\u001b[0m\u001b[0;34m(\u001b[0m\u001b[0mintercept\u001b[0m\u001b[0;34m,\u001b[0m\u001b[0;36m2\u001b[0m\u001b[0;34m)\u001b[0m\u001b[0;34m)\u001b[0m\u001b[0;34m\u001b[0m\u001b[0;34m\u001b[0m\u001b[0m\n\u001b[1;32m      5\u001b[0m \u001b[0;31m# plt.scatter(x_values,y_values)\u001b[0m\u001b[0;34m\u001b[0m\u001b[0;34m\u001b[0m\u001b[0;34m\u001b[0m\u001b[0m\n",
      "\u001b[0;31mNameError\u001b[0m: name 'x_values' is not defined"
     ]
    }
   ],
   "source": [
    "# Define function for creating linear agression and scatter plot\n",
    "(slope, intercept, rvalue, pvalue, stderr) = linregress(x_values, y_values)\n",
    "regress_values = x_values * slope + intercept\n",
    "line_eq = \"y = \" + str(round(slope,2)) + \"x + \" + str(round(intercept,2))\n",
    "# plt.scatter(x_values,y_values)\n",
    "# plt.plot(x_values,regress_values,\"r-\")\n",
    "# plt.annotate(line_eq,(6,10),fontsize=15,color=\"red\")"
   ]
  },
  {
   "cell_type": "code",
   "execution_count": null,
   "metadata": {},
   "outputs": [],
   "source": [
    "# OPTIONAL: Create a function to create Linear Regression plots\n",
    "def linear_agression(x,y):\n",
    "    print(f\"The r-squared is : {rvalue**2}\")\n",
    "    (slope, intercept, rvalue, pvalue, stderr) = linregress(x, y)\n",
    "    regress_values = x * slope + intercept\n",
    "    line_eq = \"y = \" + str(round(slope,2)) + \"x + \" + str(round(intercept,2))\n",
    "    plt.scatter(x, y)\n",
    "    plt.plot(x,regress_values,\"r-\")\n",
    "    return line_eq\n",
    "                       \n",
    "line_eq"
   ]
  },
  {
   "cell_type": "code",
   "execution_count": 27,
   "metadata": {},
   "outputs": [
    {
     "data": {
      "text/html": [
       "<div>\n",
       "<style scoped>\n",
       "    .dataframe tbody tr th:only-of-type {\n",
       "        vertical-align: middle;\n",
       "    }\n",
       "\n",
       "    .dataframe tbody tr th {\n",
       "        vertical-align: top;\n",
       "    }\n",
       "\n",
       "    .dataframe thead th {\n",
       "        text-align: right;\n",
       "    }\n",
       "</style>\n",
       "<table border=\"1\" class=\"dataframe\">\n",
       "  <thead>\n",
       "    <tr style=\"text-align: right;\">\n",
       "      <th></th>\n",
       "      <th>City</th>\n",
       "      <th>Latitude</th>\n",
       "      <th>Longitude</th>\n",
       "      <th>Max Temp</th>\n",
       "      <th>Humidity</th>\n",
       "      <th>Cloudiness</th>\n",
       "      <th>Wind Speed</th>\n",
       "      <th>Country</th>\n",
       "      <th>Date</th>\n",
       "    </tr>\n",
       "  </thead>\n",
       "  <tbody>\n",
       "    <tr>\n",
       "      <th>0</th>\n",
       "      <td>port alfred</td>\n",
       "      <td>-33.59</td>\n",
       "      <td>26.89</td>\n",
       "      <td>64.49</td>\n",
       "      <td>44</td>\n",
       "      <td>0</td>\n",
       "      <td>9.73</td>\n",
       "      <td>ZA</td>\n",
       "      <td>1595466755</td>\n",
       "    </tr>\n",
       "    <tr>\n",
       "      <th>5</th>\n",
       "      <td>karratha</td>\n",
       "      <td>-20.74</td>\n",
       "      <td>116.85</td>\n",
       "      <td>73.44</td>\n",
       "      <td>39</td>\n",
       "      <td>0</td>\n",
       "      <td>11.61</td>\n",
       "      <td>AU</td>\n",
       "      <td>1595466756</td>\n",
       "    </tr>\n",
       "    <tr>\n",
       "      <th>10</th>\n",
       "      <td>vaini</td>\n",
       "      <td>-21.20</td>\n",
       "      <td>-175.20</td>\n",
       "      <td>71.60</td>\n",
       "      <td>83</td>\n",
       "      <td>75</td>\n",
       "      <td>14.99</td>\n",
       "      <td>TO</td>\n",
       "      <td>1595466757</td>\n",
       "    </tr>\n",
       "    <tr>\n",
       "      <th>11</th>\n",
       "      <td>cabedelo</td>\n",
       "      <td>-6.98</td>\n",
       "      <td>-34.83</td>\n",
       "      <td>73.40</td>\n",
       "      <td>83</td>\n",
       "      <td>4</td>\n",
       "      <td>6.93</td>\n",
       "      <td>BR</td>\n",
       "      <td>1595466757</td>\n",
       "    </tr>\n",
       "    <tr>\n",
       "      <th>13</th>\n",
       "      <td>chuy</td>\n",
       "      <td>-33.70</td>\n",
       "      <td>-53.46</td>\n",
       "      <td>64.17</td>\n",
       "      <td>94</td>\n",
       "      <td>100</td>\n",
       "      <td>6.55</td>\n",
       "      <td>UY</td>\n",
       "      <td>1595466758</td>\n",
       "    </tr>\n",
       "    <tr>\n",
       "      <th>...</th>\n",
       "      <td>...</td>\n",
       "      <td>...</td>\n",
       "      <td>...</td>\n",
       "      <td>...</td>\n",
       "      <td>...</td>\n",
       "      <td>...</td>\n",
       "      <td>...</td>\n",
       "      <td>...</td>\n",
       "      <td>...</td>\n",
       "    </tr>\n",
       "    <tr>\n",
       "      <th>545</th>\n",
       "      <td>daru</td>\n",
       "      <td>-9.08</td>\n",
       "      <td>143.21</td>\n",
       "      <td>78.30</td>\n",
       "      <td>81</td>\n",
       "      <td>100</td>\n",
       "      <td>11.77</td>\n",
       "      <td>PG</td>\n",
       "      <td>1595466889</td>\n",
       "    </tr>\n",
       "    <tr>\n",
       "      <th>547</th>\n",
       "      <td>maumere</td>\n",
       "      <td>-8.62</td>\n",
       "      <td>122.21</td>\n",
       "      <td>80.06</td>\n",
       "      <td>65</td>\n",
       "      <td>33</td>\n",
       "      <td>4.85</td>\n",
       "      <td>ID</td>\n",
       "      <td>1595466890</td>\n",
       "    </tr>\n",
       "    <tr>\n",
       "      <th>548</th>\n",
       "      <td>ambilobe</td>\n",
       "      <td>-13.20</td>\n",
       "      <td>49.05</td>\n",
       "      <td>62.11</td>\n",
       "      <td>73</td>\n",
       "      <td>100</td>\n",
       "      <td>3.42</td>\n",
       "      <td>MG</td>\n",
       "      <td>1595466890</td>\n",
       "    </tr>\n",
       "    <tr>\n",
       "      <th>551</th>\n",
       "      <td>coolum beach</td>\n",
       "      <td>-26.53</td>\n",
       "      <td>153.10</td>\n",
       "      <td>60.01</td>\n",
       "      <td>88</td>\n",
       "      <td>100</td>\n",
       "      <td>3.00</td>\n",
       "      <td>AU</td>\n",
       "      <td>1595466891</td>\n",
       "    </tr>\n",
       "    <tr>\n",
       "      <th>557</th>\n",
       "      <td>poya</td>\n",
       "      <td>-21.35</td>\n",
       "      <td>165.15</td>\n",
       "      <td>71.22</td>\n",
       "      <td>62</td>\n",
       "      <td>83</td>\n",
       "      <td>6.93</td>\n",
       "      <td>NC</td>\n",
       "      <td>1595466892</td>\n",
       "    </tr>\n",
       "  </tbody>\n",
       "</table>\n",
       "<p>179 rows × 9 columns</p>\n",
       "</div>"
      ],
      "text/plain": [
       "             City  Latitude  Longitude  Max Temp  Humidity  Cloudiness  \\\n",
       "0     port alfred    -33.59      26.89     64.49        44           0   \n",
       "5        karratha    -20.74     116.85     73.44        39           0   \n",
       "10          vaini    -21.20    -175.20     71.60        83          75   \n",
       "11       cabedelo     -6.98     -34.83     73.40        83           4   \n",
       "13           chuy    -33.70     -53.46     64.17        94         100   \n",
       "..            ...       ...        ...       ...       ...         ...   \n",
       "545          daru     -9.08     143.21     78.30        81         100   \n",
       "547       maumere     -8.62     122.21     80.06        65          33   \n",
       "548      ambilobe    -13.20      49.05     62.11        73         100   \n",
       "551  coolum beach    -26.53     153.10     60.01        88         100   \n",
       "557          poya    -21.35     165.15     71.22        62          83   \n",
       "\n",
       "     Wind Speed Country        Date  \n",
       "0          9.73      ZA  1595466755  \n",
       "5         11.61      AU  1595466756  \n",
       "10        14.99      TO  1595466757  \n",
       "11         6.93      BR  1595466757  \n",
       "13         6.55      UY  1595466758  \n",
       "..          ...     ...         ...  \n",
       "545       11.77      PG  1595466889  \n",
       "547        4.85      ID  1595466890  \n",
       "548        3.42      MG  1595466890  \n",
       "551        3.00      AU  1595466891  \n",
       "557        6.93      NC  1595466892  \n",
       "\n",
       "[179 rows x 9 columns]"
      ]
     },
     "execution_count": 27,
     "metadata": {},
     "output_type": "execute_result"
    }
   ],
   "source": [
    "# Create Northern and Southern Hemisphere DataFrames\n",
    "nhem = weatherdf.loc[weatherdf[\"Latitude\"] >= 0]\n",
    "shem = weatherdf.loc[weatherdf[\"Latitude\"] < 0]\n",
    "nhem\n",
    "shem"
   ]
  },
  {
   "cell_type": "markdown",
   "metadata": {},
   "source": [
    "####  Northern Hemisphere - Max Temp vs. Latitude Linear Regression"
   ]
  },
  {
   "cell_type": "code",
   "execution_count": 29,
   "metadata": {},
   "outputs": [
    {
     "ename": "ValueError",
     "evalue": "all the input array dimensions for the concatenation axis must match exactly, but along dimension 1, the array at index 0 has size 380 and the array at index 1 has size 179",
     "output_type": "error",
     "traceback": [
      "\u001b[0;31m---------------------------------------------------------------------------\u001b[0m",
      "\u001b[0;31mValueError\u001b[0m                                Traceback (most recent call last)",
      "\u001b[0;32m<ipython-input-29-6238de39e3ac>\u001b[0m in \u001b[0;36m<module>\u001b[0;34m\u001b[0m\n\u001b[0;32m----> 1\u001b[0;31m \u001b[0;34m(\u001b[0m\u001b[0mslope\u001b[0m\u001b[0;34m,\u001b[0m \u001b[0mintercept\u001b[0m\u001b[0;34m,\u001b[0m \u001b[0mrvalue\u001b[0m\u001b[0;34m,\u001b[0m \u001b[0mpvalue\u001b[0m\u001b[0;34m,\u001b[0m \u001b[0mstderr\u001b[0m\u001b[0;34m)\u001b[0m \u001b[0;34m=\u001b[0m \u001b[0mlinregress\u001b[0m\u001b[0;34m(\u001b[0m\u001b[0mx_values\u001b[0m\u001b[0;34m,\u001b[0m \u001b[0my_values\u001b[0m\u001b[0;34m)\u001b[0m\u001b[0;34m\u001b[0m\u001b[0;34m\u001b[0m\u001b[0m\n\u001b[0m\u001b[1;32m      2\u001b[0m \u001b[0mregress_values\u001b[0m \u001b[0;34m=\u001b[0m \u001b[0mx_values\u001b[0m \u001b[0;34m*\u001b[0m \u001b[0mslope\u001b[0m \u001b[0;34m+\u001b[0m \u001b[0mintercept\u001b[0m\u001b[0;34m\u001b[0m\u001b[0;34m\u001b[0m\u001b[0m\n\u001b[1;32m      3\u001b[0m \u001b[0mline_eq\u001b[0m \u001b[0;34m=\u001b[0m \u001b[0;34m\"y = \"\u001b[0m \u001b[0;34m+\u001b[0m \u001b[0mstr\u001b[0m\u001b[0;34m(\u001b[0m\u001b[0mround\u001b[0m\u001b[0;34m(\u001b[0m\u001b[0mslope\u001b[0m\u001b[0;34m,\u001b[0m\u001b[0;36m2\u001b[0m\u001b[0;34m)\u001b[0m\u001b[0;34m)\u001b[0m \u001b[0;34m+\u001b[0m \u001b[0;34m\"x + \"\u001b[0m \u001b[0;34m+\u001b[0m \u001b[0mstr\u001b[0m\u001b[0;34m(\u001b[0m\u001b[0mround\u001b[0m\u001b[0;34m(\u001b[0m\u001b[0mintercept\u001b[0m\u001b[0;34m,\u001b[0m\u001b[0;36m2\u001b[0m\u001b[0;34m)\u001b[0m\u001b[0;34m)\u001b[0m\u001b[0;34m\u001b[0m\u001b[0;34m\u001b[0m\u001b[0m\n\u001b[1;32m      4\u001b[0m \u001b[0;34m\u001b[0m\u001b[0m\n\u001b[1;32m      5\u001b[0m \u001b[0mplt\u001b[0m\u001b[0;34m.\u001b[0m\u001b[0mplot\u001b[0m\u001b[0;34m(\u001b[0m\u001b[0mx_values\u001b[0m\u001b[0;34m,\u001b[0m\u001b[0mregress_values\u001b[0m\u001b[0;34m,\u001b[0m\u001b[0;34m\"r-\"\u001b[0m\u001b[0;34m)\u001b[0m\u001b[0;34m\u001b[0m\u001b[0;34m\u001b[0m\u001b[0m\n",
      "\u001b[0;32m~/opt/anaconda3/lib/python3.7/site-packages/scipy/stats/_stats_mstats_common.py\u001b[0m in \u001b[0;36mlinregress\u001b[0;34m(x, y)\u001b[0m\n\u001b[1;32m    114\u001b[0m \u001b[0;34m\u001b[0m\u001b[0m\n\u001b[1;32m    115\u001b[0m     \u001b[0;31m# average sum of squares:\u001b[0m\u001b[0;34m\u001b[0m\u001b[0;34m\u001b[0m\u001b[0;34m\u001b[0m\u001b[0m\n\u001b[0;32m--> 116\u001b[0;31m     \u001b[0mssxm\u001b[0m\u001b[0;34m,\u001b[0m \u001b[0mssxym\u001b[0m\u001b[0;34m,\u001b[0m \u001b[0mssyxm\u001b[0m\u001b[0;34m,\u001b[0m \u001b[0mssym\u001b[0m \u001b[0;34m=\u001b[0m \u001b[0mnp\u001b[0m\u001b[0;34m.\u001b[0m\u001b[0mcov\u001b[0m\u001b[0;34m(\u001b[0m\u001b[0mx\u001b[0m\u001b[0;34m,\u001b[0m \u001b[0my\u001b[0m\u001b[0;34m,\u001b[0m \u001b[0mbias\u001b[0m\u001b[0;34m=\u001b[0m\u001b[0;36m1\u001b[0m\u001b[0;34m)\u001b[0m\u001b[0;34m.\u001b[0m\u001b[0mflat\u001b[0m\u001b[0;34m\u001b[0m\u001b[0;34m\u001b[0m\u001b[0m\n\u001b[0m\u001b[1;32m    117\u001b[0m     \u001b[0mr_num\u001b[0m \u001b[0;34m=\u001b[0m \u001b[0mssxym\u001b[0m\u001b[0;34m\u001b[0m\u001b[0;34m\u001b[0m\u001b[0m\n\u001b[1;32m    118\u001b[0m     \u001b[0mr_den\u001b[0m \u001b[0;34m=\u001b[0m \u001b[0mnp\u001b[0m\u001b[0;34m.\u001b[0m\u001b[0msqrt\u001b[0m\u001b[0;34m(\u001b[0m\u001b[0mssxm\u001b[0m \u001b[0;34m*\u001b[0m \u001b[0mssym\u001b[0m\u001b[0;34m)\u001b[0m\u001b[0;34m\u001b[0m\u001b[0;34m\u001b[0m\u001b[0m\n",
      "\u001b[0;32m<__array_function__ internals>\u001b[0m in \u001b[0;36mcov\u001b[0;34m(*args, **kwargs)\u001b[0m\n",
      "\u001b[0;32m~/opt/anaconda3/lib/python3.7/site-packages/numpy/lib/function_base.py\u001b[0m in \u001b[0;36mcov\u001b[0;34m(m, y, rowvar, bias, ddof, fweights, aweights)\u001b[0m\n\u001b[1;32m   2388\u001b[0m         \u001b[0;32mif\u001b[0m \u001b[0;32mnot\u001b[0m \u001b[0mrowvar\u001b[0m \u001b[0;32mand\u001b[0m \u001b[0my\u001b[0m\u001b[0;34m.\u001b[0m\u001b[0mshape\u001b[0m\u001b[0;34m[\u001b[0m\u001b[0;36m0\u001b[0m\u001b[0;34m]\u001b[0m \u001b[0;34m!=\u001b[0m \u001b[0;36m1\u001b[0m\u001b[0;34m:\u001b[0m\u001b[0;34m\u001b[0m\u001b[0;34m\u001b[0m\u001b[0m\n\u001b[1;32m   2389\u001b[0m             \u001b[0my\u001b[0m \u001b[0;34m=\u001b[0m \u001b[0my\u001b[0m\u001b[0;34m.\u001b[0m\u001b[0mT\u001b[0m\u001b[0;34m\u001b[0m\u001b[0;34m\u001b[0m\u001b[0m\n\u001b[0;32m-> 2390\u001b[0;31m         \u001b[0mX\u001b[0m \u001b[0;34m=\u001b[0m \u001b[0mnp\u001b[0m\u001b[0;34m.\u001b[0m\u001b[0mconcatenate\u001b[0m\u001b[0;34m(\u001b[0m\u001b[0;34m(\u001b[0m\u001b[0mX\u001b[0m\u001b[0;34m,\u001b[0m \u001b[0my\u001b[0m\u001b[0;34m)\u001b[0m\u001b[0;34m,\u001b[0m \u001b[0maxis\u001b[0m\u001b[0;34m=\u001b[0m\u001b[0;36m0\u001b[0m\u001b[0;34m)\u001b[0m\u001b[0;34m\u001b[0m\u001b[0;34m\u001b[0m\u001b[0m\n\u001b[0m\u001b[1;32m   2391\u001b[0m \u001b[0;34m\u001b[0m\u001b[0m\n\u001b[1;32m   2392\u001b[0m     \u001b[0;32mif\u001b[0m \u001b[0mddof\u001b[0m \u001b[0;32mis\u001b[0m \u001b[0;32mNone\u001b[0m\u001b[0;34m:\u001b[0m\u001b[0;34m\u001b[0m\u001b[0;34m\u001b[0m\u001b[0m\n",
      "\u001b[0;32m<__array_function__ internals>\u001b[0m in \u001b[0;36mconcatenate\u001b[0;34m(*args, **kwargs)\u001b[0m\n",
      "\u001b[0;31mValueError\u001b[0m: all the input array dimensions for the concatenation axis must match exactly, but along dimension 1, the array at index 0 has size 380 and the array at index 1 has size 179"
     ]
    }
   ],
   "source": []
  },
  {
   "cell_type": "code",
   "execution_count": 52,
   "metadata": {},
   "outputs": [
    {
     "data": {
      "image/png": "[encoded data removed]",
      "text/plain": [
       "<Figure size 432x288 with 1 Axes>"
      ]
     },
     "metadata": {
      "needs_background": "light"
     },
     "output_type": "display_data"
    },
    {
     "name": "stdout",
     "output_type": "stream",
     "text": [
      "The r-squared is: 0.4394222591003256\n"
     ]
    }
   ],
   "source": [
    "\n",
    "x_values = nhem['Latitude']\n",
    "y_values = nhem['Max Temp']\n",
    "(slope, intercept, rvalue, pvalue, stderr) = linregress(x_values, y_values)\n",
    "regress_values = x_values * slope + intercept\n",
    "line_eq = \"y = \" + str(round(slope,2)) + \"x + \" + str(round(intercept,2))\n",
    "plt.scatter(x_values,y_values)\n",
    "plt.plot(x_values,regress_values,\"r-\")\n",
    "plt.annotate(line_eq,(30,60),fontsize=15,color=\"red\")\n",
    "plt.xlabel('Latitude')\n",
    "plt.ylabel('Max Temperature (F)')\n",
    "plt.show()\n",
    "print(f\"The r-squared is: {rvalue**2}\")"
   ]
  },
  {
   "cell_type": "code",
   "execution_count": null,
   "metadata": {},
   "outputs": [],
   "source": []
  },
  {
   "cell_type": "markdown",
   "metadata": {},
   "source": [
    "####  Southern Hemisphere - Max Temp vs. Latitude Linear Regression"
   ]
  },
  {
   "cell_type": "code",
   "execution_count": 50,
   "metadata": {},
   "outputs": [
    {
     "data": {
      "image/png": "[encoded data removed]",
      "text/plain": [
       "<Figure size 432x288 with 1 Axes>"
      ]
     },
     "metadata": {
      "needs_background": "light"
     },
     "output_type": "display_data"
    },
    {
     "name": "stdout",
     "output_type": "stream",
     "text": [
      "The r-squared is: 0.6680379004576606\n"
     ]
    }
   ],
   "source": [
    "x_values = shem['Max Temp']\n",
    "y_values = shem['Latitude']\n",
    "(slope, intercept, rvalue, pvalue, stderr) = linregress(x_values, y_values)\n",
    "regress_values = x_values * slope + intercept\n",
    "line_eq = \"y = \" + str(round(slope,2)) + \"x + \" + str(round(intercept,2))\n",
    "plt.scatter(x_values,y_values)\n",
    "plt.plot(x_values,regress_values,\"r-\")\n",
    "plt.annotate(line_eq,(30,-50),fontsize=15,color=\"red\")\n",
    "plt.xlabel('Max Temp')\n",
    "plt.ylabel('Latitude)')\n",
    "plt.show()\n",
    "print(f\"The r-squared is: {rvalue**2}\")\n"
   ]
  },
  {
   "cell_type": "markdown",
   "metadata": {},
   "source": [
    "####  Northern Hemisphere - Humidity (%) vs. Latitude Linear Regression"
   ]
  },
  {
   "cell_type": "code",
   "execution_count": 49,
   "metadata": {},
   "outputs": [
    {
     "data": {
      "image/png": "[encoded data removed]",
      "text/plain": [
       "<Figure size 432x288 with 1 Axes>"
      ]
     },
     "metadata": {
      "needs_background": "light"
     },
     "output_type": "display_data"
    },
    {
     "name": "stdout",
     "output_type": "stream",
     "text": [
      "The r-squared is: 0.0038226767283183346\n"
     ]
    }
   ],
   "source": [
    "x_values = nhem['Humidity']\n",
    "y_values = nhem['Latitude']\n",
    "(slope, intercept, rvalue, pvalue, stderr) = linregress(x_values, y_values)\n",
    "regress_values = x_values * slope + intercept\n",
    "line_eq = \"y = \" + str(round(slope,2)) + \"x + \" + str(round(intercept,2))\n",
    "plt.scatter(x_values,y_values)\n",
    "plt.plot(x_values,regress_values,\"r-\")\n",
    "plt.annotate(line_eq,(30,60),fontsize=15,color=\"red\")\n",
    "plt.xlabel('Humidity')\n",
    "plt.ylabel('Latitude)')\n",
    "plt.show()\n",
    "print(f\"The r-squared is: {rvalue**2}\")"
   ]
  },
  {
   "cell_type": "markdown",
   "metadata": {},
   "source": [
    "####  Southern Hemisphere - Humidity (%) vs. Latitude Linear Regression"
   ]
  },
  {
   "cell_type": "code",
   "execution_count": 45,
   "metadata": {},
   "outputs": [
    {
     "data": {
      "image/png": "[encoded data removed]",
      "text/plain": [
       "<Figure size 432x288 with 1 Axes>"
      ]
     },
     "metadata": {
      "needs_background": "light"
     },
     "output_type": "display_data"
    },
    {
     "name": "stdout",
     "output_type": "stream",
     "text": [
      "The r-squared is: 0.0002602042515892574\n"
     ]
    }
   ],
   "source": [
    "x_values = shem['Humidity']\n",
    "y_values = shem['Latitude']\n",
    "(slope, intercept, rvalue, pvalue, stderr) = linregress(x_values, y_values)\n",
    "regress_values = x_values * slope + intercept\n",
    "line_eq = \"y = \" + str(round(slope,2)) + \"x + \" + str(round(intercept,2))\n",
    "plt.scatter(x_values,y_values)\n",
    "plt.plot(x_values,regress_values,\"r-\")\n",
    "plt.annotate(line_eq,(0,-10),fontsize=15,color=\"red\")\n",
    "plt.xlabel('Humidity')\n",
    "plt.ylabel('Latitude)')\n",
    "plt.show()\n",
    "print(f\"The r-squared is: {rvalue**2}\")"
   ]
  },
  {
   "cell_type": "markdown",
   "metadata": {},
   "source": [
    "####  Northern Hemisphere - Cloudiness (%) vs. Latitude Linear Regression"
   ]
  },
  {
   "cell_type": "code",
   "execution_count": 53,
   "metadata": {},
   "outputs": [
    {
     "data": {
      "image/png": "[encoded data removed]",
      "text/plain": [
       "<Figure size 432x288 with 1 Axes>"
      ]
     },
     "metadata": {
      "needs_background": "light"
     },
     "output_type": "display_data"
    },
    {
     "name": "stdout",
     "output_type": "stream",
     "text": [
      "The r-squared is: 4.469278212483962e-05\n"
     ]
    }
   ],
   "source": [
    "x_values = nhem['Cloudiness']\n",
    "y_values = nhem['Latitude']\n",
    "(slope, intercept, rvalue, pvalue, stderr) = linregress(x_values, y_values)\n",
    "regress_values = x_values * slope + intercept\n",
    "line_eq = \"y = \" + str(round(slope,2)) + \"x + \" + str(round(intercept,2))\n",
    "plt.scatter(x_values,y_values)\n",
    "plt.plot(x_values,regress_values,\"r-\")\n",
    "plt.annotate(line_eq,(20,10),fontsize=15,color=\"red\")\n",
    "plt.xlabel('Cloudiness')\n",
    "plt.ylabel('Latitude)')\n",
    "plt.show()\n",
    "print(f\"The r-squared is: {rvalue**2}\")"
   ]
  },
  {
   "cell_type": "markdown",
   "metadata": {},
   "source": [
    "####  Southern Hemisphere - Cloudiness (%) vs. Latitude Linear Regression"
   ]
  },
  {
   "cell_type": "code",
   "execution_count": 56,
   "metadata": {},
   "outputs": [
    {
     "data": {
      "image/png": "[encoded data removed]",
      "text/plain": [
       "<Figure size 432x288 with 1 Axes>"
      ]
     },
     "metadata": {
      "needs_background": "light"
     },
     "output_type": "display_data"
    },
    {
     "name": "stdout",
     "output_type": "stream",
     "text": [
      "The r-squared is: 7.354761918521854e-06\n"
     ]
    }
   ],
   "source": [
    "x_values = shem['Cloudiness']\n",
    "y_values = shem['Latitude']\n",
    "(slope, intercept, rvalue, pvalue, stderr) = linregress(x_values, y_values)\n",
    "regress_values = x_values * slope + intercept\n",
    "line_eq = \"y = \" + str(round(slope,2)) + \"x + \" + str(round(intercept,2))\n",
    "plt.scatter(x_values,y_values)\n",
    "plt.plot(x_values,regress_values,\"r-\")\n",
    "plt.annotate(line_eq,(10,-30),fontsize=15,color=\"red\")\n",
    "plt.xlabel('Cloudiness')\n",
    "plt.ylabel('Latitude)')\n",
    "plt.show()\n",
    "print(f\"The r-squared is: {rvalue**2}\")"
   ]
  },
  {
   "cell_type": "markdown",
   "metadata": {},
   "source": [
    "####  Northern Hemisphere - Wind Speed (mph) vs. Latitude Linear Regression"
   ]
  },
  {
   "cell_type": "code",
   "execution_count": 60,
   "metadata": {},
   "outputs": [
    {
     "data": {
      "image/png": "[encoded data removed]",
      "text/plain": [
       "<Figure size 432x288 with 1 Axes>"
      ]
     },
     "metadata": {
      "needs_background": "light"
     },
     "output_type": "display_data"
    },
    {
     "name": "stdout",
     "output_type": "stream",
     "text": [
      "The r-squared is: 0.016550007647509597\n"
     ]
    }
   ],
   "source": [
    "x_values = nhem['Wind Speed']\n",
    "y_values = nhem['Latitude']\n",
    "(slope, intercept, rvalue, pvalue, stderr) = linregress(x_values, y_values)\n",
    "regress_values = x_values * slope + intercept\n",
    "line_eq = \"y = \" + str(round(slope,2)) + \"x + \" + str(round(intercept,2))\n",
    "plt.scatter(x_values,y_values)\n",
    "plt.plot(x_values,regress_values,\"r-\")\n",
    "plt.annotate(line_eq,(15,50),fontsize=15,color=\"red\")\n",
    "plt.xlabel('Wind Speed')\n",
    "plt.ylabel('Latitude)')\n",
    "plt.show()\n",
    "print(f\"The r-squared is: {rvalue**2}\")"
   ]
  },
  {
   "cell_type": "markdown",
   "metadata": {},
   "source": [
    "####  Southern Hemisphere - Wind Speed (mph) vs. Latitude Linear Regression"
   ]
  },
  {
   "cell_type": "code",
   "execution_count": 64,
   "metadata": {},
   "outputs": [
    {
     "data": {
      "image/png": "[encoded data removed]",
      "text/plain": [
       "<Figure size 432x288 with 1 Axes>"
      ]
     },
     "metadata": {
      "needs_background": "light"
     },
     "output_type": "display_data"
    },
    {
     "name": "stdout",
     "output_type": "stream",
     "text": [
      "The r-squared is: 0.003646944170280066\n"
     ]
    }
   ],
   "source": [
    "x_values = shem['Wind Speed']\n",
    "y_values = shem['Latitude']\n",
    "(slope, intercept, rvalue, pvalue, stderr) = linregress(x_values, y_values)\n",
    "regress_values = x_values * slope + intercept\n",
    "line_eq = \"y = \" + str(round(slope,2)) + \"x + \" + str(round(intercept,2))\n",
    "plt.scatter(x_values,y_values)\n",
    "plt.plot(x_values,regress_values,\"r-\")\n",
    "plt.annotate(line_eq,(11,-50),fontsize=15,color=\"red\")\n",
    "plt.xlabel('Wind Speed')\n",
    "plt.ylabel('Latitude)')\n",
    "plt.show()\n",
    "print(f\"The r-squared is: {rvalue**2}\")"
   ]
  },
  {
   "cell_type": "code",
   "execution_count": null,
   "metadata": {},
   "outputs": [],
   "source": []
  }
 ],
 "metadata": {
  "anaconda-cloud": {},
  "kernel_info": {
   "name": "python3"
  },
  "kernelspec": {
   "display_name": "Python 3",
   "language": "python",
   "name": "python3"
  },
  "language_info": {
   "codemirror_mode": {
    "name": "ipython",
    "version": 3
   },
   "file_extension": ".py",
   "mimetype": "text/x-python",
   "name": "python",
   "nbconvert_exporter": "python",
   "pygments_lexer": "ipython3",
   "version": "3.7.6"
  },
  "latex_envs": {
   "LaTeX_envs_menu_present": true,
   "autoclose": false,
   "autocomplete": true,
   "bibliofile": "biblio.bib",
   "cite_by": "apalike",
   "current_citInitial": 1,
   "eqLabelWithNumbers": true,
   "eqNumInitial": 1,
   "hotkeys": {
    "equation": "Ctrl-E",
    "itemize": "Ctrl-I"
   },
   "labels_anchors": false,
   "latex_user_defs": false,
   "report_style_numbering": false,
   "user_envs_cfg": false
  },
  "nteract": {
   "version": "0.12.3"
  }
 },
 "nbformat": 4,
 "nbformat_minor": 2
}
