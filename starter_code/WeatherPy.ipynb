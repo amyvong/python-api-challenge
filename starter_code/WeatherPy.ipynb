{
 "cells": [
  {
   "cell_type": "markdown",
   "metadata": {},
   "source": [
    "# WeatherPy\n",
    "----\n",
    "\n",
    "#### Note\n",
    "* Instructions have been included for each segment. You do not have to follow them exactly, but they are included to help you think through the steps."
   ]
  },
  {
   "cell_type": "code",
   "execution_count": 1,
   "metadata": {
    "scrolled": true
   },
   "outputs": [],
   "source": [
    "# Dependencies and Setup\n",
    "import matplotlib.pyplot as plt\n",
    "import pandas as pd\n",
    "import numpy as np\n",
    "import requests\n",
    "import time\n",
    "from scipy.stats import linregress \n",
    "\n",
    "\n",
    "# Import API key\n",
    "from api_keys import weather_api_key\n",
    "\n",
    "# Incorporated citipy to determine city based on latitude and longitude\n",
    "from citipy import citipy\n",
    "\n",
    "# Output File (CSV)\n",
    "outputcities = \"output_data/cities.csv\"\n",
    "\n",
    "# Range of latitudes and longitudes\n",
    "lat_range = (-90, 90)\n",
    "lng_range = (-180, 180)"
   ]
  },
  {
   "cell_type": "code",
   "execution_count": null,
   "metadata": {},
   "outputs": [],
   "source": []
  },
  {
   "cell_type": "markdown",
   "metadata": {},
   "source": [
    "## Generate Cities List"
   ]
  },
  {
   "cell_type": "code",
   "execution_count": 2,
   "metadata": {},
   "outputs": [
    {
     "data": {
      "text/plain": [
       "598"
      ]
     },
     "execution_count": 2,
     "metadata": {},
     "output_type": "execute_result"
    }
   ],
   "source": [
    "# List for holding lat_lngs and cities\n",
    "lat_lngs = []\n",
    "cities = []\n",
    "\n",
    "# Create a set of random lat and lng combinations\n",
    "lats = np.random.uniform(lat_range[0], lat_range[1], size=1500)\n",
    "lngs = np.random.uniform(lng_range[0], lng_range[1], size=1500)\n",
    "lat_lngs = zip(lats, lngs)\n",
    "\n",
    "# Identify nearest city for each lat, lng combination\n",
    "for lat_lng in lat_lngs:\n",
    "    city = citipy.nearest_city(lat_lng[0], lat_lng[1]).city_name\n",
    "    \n",
    "    # If the city is unique, then add it to a our cities list\n",
    "    if city not in cities:\n",
    "        cities.append(city)\n",
    "\n",
    "# Print the city count to confirm sufficient count\n",
    "len(cities)"
   ]
  },
  {
   "cell_type": "code",
   "execution_count": 3,
   "metadata": {},
   "outputs": [],
   "source": [
    "url = \"http://api.openweathermap.org/data/2.5/weather?\"\n",
    "units =\"imperial\""
   ]
  },
  {
   "cell_type": "markdown",
   "metadata": {},
   "source": [
    "### Perform API Calls\n",
    "* Perform a weather check on each city using a series of successive API calls.\n",
    "* Include a print log of each city as it'sbeing processed (with the city number and city name).\n"
   ]
  },
  {
   "cell_type": "code",
   "execution_count": 4,
   "metadata": {},
   "outputs": [
    {
     "data": {
      "text/plain": [
       "{'coord': {'lon': -73.97, 'lat': 42.6},\n",
       " 'weather': [{'id': 500,\n",
       "   'main': 'Rain',\n",
       "   'description': 'light rain',\n",
       "   'icon': '10d'}],\n",
       " 'base': 'stations',\n",
       " 'main': {'temp': 81.3,\n",
       "  'feels_like': 83.71,\n",
       "  'temp_min': 79,\n",
       "  'temp_max': 82.99,\n",
       "  'pressure': 1011,\n",
       "  'humidity': 60},\n",
       " 'visibility': 10000,\n",
       " 'wind': {'speed': 5.93, 'deg': 265},\n",
       " 'rain': {'1h': 0.25},\n",
       " 'clouds': {'all': 93},\n",
       " 'dt': 1595536840,\n",
       " 'sys': {'type': 3,\n",
       "  'id': 19530,\n",
       "  'country': 'US',\n",
       "  'sunrise': 1595497150,\n",
       "  'sunset': 1595550315},\n",
       " 'timezone': -14400,\n",
       " 'id': 5106841,\n",
       " 'name': 'Albany',\n",
       " 'cod': 200}"
      ]
     },
     "execution_count": 4,
     "metadata": {},
     "output_type": "execute_result"
    }
   ],
   "source": [
    "\n",
    "query_url = f\"{url}appid={weather_api_key}&units={units}&q=\"\n",
    "response = requests.get(query_url + cities[0]).json()\n",
    "\n",
    "response"
   ]
  },
  {
   "cell_type": "code",
   "execution_count": null,
   "metadata": {},
   "outputs": [],
   "source": [
    "\n",
    "        "
   ]
  },
  {
   "cell_type": "code",
   "execution_count": 5,
   "metadata": {},
   "outputs": [
    {
     "name": "stdout",
     "output_type": "stream",
     "text": [
      "Beginning Data Retrieval\n",
      "-----------------------------\n",
      "Processing Record 1 of Set 1 | albany\n",
      "Processing Record 2 of Set 1 | sataua\n",
      "City not found. Skipping...\n",
      "Processing Record 3 of Set 1 | hermanus\n",
      "Processing Record 4 of Set 1 | makakilo city\n",
      "Processing Record 5 of Set 1 | kupang\n",
      "Processing Record 6 of Set 1 | hasaki\n",
      "Processing Record 7 of Set 1 | hihifo\n",
      "City not found. Skipping...\n",
      "Processing Record 8 of Set 1 | faanui\n",
      "Processing Record 9 of Set 1 | kiknur\n",
      "Processing Record 10 of Set 1 | jijiga\n",
      "Processing Record 11 of Set 1 | selje\n",
      "Processing Record 12 of Set 1 | castro\n",
      "Processing Record 13 of Set 1 | punta arenas\n",
      "Processing Record 14 of Set 1 | georgetown\n",
      "Processing Record 15 of Set 1 | atuona\n",
      "Processing Record 16 of Set 1 | mataura\n",
      "Processing Record 17 of Set 1 | praia da vitoria\n",
      "Processing Record 18 of Set 1 | sergeyevka\n",
      "Processing Record 19 of Set 1 | oistins\n",
      "Processing Record 20 of Set 1 | bluff\n",
      "Processing Record 21 of Set 1 | codrington\n",
      "Processing Record 22 of Set 1 | coxim\n",
      "Processing Record 23 of Set 1 | taolanaro\n",
      "City not found. Skipping...\n",
      "Processing Record 24 of Set 1 | avarua\n",
      "Processing Record 25 of Set 1 | vao\n",
      "Processing Record 26 of Set 1 | hami\n",
      "Processing Record 27 of Set 1 | hithadhoo\n",
      "Processing Record 28 of Set 1 | vaini\n",
      "Processing Record 29 of Set 1 | illoqqortoormiut\n",
      "City not found. Skipping...\n",
      "Processing Record 30 of Set 1 | kapaa\n",
      "Processing Record 31 of Set 1 | puerto ayora\n",
      "Processing Record 32 of Set 1 | ponta do sol\n",
      "Processing Record 33 of Set 1 | airdrie\n",
      "Processing Record 34 of Set 1 | silver city\n",
      "Processing Record 35 of Set 1 | san patricio\n",
      "Processing Record 36 of Set 1 | belushya guba\n",
      "City not found. Skipping...\n",
      "Processing Record 37 of Set 1 | el prat de llobregat\n",
      "Processing Record 38 of Set 1 | palabuhanratu\n",
      "City not found. Skipping...\n",
      "Processing Record 39 of Set 1 | karratha\n",
      "Processing Record 40 of Set 1 | khatanga\n",
      "Processing Record 41 of Set 1 | rungata\n",
      "City not found. Skipping...\n",
      "Processing Record 42 of Set 1 | kaitangata\n",
      "Processing Record 43 of Set 1 | floro\n",
      "Processing Record 44 of Set 1 | aksu\n",
      "Processing Record 45 of Set 1 | tasiilaq\n",
      "Processing Record 46 of Set 1 | chokurdakh\n",
      "Processing Record 47 of Set 1 | tsihombe\n",
      "City not found. Skipping...\n",
      "Processing Record 48 of Set 1 | ushuaia\n",
      "Processing Record 49 of Set 1 | bredasdorp\n",
      "Processing Record 50 of Set 1 | general pico\n",
      "Processing Record 1 of Set 2 | lakes entrance\n",
      "Processing Record 2 of Set 2 | cape town\n",
      "Processing Record 3 of Set 2 | salamiyah\n",
      "Processing Record 4 of Set 2 | butaritari\n",
      "Processing Record 5 of Set 2 | genhe\n",
      "Processing Record 6 of Set 2 | tura\n",
      "Processing Record 7 of Set 2 | samusu\n",
      "City not found. Skipping...\n",
      "Processing Record 8 of Set 2 | esperance\n",
      "Processing Record 9 of Set 2 | dharangaon\n",
      "Processing Record 10 of Set 2 | yellowknife\n",
      "Processing Record 11 of Set 2 | sao filipe\n",
      "Processing Record 12 of Set 2 | dikson\n",
      "Processing Record 13 of Set 2 | pevek\n",
      "Processing Record 14 of Set 2 | tuktoyaktuk\n",
      "Processing Record 15 of Set 2 | hobart\n",
      "Processing Record 16 of Set 2 | fortuna\n",
      "Processing Record 17 of Set 2 | palestine\n",
      "Processing Record 18 of Set 2 | henties bay\n",
      "Processing Record 19 of Set 2 | mar del plata\n",
      "Processing Record 20 of Set 2 | busselton\n",
      "Processing Record 21 of Set 2 | clyde river\n",
      "Processing Record 22 of Set 2 | merauke\n",
      "Processing Record 23 of Set 2 | hilo\n",
      "Processing Record 24 of Set 2 | east london\n",
      "Processing Record 25 of Set 2 | port macquarie\n",
      "Processing Record 26 of Set 2 | tuatapere\n",
      "Processing Record 27 of Set 2 | tuggurt\n",
      "City not found. Skipping...\n",
      "Processing Record 28 of Set 2 | new norfolk\n",
      "Processing Record 29 of Set 2 | leningradskiy\n",
      "Processing Record 30 of Set 2 | venice\n",
      "Processing Record 31 of Set 2 | perni\n",
      "Processing Record 32 of Set 2 | shaowu\n",
      "Processing Record 33 of Set 2 | sitka\n",
      "Processing Record 34 of Set 2 | pacific grove\n",
      "Processing Record 35 of Set 2 | berlevag\n",
      "Processing Record 36 of Set 2 | castro alves\n",
      "Processing Record 37 of Set 2 | rikitea\n",
      "Processing Record 38 of Set 2 | boda\n",
      "Processing Record 39 of Set 2 | mochishche\n",
      "Processing Record 40 of Set 2 | cherskiy\n",
      "Processing Record 41 of Set 2 | union\n",
      "Processing Record 42 of Set 2 | kodiak\n",
      "Processing Record 43 of Set 2 | port alfred\n",
      "Processing Record 44 of Set 2 | progreso\n",
      "Processing Record 45 of Set 2 | macaboboni\n",
      "City not found. Skipping...\n",
      "Processing Record 46 of Set 2 | nelson bay\n",
      "Processing Record 47 of Set 2 | lafiagi\n",
      "Processing Record 48 of Set 2 | maryanovka\n",
      "City not found. Skipping...\n",
      "Processing Record 49 of Set 2 | bethel\n",
      "Processing Record 50 of Set 2 | grindavik\n",
      "Processing Record 1 of Set 3 | mahebourg\n",
      "Processing Record 2 of Set 3 | stettler\n",
      "Processing Record 3 of Set 3 | marovoay\n",
      "Processing Record 4 of Set 3 | makung\n",
      "City not found. Skipping...\n",
      "Processing Record 5 of Set 3 | tiksi\n",
      "Processing Record 6 of Set 3 | provideniya\n",
      "Processing Record 7 of Set 3 | qianan\n",
      "Processing Record 8 of Set 3 | jamestown\n",
      "Processing Record 9 of Set 3 | savannah bight\n",
      "Processing Record 10 of Set 3 | saint-philippe\n",
      "Processing Record 11 of Set 3 | dwarka\n",
      "Processing Record 12 of Set 3 | beringovskiy\n",
      "Processing Record 13 of Set 3 | college\n",
      "Processing Record 14 of Set 3 | narsaq\n",
      "Processing Record 15 of Set 3 | sebinkarahisar\n",
      "Processing Record 16 of Set 3 | nizwa\n",
      "Processing Record 17 of Set 3 | porbandar\n",
      "Processing Record 18 of Set 3 | varniai\n",
      "Processing Record 19 of Set 3 | sabang\n",
      "Processing Record 20 of Set 3 | arraial do cabo\n",
      "Processing Record 21 of Set 3 | harper\n",
      "Processing Record 22 of Set 3 | husavik\n",
      "Processing Record 23 of Set 3 | nuevo progreso\n",
      "Processing Record 24 of Set 3 | nabire\n",
      "Processing Record 25 of Set 3 | solnechnyy\n",
      "Processing Record 26 of Set 3 | cidreira\n",
      "Processing Record 27 of Set 3 | smirnykh\n",
      "Processing Record 28 of Set 3 | urumqi\n",
      "Processing Record 29 of Set 3 | katsuura\n",
      "Processing Record 30 of Set 3 | dingle\n",
      "Processing Record 31 of Set 3 | mugumu\n",
      "Processing Record 32 of Set 3 | barcelos\n",
      "Processing Record 33 of Set 3 | klaksvik\n",
      "Processing Record 34 of Set 3 | sinnamary\n",
      "Processing Record 35 of Set 3 | namatanai\n",
      "Processing Record 36 of Set 3 | tocopilla\n",
      "Processing Record 37 of Set 3 | pachperwa\n",
      "Processing Record 38 of Set 3 | namibe\n",
      "Processing Record 39 of Set 3 | ayagoz\n",
      "Processing Record 40 of Set 3 | barentsburg\n",
      "City not found. Skipping...\n",
      "Processing Record 41 of Set 3 | broome\n",
      "Processing Record 42 of Set 3 | san quintin\n",
      "Processing Record 43 of Set 3 | geraldton\n",
      "Processing Record 44 of Set 3 | vila velha\n",
      "Processing Record 45 of Set 3 | mys shmidta\n",
      "City not found. Skipping...\n",
      "Processing Record 46 of Set 3 | flinders\n",
      "Processing Record 47 of Set 3 | port elizabeth\n",
      "Processing Record 48 of Set 3 | pangai\n",
      "Processing Record 49 of Set 3 | mayya\n",
      "Processing Record 50 of Set 3 | rio verde de mato grosso\n",
      "Processing Record 1 of Set 4 | sumbawa\n",
      "City not found. Skipping...\n",
      "Processing Record 2 of Set 4 | praia\n",
      "Processing Record 3 of Set 4 | saldanha\n",
      "Processing Record 4 of Set 4 | qaanaaq\n",
      "Processing Record 5 of Set 4 | manggar\n",
      "Processing Record 6 of Set 4 | plettenberg bay\n",
      "Processing Record 7 of Set 4 | pisco\n",
      "Processing Record 8 of Set 4 | kuche\n",
      "City not found. Skipping...\n",
      "Processing Record 9 of Set 4 | saleaula\n",
      "City not found. Skipping...\n",
      "Processing Record 10 of Set 4 | shingu\n",
      "Processing Record 11 of Set 4 | yerbogachen\n",
      "Processing Record 12 of Set 4 | shahr-e babak\n",
      "Processing Record 13 of Set 4 | carnarvon\n",
      "Processing Record 14 of Set 4 | belyy yar\n",
      "Processing Record 15 of Set 4 | sorvag\n",
      "City not found. Skipping...\n",
      "Processing Record 16 of Set 4 | lindi\n",
      "Processing Record 17 of Set 4 | darnah\n",
      "Processing Record 18 of Set 4 | severo-kurilsk\n",
      "Processing Record 19 of Set 4 | totma\n",
      "Processing Record 20 of Set 4 | lucatan\n",
      "City not found. Skipping...\n",
      "Processing Record 21 of Set 4 | salalah\n",
      "Processing Record 22 of Set 4 | heinola\n",
      "Processing Record 23 of Set 4 | osorno\n",
      "Processing Record 24 of Set 4 | petropavlovsk-kamchatskiy\n",
      "Processing Record 25 of Set 4 | lagoa\n",
      "Processing Record 26 of Set 4 | vardo\n",
      "Processing Record 27 of Set 4 | bubaque\n",
      "Processing Record 28 of Set 4 | khasan\n",
      "Processing Record 29 of Set 4 | lasa\n",
      "Processing Record 30 of Set 4 | barrow\n",
      "Processing Record 31 of Set 4 | aitape\n",
      "Processing Record 32 of Set 4 | kazalinsk\n",
      "City not found. Skipping...\n",
      "Processing Record 33 of Set 4 | camocim\n"
     ]
    },
    {
     "name": "stdout",
     "output_type": "stream",
     "text": [
      "Processing Record 34 of Set 4 | little current\n",
      "Processing Record 35 of Set 4 | aksarka\n",
      "Processing Record 36 of Set 4 | paramithia\n",
      "City not found. Skipping...\n",
      "Processing Record 37 of Set 4 | baykit\n",
      "Processing Record 38 of Set 4 | odienne\n",
      "Processing Record 39 of Set 4 | koath\n",
      "Processing Record 40 of Set 4 | grants\n",
      "Processing Record 41 of Set 4 | sechura\n",
      "Processing Record 42 of Set 4 | riyadh\n",
      "Processing Record 43 of Set 4 | umm lajj\n",
      "Processing Record 44 of Set 4 | khushab\n",
      "Processing Record 45 of Set 4 | nanortalik\n",
      "Processing Record 46 of Set 4 | los llanos de aridane\n",
      "Processing Record 47 of Set 4 | roma\n",
      "Processing Record 48 of Set 4 | lebu\n",
      "Processing Record 49 of Set 4 | mattru\n",
      "Processing Record 50 of Set 4 | puerto escondido\n",
      "Processing Record 1 of Set 5 | ilulissat\n",
      "Processing Record 2 of Set 5 | touros\n",
      "Processing Record 3 of Set 5 | christchurch\n",
      "Processing Record 4 of Set 5 | buariki\n",
      "City not found. Skipping...\n",
      "Processing Record 5 of Set 5 | novomykolayivka\n",
      "Processing Record 6 of Set 5 | port hardy\n",
      "Processing Record 7 of Set 5 | policarpa\n",
      "Processing Record 8 of Set 5 | guerrero negro\n",
      "Processing Record 9 of Set 5 | rovaniemi\n",
      "Processing Record 10 of Set 5 | yar-sale\n",
      "Processing Record 11 of Set 5 | longyearbyen\n",
      "Processing Record 12 of Set 5 | necochea\n",
      "Processing Record 13 of Set 5 | lakefield\n",
      "Processing Record 14 of Set 5 | sur\n",
      "Processing Record 15 of Set 5 | praxedis guerrero\n",
      "Processing Record 16 of Set 5 | san andres\n",
      "Processing Record 17 of Set 5 | kyshtovka\n",
      "Processing Record 18 of Set 5 | mrirt\n",
      "City not found. Skipping...\n",
      "Processing Record 19 of Set 5 | zhuhai\n",
      "Processing Record 20 of Set 5 | aklavik\n",
      "Processing Record 21 of Set 5 | cockburn town\n",
      "Processing Record 22 of Set 5 | victoria\n",
      "Processing Record 23 of Set 5 | san cristobal\n",
      "Processing Record 24 of Set 5 | kawana waters\n",
      "City not found. Skipping...\n",
      "Processing Record 25 of Set 5 | emerald\n",
      "Processing Record 26 of Set 5 | naze\n",
      "Processing Record 27 of Set 5 | jinka\n",
      "Processing Record 28 of Set 5 | port-gentil\n",
      "Processing Record 29 of Set 5 | alotau\n",
      "City not found. Skipping...\n",
      "Processing Record 30 of Set 5 | atar\n",
      "Processing Record 31 of Set 5 | sopelana\n",
      "Processing Record 32 of Set 5 | bandarbeyla\n",
      "Processing Record 33 of Set 5 | huescar\n",
      "Processing Record 34 of Set 5 | cukai\n",
      "Processing Record 35 of Set 5 | saskylakh\n",
      "Processing Record 36 of Set 5 | bonanza\n",
      "Processing Record 37 of Set 5 | amderma\n",
      "City not found. Skipping...\n",
      "Processing Record 38 of Set 5 | altar\n",
      "Processing Record 39 of Set 5 | suntar\n",
      "Processing Record 40 of Set 5 | kruisfontein\n",
      "Processing Record 41 of Set 5 | senneterre\n",
      "Processing Record 42 of Set 5 | riaba\n",
      "City not found. Skipping...\n",
      "Processing Record 43 of Set 5 | warrnambool\n",
      "Processing Record 44 of Set 5 | yulara\n",
      "Processing Record 45 of Set 5 | nikolskoye\n",
      "Processing Record 46 of Set 5 | stornoway\n",
      "Processing Record 47 of Set 5 | seoul\n",
      "Processing Record 48 of Set 5 | rawson\n",
      "Processing Record 49 of Set 5 | doha\n",
      "Processing Record 50 of Set 5 | karkaralinsk\n",
      "City not found. Skipping...\n",
      "Processing Record 1 of Set 6 | thompson\n",
      "Processing Record 2 of Set 6 | mitsamiouli\n",
      "Processing Record 3 of Set 6 | caravelas\n",
      "Processing Record 4 of Set 6 | marawi\n",
      "Processing Record 5 of Set 6 | san lawrenz\n",
      "Processing Record 6 of Set 6 | ulaanbaatar\n",
      "Processing Record 7 of Set 6 | yarmouth\n",
      "Processing Record 8 of Set 6 | alofi\n",
      "Processing Record 9 of Set 6 | sentyabrskiy\n",
      "City not found. Skipping...\n",
      "Processing Record 10 of Set 6 | kangaatsiaq\n",
      "Processing Record 11 of Set 6 | viedma\n",
      "Processing Record 12 of Set 6 | camacha\n",
      "Processing Record 13 of Set 6 | te anau\n",
      "Processing Record 14 of Set 6 | marsh harbour\n",
      "Processing Record 15 of Set 6 | arroyo\n",
      "Processing Record 16 of Set 6 | isangel\n",
      "Processing Record 17 of Set 6 | nampa\n",
      "Processing Record 18 of Set 6 | mantua\n",
      "Processing Record 19 of Set 6 | tall kayf\n",
      "Processing Record 20 of Set 6 | nizhneyansk\n",
      "City not found. Skipping...\n",
      "Processing Record 21 of Set 6 | dzilam gonzalez\n",
      "Processing Record 22 of Set 6 | la rioja\n",
      "Processing Record 23 of Set 6 | collie\n",
      "Processing Record 24 of Set 6 | gamba\n",
      "Processing Record 25 of Set 6 | wadi musa\n",
      "Processing Record 26 of Set 6 | veracruz\n",
      "Processing Record 27 of Set 6 | novyy urengoy\n",
      "Processing Record 28 of Set 6 | coquimbo\n",
      "Processing Record 29 of Set 6 | severnyy\n",
      "Processing Record 30 of Set 6 | fort-shevchenko\n",
      "Processing Record 31 of Set 6 | uruzgan\n",
      "Processing Record 32 of Set 6 | redcliffe\n",
      "Processing Record 33 of Set 6 | mucurapo\n",
      "Processing Record 34 of Set 6 | naples\n",
      "Processing Record 35 of Set 6 | sawai madhopur\n",
      "Processing Record 36 of Set 6 | vittorio veneto\n",
      "Processing Record 37 of Set 6 | skagastrond\n",
      "City not found. Skipping...\n",
      "Processing Record 38 of Set 6 | wuhan\n",
      "Processing Record 39 of Set 6 | mackay\n",
      "Processing Record 40 of Set 6 | olafsvik\n",
      "Processing Record 41 of Set 6 | cururupu\n",
      "Processing Record 42 of Set 6 | mount gambier\n",
      "Processing Record 43 of Set 6 | mehamn\n",
      "Processing Record 44 of Set 6 | bilma\n",
      "Processing Record 45 of Set 6 | poykovskiy\n",
      "Processing Record 46 of Set 6 | ginir\n",
      "Processing Record 47 of Set 6 | ribeira grande\n",
      "Processing Record 48 of Set 6 | yamethin\n",
      "Processing Record 49 of Set 6 | tromso\n",
      "Processing Record 50 of Set 6 | chadan\n",
      "Processing Record 1 of Set 7 | ust-tsilma\n",
      "Processing Record 2 of Set 7 | yeniseysk\n",
      "Processing Record 3 of Set 7 | ahipara\n",
      "Processing Record 4 of Set 7 | nyurba\n",
      "Processing Record 5 of Set 7 | constitucion\n",
      "Processing Record 6 of Set 7 | sakakah\n",
      "Processing Record 7 of Set 7 | nemuro\n",
      "Processing Record 8 of Set 7 | saint george\n",
      "Processing Record 9 of Set 7 | filingue\n",
      "Processing Record 10 of Set 7 | juegang\n",
      "Processing Record 11 of Set 7 | juigalpa\n",
      "Processing Record 12 of Set 7 | norman wells\n",
      "Processing Record 13 of Set 7 | mortka\n",
      "Processing Record 14 of Set 7 | lavrentiya\n",
      "Processing Record 15 of Set 7 | sola\n",
      "Processing Record 16 of Set 7 | tahoua\n",
      "Processing Record 17 of Set 7 | bambous virieux\n",
      "Processing Record 18 of Set 7 | san juan\n",
      "Processing Record 19 of Set 7 | qandala\n",
      "Processing Record 20 of Set 7 | kavaratti\n",
      "Processing Record 21 of Set 7 | flin flon\n",
      "Processing Record 22 of Set 7 | ambanja\n",
      "Processing Record 23 of Set 7 | raga\n",
      "Processing Record 24 of Set 7 | bonavista\n",
      "Processing Record 25 of Set 7 | padang\n",
      "Processing Record 26 of Set 7 | moramanga\n",
      "Processing Record 27 of Set 7 | rocha\n",
      "Processing Record 28 of Set 7 | marzuq\n",
      "Processing Record 29 of Set 7 | sept-iles\n",
      "Processing Record 30 of Set 7 | ancud\n",
      "Processing Record 31 of Set 7 | olinda\n",
      "Processing Record 32 of Set 7 | mahina\n",
      "Processing Record 33 of Set 7 | airai\n",
      "Processing Record 34 of Set 7 | hovd\n",
      "Processing Record 35 of Set 7 | samarai\n",
      "Processing Record 36 of Set 7 | walvis bay\n",
      "Processing Record 37 of Set 7 | benghazi\n",
      "Processing Record 38 of Set 7 | mitu\n",
      "Processing Record 39 of Set 7 | haibowan\n",
      "City not found. Skipping...\n",
      "Processing Record 40 of Set 7 | westport\n",
      "Processing Record 41 of Set 7 | privolzhskiy\n",
      "Processing Record 42 of Set 7 | faya\n",
      "Processing Record 43 of Set 7 | neiafu\n",
      "Processing Record 44 of Set 7 | sibolga\n",
      "Processing Record 45 of Set 7 | gidole\n",
      "Processing Record 46 of Set 7 | kieta\n",
      "Processing Record 47 of Set 7 | talnakh\n",
      "Processing Record 48 of Set 7 | mashhad\n",
      "Processing Record 49 of Set 7 | teya\n",
      "Processing Record 50 of Set 7 | upernavik\n",
      "Processing Record 1 of Set 8 | shubarkuduk\n",
      "Processing Record 2 of Set 8 | bobrovka\n",
      "Processing Record 3 of Set 8 | adre\n",
      "Processing Record 4 of Set 8 | elko\n",
      "Processing Record 5 of Set 8 | mildura\n",
      "Processing Record 6 of Set 8 | plavinas\n",
      "Processing Record 7 of Set 8 | chagda\n",
      "City not found. Skipping...\n",
      "Processing Record 8 of Set 8 | srednekolymsk\n",
      "Processing Record 9 of Set 8 | centralia\n",
      "Processing Record 10 of Set 8 | beloha\n",
      "Processing Record 11 of Set 8 | poum\n",
      "Processing Record 12 of Set 8 | tidore\n",
      "City not found. Skipping...\n",
      "Processing Record 13 of Set 8 | dharampur\n",
      "Processing Record 14 of Set 8 | varhaug\n",
      "Processing Record 15 of Set 8 | ngaoundere\n",
      "Processing Record 16 of Set 8 | asfi\n",
      "Processing Record 17 of Set 8 | tambun\n",
      "Processing Record 18 of Set 8 | shenjiamen\n",
      "Processing Record 19 of Set 8 | cap malheureux\n",
      "Processing Record 20 of Set 8 | aswan\n",
      "Processing Record 21 of Set 8 | tiarei\n",
      "Processing Record 22 of Set 8 | nuuk\n",
      "Processing Record 23 of Set 8 | sakaiminato\n",
      "Processing Record 24 of Set 8 | ouesso\n"
     ]
    },
    {
     "name": "stdout",
     "output_type": "stream",
     "text": [
      "Processing Record 25 of Set 8 | kahului\n",
      "Processing Record 26 of Set 8 | mogadishu\n",
      "Processing Record 27 of Set 8 | kalmunai\n",
      "Processing Record 28 of Set 8 | itarema\n",
      "Processing Record 29 of Set 8 | araguaina\n",
      "Processing Record 30 of Set 8 | ambodifototra\n",
      "City not found. Skipping...\n",
      "Processing Record 31 of Set 8 | alice springs\n",
      "Processing Record 32 of Set 8 | whitehorse\n",
      "Processing Record 33 of Set 8 | san ramon de la nueva oran\n",
      "Processing Record 34 of Set 8 | kralendijk\n",
      "Processing Record 35 of Set 8 | adrar\n",
      "Processing Record 36 of Set 8 | zhicheng\n",
      "Processing Record 37 of Set 8 | puerto penasco\n",
      "Processing Record 38 of Set 8 | sorland\n",
      "Processing Record 39 of Set 8 | egvekinot\n",
      "Processing Record 40 of Set 8 | kavieng\n",
      "Processing Record 41 of Set 8 | moerai\n",
      "Processing Record 42 of Set 8 | marcona\n",
      "City not found. Skipping...\n",
      "Processing Record 43 of Set 8 | presidente medici\n",
      "Processing Record 44 of Set 8 | martapura\n",
      "Processing Record 45 of Set 8 | mayor pablo lagerenza\n",
      "Processing Record 46 of Set 8 | islampur\n",
      "Processing Record 47 of Set 8 | san pedro\n",
      "Processing Record 48 of Set 8 | lososina\n",
      "Processing Record 49 of Set 8 | pandan niog\n",
      "Processing Record 50 of Set 8 | bathsheba\n",
      "Processing Record 1 of Set 9 | banda aceh\n",
      "Processing Record 2 of Set 9 | ignalina\n",
      "Processing Record 3 of Set 9 | falealupo\n",
      "City not found. Skipping...\n",
      "Processing Record 4 of Set 9 | saint-joseph\n",
      "Processing Record 5 of Set 9 | seddon\n",
      "Processing Record 6 of Set 9 | teneguiban\n",
      "City not found. Skipping...\n",
      "Processing Record 7 of Set 9 | piacabucu\n",
      "Processing Record 8 of Set 9 | rincon\n",
      "Processing Record 9 of Set 9 | mira\n",
      "Processing Record 10 of Set 9 | bengkulu\n",
      "Processing Record 11 of Set 9 | belaya gora\n",
      "Processing Record 12 of Set 9 | cabo san lucas\n",
      "Processing Record 13 of Set 9 | kindu\n",
      "Processing Record 14 of Set 9 | constantine\n",
      "Processing Record 15 of Set 9 | lahij\n",
      "Processing Record 16 of Set 9 | ayacucho\n",
      "Processing Record 17 of Set 9 | udachnyy\n",
      "Processing Record 18 of Set 9 | carlsbad\n",
      "Processing Record 19 of Set 9 | kailua\n",
      "Processing Record 20 of Set 9 | ixtapa\n",
      "Processing Record 21 of Set 9 | stoyba\n",
      "City not found. Skipping...\n",
      "Processing Record 22 of Set 9 | tamandare\n",
      "Processing Record 23 of Set 9 | anadyr\n",
      "Processing Record 24 of Set 9 | caramay\n",
      "Processing Record 25 of Set 9 | tessalit\n",
      "Processing Record 26 of Set 9 | rodrigues alves\n",
      "Processing Record 27 of Set 9 | tabiauea\n",
      "City not found. Skipping...\n",
      "Processing Record 28 of Set 9 | saint-pierre\n",
      "Processing Record 29 of Set 9 | lucapa\n",
      "Processing Record 30 of Set 9 | vaitupu\n",
      "City not found. Skipping...\n",
      "Processing Record 31 of Set 9 | weston\n",
      "Processing Record 32 of Set 9 | beyneu\n",
      "Processing Record 33 of Set 9 | sarangani\n",
      "Processing Record 34 of Set 9 | hobyo\n",
      "Processing Record 35 of Set 9 | afua\n",
      "Processing Record 36 of Set 9 | xining\n",
      "Processing Record 37 of Set 9 | quatre cocos\n",
      "Processing Record 38 of Set 9 | viru\n",
      "Processing Record 39 of Set 9 | yumen\n",
      "Processing Record 40 of Set 9 | ostrovnoy\n",
      "Processing Record 41 of Set 9 | turukhansk\n",
      "Processing Record 42 of Set 9 | tonosho\n",
      "Processing Record 43 of Set 9 | liwale\n",
      "Processing Record 44 of Set 9 | wallacetown\n",
      "Processing Record 45 of Set 9 | coromandel\n",
      "Processing Record 46 of Set 9 | urusha\n",
      "Processing Record 47 of Set 9 | hakkari\n",
      "Processing Record 48 of Set 9 | nioro\n",
      "Processing Record 49 of Set 9 | cadiz\n",
      "Processing Record 50 of Set 9 | lata\n",
      "Processing Record 1 of Set 10 | komsomolskiy\n",
      "Processing Record 2 of Set 10 | matagami\n",
      "Processing Record 3 of Set 10 | brownsville\n",
      "Processing Record 4 of Set 10 | dongsheng\n",
      "Processing Record 5 of Set 10 | portland\n",
      "Processing Record 6 of Set 10 | ruzhyn\n",
      "Processing Record 7 of Set 10 | pahrump\n",
      "Processing Record 8 of Set 10 | hirara\n",
      "Processing Record 9 of Set 10 | biak\n",
      "Processing Record 10 of Set 10 | santa fe\n",
      "Processing Record 11 of Set 10 | pozo colorado\n",
      "Processing Record 12 of Set 10 | ryki\n",
      "Processing Record 13 of Set 10 | eureka\n",
      "Processing Record 14 of Set 10 | chuy\n",
      "Processing Record 15 of Set 10 | japura\n",
      "Processing Record 16 of Set 10 | key west\n",
      "Processing Record 17 of Set 10 | muros\n",
      "Processing Record 18 of Set 10 | tomatlan\n",
      "Processing Record 19 of Set 10 | zaoyang\n",
      "Processing Record 20 of Set 10 | las vegas\n",
      "Processing Record 21 of Set 10 | kismayo\n",
      "Processing Record 22 of Set 10 | wajid\n",
      "Processing Record 23 of Set 10 | lima\n",
      "Processing Record 24 of Set 10 | eenhana\n",
      "Processing Record 25 of Set 10 | bilibino\n",
      "Processing Record 26 of Set 10 | marsa matruh\n",
      "Processing Record 27 of Set 10 | iqaluit\n",
      "Processing Record 28 of Set 10 | madang\n",
      "Processing Record 29 of Set 10 | ketchenery\n",
      "City not found. Skipping...\n",
      "Processing Record 30 of Set 10 | libreville\n",
      "Processing Record 31 of Set 10 | barabai\n",
      "Processing Record 32 of Set 10 | toftir\n",
      "City not found. Skipping...\n",
      "Processing Record 33 of Set 10 | mayo\n",
      "Processing Record 34 of Set 10 | venlo\n",
      "Processing Record 35 of Set 10 | ozgon\n",
      "City not found. Skipping...\n",
      "Processing Record 36 of Set 10 | pokhara\n",
      "Processing Record 37 of Set 10 | taber\n",
      "Processing Record 38 of Set 10 | mattawa\n",
      "Processing Record 39 of Set 10 | warqla\n",
      "City not found. Skipping...\n",
      "Processing Record 40 of Set 10 | oranjestad\n",
      "Processing Record 41 of Set 10 | cuajinicuilapa\n",
      "Processing Record 42 of Set 10 | marondera\n",
      "Processing Record 43 of Set 10 | trairi\n",
      "Processing Record 44 of Set 10 | sysert\n",
      "Processing Record 45 of Set 10 | northam\n",
      "Processing Record 46 of Set 10 | springbok\n",
      "Processing Record 47 of Set 10 | tumannyy\n",
      "City not found. Skipping...\n",
      "Processing Record 48 of Set 10 | coos bay\n",
      "Processing Record 49 of Set 10 | shar\n",
      "Processing Record 50 of Set 10 | noyabrsk\n",
      "Processing Record 1 of Set 11 | cheyenne\n",
      "Processing Record 2 of Set 11 | hervey bay\n",
      "Processing Record 3 of Set 11 | vangaindrano\n",
      "Processing Record 4 of Set 11 | coruripe\n",
      "Processing Record 5 of Set 11 | kuching\n",
      "Processing Record 6 of Set 11 | torbay\n",
      "Processing Record 7 of Set 11 | rexburg\n",
      "Processing Record 8 of Set 11 | mandera\n",
      "Processing Record 9 of Set 11 | andros town\n",
      "Processing Record 10 of Set 11 | vila franca do campo\n",
      "Processing Record 11 of Set 11 | dickinson\n",
      "Processing Record 12 of Set 11 | turayf\n",
      "Processing Record 13 of Set 11 | comodoro rivadavia\n",
      "Processing Record 14 of Set 11 | shakawe\n",
      "Processing Record 15 of Set 11 | basco\n",
      "Processing Record 16 of Set 11 | gobabis\n",
      "Processing Record 17 of Set 11 | obernai\n",
      "Processing Record 18 of Set 11 | liverpool\n",
      "Processing Record 19 of Set 11 | caceres\n",
      "Processing Record 20 of Set 11 | toliary\n",
      "City not found. Skipping...\n",
      "Processing Record 21 of Set 11 | tanggu\n",
      "Processing Record 22 of Set 11 | ambulu\n",
      "Processing Record 23 of Set 11 | anori\n",
      "Processing Record 24 of Set 11 | saint-georges\n",
      "Processing Record 25 of Set 11 | mayakonda\n",
      "Processing Record 26 of Set 11 | san vicente\n",
      "Processing Record 27 of Set 11 | orange cove\n",
      "Processing Record 28 of Set 11 | hambantota\n",
      "Processing Record 29 of Set 11 | irtyshskiy\n",
      "Processing Record 30 of Set 11 | dukat\n",
      "Processing Record 31 of Set 11 | daru\n",
      "Processing Record 32 of Set 11 | sulangan\n",
      "Processing Record 33 of Set 11 | hunza\n",
      "City not found. Skipping...\n",
      "Processing Record 34 of Set 11 | sorochinsk\n",
      "Processing Record 35 of Set 11 | rundu\n",
      "Processing Record 36 of Set 11 | vila\n",
      "Processing Record 37 of Set 11 | durango\n",
      "Processing Record 38 of Set 11 | timra\n",
      "Processing Record 39 of Set 11 | zhaocheng\n",
      "City not found. Skipping...\n",
      "Processing Record 40 of Set 11 | ko samui\n",
      "Processing Record 41 of Set 11 | urfa\n",
      "City not found. Skipping...\n",
      "Processing Record 42 of Set 11 | aloleng\n",
      "Processing Record 43 of Set 11 | bara\n",
      "Processing Record 44 of Set 11 | port blair\n",
      "Processing Record 45 of Set 11 | cravo norte\n",
      "Processing Record 46 of Set 11 | mandalgovi\n",
      "Processing Record 47 of Set 11 | buala\n",
      "Processing Record 48 of Set 11 | coahuayana\n",
      "Processing Record 49 of Set 11 | satitoa\n",
      "City not found. Skipping...\n",
      "Processing Record 50 of Set 11 | hong gai\n",
      "Processing Record 1 of Set 12 | astoria\n",
      "Processing Record 2 of Set 12 | lethem\n",
      "Processing Record 3 of Set 12 | tabou\n",
      "Processing Record 4 of Set 12 | menongue\n",
      "Processing Record 5 of Set 12 | kalemie\n",
      "Processing Record 6 of Set 12 | shelburne\n",
      "Processing Record 7 of Set 12 | shangrao\n",
      "Processing Record 8 of Set 12 | missoula\n",
      "Processing Record 9 of Set 12 | beinamar\n",
      "Processing Record 10 of Set 12 | ngunguru\n",
      "Processing Record 11 of Set 12 | shieli\n",
      "Processing Record 12 of Set 12 | misratah\n"
     ]
    },
    {
     "name": "stdout",
     "output_type": "stream",
     "text": [
      "Processing Record 13 of Set 12 | sahrak\n",
      "City not found. Skipping...\n",
      "Processing Record 14 of Set 12 | ballina\n",
      "Processing Record 15 of Set 12 | evensk\n",
      "Processing Record 16 of Set 12 | gunnedah\n",
      "Processing Record 17 of Set 12 | coihaique\n",
      "Processing Record 18 of Set 12 | lompoc\n",
      "Processing Record 19 of Set 12 | havelock\n",
      "Processing Record 20 of Set 12 | reyes\n",
      "Processing Record 21 of Set 12 | port hedland\n",
      "Processing Record 22 of Set 12 | monkey bay\n",
      "Processing Record 23 of Set 12 | murray bridge\n",
      "Processing Record 24 of Set 12 | jablah\n",
      "Processing Record 25 of Set 12 | zhigansk\n",
      "Processing Record 26 of Set 12 | chegdomyn\n",
      "Processing Record 27 of Set 12 | naruto\n",
      "Processing Record 28 of Set 12 | kamyshlov\n",
      "Processing Record 29 of Set 12 | sisimiut\n",
      "Processing Record 30 of Set 12 | danielskuil\n",
      "Processing Record 31 of Set 12 | batagay-alyta\n",
      "Processing Record 32 of Set 12 | kamsack\n",
      "Processing Record 33 of Set 12 | gualeguay\n",
      "Processing Record 34 of Set 12 | laguna\n",
      "Processing Record 35 of Set 12 | griffith\n",
      "Processing Record 36 of Set 12 | paamiut\n",
      "Processing Record 37 of Set 12 | kurali\n",
      "Processing Record 38 of Set 12 | templemore\n",
      "Processing Record 39 of Set 12 | miles city\n",
      "Processing Record 40 of Set 12 | markala\n",
      "Processing Record 41 of Set 12 | witu\n",
      "Processing Record 42 of Set 12 | tubigan\n",
      "Processing Record 43 of Set 12 | chapais\n",
      "Processing Record 44 of Set 12 | tan an\n",
      "Processing Record 45 of Set 12 | synya\n",
      "Processing Record 46 of Set 12 | virginia beach\n",
      "Processing Record 47 of Set 12 | bonthe\n",
      "Processing Record 48 of Set 12 | mehriz\n"
     ]
    }
   ],
   "source": [
    "lat = []\n",
    "lng=[]\n",
    "temp=[]\n",
    "maxtemp = []\n",
    "humidity=[]\n",
    "cloudiness=[]\n",
    "windspeed=[]\n",
    "country=[]\n",
    "date=[]\n",
    "newcities=[]\n",
    "\n",
    "record=1\n",
    "setcounter=1\n",
    "\n",
    "# Build partial query URL\n",
    "units = \"imperial\"\n",
    "query_url = f\"{url}appid={weather_api_key}&units={units}&q=\"\n",
    "\n",
    "print (\"Beginning Data Retrieval\")     \n",
    "print (\"-----------------------------\")\n",
    "for city in cities:\n",
    "    if record > 50:\n",
    "        setcounter +=1\n",
    "        record = 1\n",
    "    print (f\"Processing Record {record} of Set {setcounter} | {city}\")\n",
    "    record +=1\n",
    "    try:\n",
    "        response = requests.get(query_url + city).json()\n",
    "        lat.append(response['coord']['lat'])\n",
    "        lng.append(response['coord']['lon'])\n",
    "        temp.append(response['main']['temp'])\n",
    "        maxtemp.append(response['main']['temp_max'])\n",
    "        humidity.append(response['main']['humidity'])\n",
    "        cloudiness.append(response['clouds']['all'])\n",
    "        windspeed.append(response['wind']['speed'])\n",
    "        country.append(response['sys']['country'])\n",
    "        date.append(response['dt'])\n",
    "        newcities.append(city)\n",
    "        \n",
    "    except:\n",
    "        print (\"City not found. Skipping...\")                        \n",
    "        pass\n",
    "    \n",
    "\n",
    "    "
   ]
  },
  {
   "cell_type": "code",
   "execution_count": 6,
   "metadata": {},
   "outputs": [
    {
     "name": "stdout",
     "output_type": "stream",
     "text": [
      "[82.99, 59, 84.2, 70.79, 70, 77.56, 55.13, 61.59, 57.2, 62.29, 39.2, 80.6, 78.8, 39, 71.6, 61.54, 87.8, 39, 38.35, 85.89, 77, 69.39, 75.74, 83.17, 69.8, 82.4, 78.8, 68, 61, 75.2, 84.2, 79, 68.2, 42.42, 39.99, 60.8, 75.56, 37.4, 70.2, 41, 51.8, 44.53, 33.01, 55.99, 74.95, 82.29, 63.52, 73.99, 54.45, 77.52, 60.01, 77.7, 41.4, 47.43, 57.2, 39.99, 66.99, 80.6, 68, 55.99, 43, 48.2, 75.87, 82.4, 63.34, 46, 39, 39.99, 47.17, 77, 75.2, 79.61, 57.2, 68, 51.8, 69.15, 66.97, 70.16, 42.8, 66.76, 93, 59, 63.63, 99, 43, 76.24, 87.01, 51.8, 64.4, 72, 71.6, 59.94, 50, 74.17, 81, 84.88, 64.99, 84.69, 51.06, 64.4, 57.2, 56.82, 79.16, 84.31, 55.4, 81.66, 78.8, 75.79, 48.2, 95, 74.66, 59.22, 65.28, 52.07, 71.6, 73.99, 76.86, 63.37, 75, 50, 81.07, 80.37, 61.36, 79.07, 67.68, 64.2, 75, 70.27, 44.6, 77, 46.99, 53.6, 77, 59, 82.53, 82.4, 57.2, 49.28, 80.6, 65.93, 70, 75.22, 52.39, 75.49, 60.8, 55.4, 66.2, 77.25, 49.37, 53.55, 78.8, 53.6, 50, 55.4, 70.07, 53.6, 80.85, 65.25, 78.8, 42.8, 77.65, 82.49, 78.01, 47.16, 49.33, 73.29, 82, 75.2, 73.89, 95, 88.36, 92.66, 46.69, 71.6, 81, 47.37, 73.63, 87.8, 53.6, 78.8, 28.4, 66.99, 62.6, 72.19, 74.88, 59, 47.71, 48.2, 51.01, 81, 84.56, 91.4, 87.8, 49.1, 86, 60.8, 86, 86, 82.4, 53.01, 82.4, 61.39, 75.85, 99.28, 72, 75.99, 80.01, 77, 52.23, 89.91, 91, 60.21, 58.37, 77, 39, 39.2, 55, 57, 71.6, 39.9, 93.99, 82.4, 75.79, 71.78, 75, 81, 55.4, 84.2, 75.2, 50.81, 45, 69.8, 34.9, 83.8, 87.01, 71.6, 89.01, 77, 86.79, 89.64, 77, 43, 71.4, 69.22, 93.2, 47.5, 55.4, 60.8, 80.38, 64.51, 59, 80.01, 77, 82.89, 78.8, 77, 57.99, 47.61, 77.59, 41.27, 50, 92.73, 59, 58.64, 71.6, 75.6, 46.4, 55.74, 68.86, 43.88, 56.95, 61.07, 51.19, 96.8, 58.87, 97, 93.31, 75.99, 93.2, 62.6, 51.69, 55.35, 79.93, 87.8, 64.99, 45.27, 90.01, 81.52, 78.8, 68.22, 71.28, 64.56, 77.38, 55.94, 67.89, 81.39, 71.6, 48.2, 80.6, 80.6, 51.94, 64.02, 78.01, 73.4, 77.38, 79.88, 89.01, 66, 73.4, 75.2, 75.78, 55.72, 80.73, 44.6, 82.4, 45.41, 46.54, 72.14, 63.09, 74.16, 91.99, 37.4, 47.41, 78.19, 64.99, 59.67, 72, 79.75, 55, 64.17, 72.23, 79, 76.64, 64.99, 90.12, 80.6, 51.8, 73.4, 75.31, 87.8, 76.78, 78.76, 79.97, 86.05, 37.4, 55.4, 59, 87.8, 100.78, 75, 86, 50, 59.43, 82.85, 72.05, 92.44, 75.2, 91.24, 77.99, 88, 55.54, 83.44, 87.8, 77.95, 48.15, 64.99, 46.99, 73.71, 93.2, 78.8, 75.02, 82.87, 91.4, 80.24, 77, 86.86, 70.21, 50, 79, 84.2, 89.01, 75.04, 55.4, 80.29, 93.85, 89.6, 64.99, 66.43, 84.99, 75.99, 83.95, 77.11, 81.32, 58.66, 64.99, 69.37, 76.77, 60.49, 53.22, 77, 66.4, 39, 67.41, 63.34, 62.11, 79.99, 84, 73.99, 80.6, 78.8, 93.2, 68.25, 70, 58.78, 97, 84.43, 75.67, 48, 82.22, 59, 66.99, 67.35, 72.9, 82.4, 66.99, 90.12, 71.98, 102.99, 76.73, 73.26, 64.4, 60.8, 73.33, 75.15, 50, 76.68, 78.8, 72.61, 91.99, 70, 70.66, 88, 90, 87.8, 89.62, 41.63, 79.45, 60.8, 62.01, 57.52, 72, 64.69, 49.37, 84, 57.99, 62.51, 73.58, 75.2, 73.99, 81, 80.58, 89.6, 69.8, 93.2, 89.6, 41, 53.62, 84.85, 51.8, 75, 62.6, 89.01, 77, 70.43, 84.65, 86, 72.37, 66.76, 87.01, 79.84, 51.98, 65.41, 76.48, 84.31, 63.37, 60.8, 75.2, 77.38, 52, 84.06, 79.93, 75.63, 81.61, 80.87, 71.53, 81.86, 80.6, 84.2, 62.6, 85.5, 75.52, 49.77, 69.37, 77, 78.33, 78.8, 72.68, 48.99, 75.22, 78.12, 57.2, 58.59, 41, 24.8, 71.6, 90, 86.67, 59, 66.81, 46.99, 78.8, 59.22, 59.45, 77, 57.81, 52.18, 44.42, 69.04, 80.6, 49.06, 86, 82.99, 47.59, 83.44, 63, 91.4, 91.76, 75.7, 75, 77, 77, 57.94, 82.4, 76.33, 93.2]\n"
     ]
    }
   ],
   "source": [
    "print (maxtemp)"
   ]
  },
  {
   "cell_type": "code",
   "execution_count": 7,
   "metadata": {},
   "outputs": [
    {
     "data": {
      "text/html": [
       "<div>\n",
       "<style scoped>\n",
       "    .dataframe tbody tr th:only-of-type {\n",
       "        vertical-align: middle;\n",
       "    }\n",
       "\n",
       "    .dataframe tbody tr th {\n",
       "        vertical-align: top;\n",
       "    }\n",
       "\n",
       "    .dataframe thead th {\n",
       "        text-align: right;\n",
       "    }\n",
       "</style>\n",
       "<table border=\"1\" class=\"dataframe\">\n",
       "  <thead>\n",
       "    <tr style=\"text-align: right;\">\n",
       "      <th></th>\n",
       "      <th>City</th>\n",
       "      <th>Latitude</th>\n",
       "      <th>Longitude</th>\n",
       "      <th>Max Temp</th>\n",
       "      <th>Humidity</th>\n",
       "      <th>Cloudiness</th>\n",
       "      <th>Wind Speed</th>\n",
       "      <th>Country</th>\n",
       "      <th>Date</th>\n",
       "    </tr>\n",
       "  </thead>\n",
       "  <tbody>\n",
       "    <tr>\n",
       "      <th>0</th>\n",
       "      <td>albany</td>\n",
       "      <td>42.60</td>\n",
       "      <td>-73.97</td>\n",
       "      <td>82.99</td>\n",
       "      <td>60</td>\n",
       "      <td>93</td>\n",
       "      <td>5.93</td>\n",
       "      <td>US</td>\n",
       "      <td>1595536840</td>\n",
       "    </tr>\n",
       "    <tr>\n",
       "      <th>1</th>\n",
       "      <td>hermanus</td>\n",
       "      <td>-34.42</td>\n",
       "      <td>19.23</td>\n",
       "      <td>59.00</td>\n",
       "      <td>84</td>\n",
       "      <td>0</td>\n",
       "      <td>4.00</td>\n",
       "      <td>ZA</td>\n",
       "      <td>1595536841</td>\n",
       "    </tr>\n",
       "    <tr>\n",
       "      <th>2</th>\n",
       "      <td>makakilo city</td>\n",
       "      <td>21.35</td>\n",
       "      <td>-158.09</td>\n",
       "      <td>84.20</td>\n",
       "      <td>54</td>\n",
       "      <td>1</td>\n",
       "      <td>11.41</td>\n",
       "      <td>US</td>\n",
       "      <td>1595536675</td>\n",
       "    </tr>\n",
       "    <tr>\n",
       "      <th>3</th>\n",
       "      <td>kupang</td>\n",
       "      <td>-10.17</td>\n",
       "      <td>123.58</td>\n",
       "      <td>70.79</td>\n",
       "      <td>79</td>\n",
       "      <td>30</td>\n",
       "      <td>9.91</td>\n",
       "      <td>ID</td>\n",
       "      <td>1595536365</td>\n",
       "    </tr>\n",
       "    <tr>\n",
       "      <th>4</th>\n",
       "      <td>hasaki</td>\n",
       "      <td>35.73</td>\n",
       "      <td>140.83</td>\n",
       "      <td>70.00</td>\n",
       "      <td>100</td>\n",
       "      <td>75</td>\n",
       "      <td>2.24</td>\n",
       "      <td>JP</td>\n",
       "      <td>1595536745</td>\n",
       "    </tr>\n",
       "    <tr>\n",
       "      <th>...</th>\n",
       "      <td>...</td>\n",
       "      <td>...</td>\n",
       "      <td>...</td>\n",
       "      <td>...</td>\n",
       "      <td>...</td>\n",
       "      <td>...</td>\n",
       "      <td>...</td>\n",
       "      <td>...</td>\n",
       "      <td>...</td>\n",
       "    </tr>\n",
       "    <tr>\n",
       "      <th>540</th>\n",
       "      <td>tan an</td>\n",
       "      <td>10.53</td>\n",
       "      <td>106.42</td>\n",
       "      <td>77.00</td>\n",
       "      <td>94</td>\n",
       "      <td>40</td>\n",
       "      <td>3.36</td>\n",
       "      <td>VN</td>\n",
       "      <td>1595536974</td>\n",
       "    </tr>\n",
       "    <tr>\n",
       "      <th>541</th>\n",
       "      <td>synya</td>\n",
       "      <td>65.37</td>\n",
       "      <td>58.04</td>\n",
       "      <td>57.94</td>\n",
       "      <td>64</td>\n",
       "      <td>6</td>\n",
       "      <td>4.61</td>\n",
       "      <td>RU</td>\n",
       "      <td>1595536974</td>\n",
       "    </tr>\n",
       "    <tr>\n",
       "      <th>542</th>\n",
       "      <td>virginia beach</td>\n",
       "      <td>36.85</td>\n",
       "      <td>-75.98</td>\n",
       "      <td>82.40</td>\n",
       "      <td>78</td>\n",
       "      <td>90</td>\n",
       "      <td>8.05</td>\n",
       "      <td>US</td>\n",
       "      <td>1595536801</td>\n",
       "    </tr>\n",
       "    <tr>\n",
       "      <th>543</th>\n",
       "      <td>bonthe</td>\n",
       "      <td>7.53</td>\n",
       "      <td>-12.51</td>\n",
       "      <td>76.33</td>\n",
       "      <td>89</td>\n",
       "      <td>100</td>\n",
       "      <td>11.70</td>\n",
       "      <td>SL</td>\n",
       "      <td>1595536974</td>\n",
       "    </tr>\n",
       "    <tr>\n",
       "      <th>544</th>\n",
       "      <td>mehriz</td>\n",
       "      <td>31.59</td>\n",
       "      <td>54.43</td>\n",
       "      <td>93.20</td>\n",
       "      <td>9</td>\n",
       "      <td>0</td>\n",
       "      <td>6.93</td>\n",
       "      <td>IR</td>\n",
       "      <td>1595536975</td>\n",
       "    </tr>\n",
       "  </tbody>\n",
       "</table>\n",
       "<p>545 rows × 9 columns</p>\n",
       "</div>"
      ],
      "text/plain": [
       "               City  Latitude  Longitude  Max Temp  Humidity  Cloudiness  \\\n",
       "0            albany     42.60     -73.97     82.99        60          93   \n",
       "1          hermanus    -34.42      19.23     59.00        84           0   \n",
       "2     makakilo city     21.35    -158.09     84.20        54           1   \n",
       "3            kupang    -10.17     123.58     70.79        79          30   \n",
       "4            hasaki     35.73     140.83     70.00       100          75   \n",
       "..              ...       ...        ...       ...       ...         ...   \n",
       "540          tan an     10.53     106.42     77.00        94          40   \n",
       "541           synya     65.37      58.04     57.94        64           6   \n",
       "542  virginia beach     36.85     -75.98     82.40        78          90   \n",
       "543          bonthe      7.53     -12.51     76.33        89         100   \n",
       "544          mehriz     31.59      54.43     93.20         9           0   \n",
       "\n",
       "     Wind Speed Country        Date  \n",
       "0          5.93      US  1595536840  \n",
       "1          4.00      ZA  1595536841  \n",
       "2         11.41      US  1595536675  \n",
       "3          9.91      ID  1595536365  \n",
       "4          2.24      JP  1595536745  \n",
       "..          ...     ...         ...  \n",
       "540        3.36      VN  1595536974  \n",
       "541        4.61      RU  1595536974  \n",
       "542        8.05      US  1595536801  \n",
       "543       11.70      SL  1595536974  \n",
       "544        6.93      IR  1595536975  \n",
       "\n",
       "[545 rows x 9 columns]"
      ]
     },
     "execution_count": 7,
     "metadata": {},
     "output_type": "execute_result"
    }
   ],
   "source": [
    "\n",
    "weatherdf=pd.DataFrame({\"City\":newcities,\n",
    "              \"Latitude\":lat,\n",
    "              'Longitude':lng,\n",
    "            \"Max Temp\": maxtemp,\n",
    "             'Humidity': humidity,\n",
    "             'Cloudiness': cloudiness,\n",
    "             \"Wind Speed\": windspeed,\n",
    "             \"Country\": country,\n",
    "             \"Date\": date})\n",
    "weatherdf"
   ]
  },
  {
   "cell_type": "markdown",
   "metadata": {},
   "source": [
    "### Convert Raw Data to DataFrame\n",
    "* Export the city data into a .csv.\n",
    "* Display the DataFrame"
   ]
  },
  {
   "cell_type": "code",
   "execution_count": 8,
   "metadata": {},
   "outputs": [
    {
     "data": {
      "text/plain": [
       "City          545\n",
       "Latitude      545\n",
       "Longitude     545\n",
       "Max Temp      545\n",
       "Humidity      545\n",
       "Cloudiness    545\n",
       "Wind Speed    545\n",
       "Country       545\n",
       "Date          545\n",
       "dtype: int64"
      ]
     },
     "execution_count": 8,
     "metadata": {},
     "output_type": "execute_result"
    }
   ],
   "source": [
    "weatherdf.count()"
   ]
  },
  {
   "cell_type": "markdown",
   "metadata": {},
   "source": [
    "## Inspect the data and remove the cities where the humidity > 100%.\n",
    "----\n",
    "Skip this step if there are no cities that have humidity > 100%. "
   ]
  },
  {
   "cell_type": "code",
   "execution_count": 9,
   "metadata": {},
   "outputs": [
    {
     "data": {
      "text/html": [
       "<div>\n",
       "<style scoped>\n",
       "    .dataframe tbody tr th:only-of-type {\n",
       "        vertical-align: middle;\n",
       "    }\n",
       "\n",
       "    .dataframe tbody tr th {\n",
       "        vertical-align: top;\n",
       "    }\n",
       "\n",
       "    .dataframe thead th {\n",
       "        text-align: right;\n",
       "    }\n",
       "</style>\n",
       "<table border=\"1\" class=\"dataframe\">\n",
       "  <thead>\n",
       "    <tr style=\"text-align: right;\">\n",
       "      <th></th>\n",
       "      <th>Latitude</th>\n",
       "      <th>Longitude</th>\n",
       "      <th>Max Temp</th>\n",
       "      <th>Humidity</th>\n",
       "      <th>Cloudiness</th>\n",
       "      <th>Wind Speed</th>\n",
       "      <th>Date</th>\n",
       "    </tr>\n",
       "  </thead>\n",
       "  <tbody>\n",
       "    <tr>\n",
       "      <th>count</th>\n",
       "      <td>545.000000</td>\n",
       "      <td>545.000000</td>\n",
       "      <td>545.000000</td>\n",
       "      <td>545.000000</td>\n",
       "      <td>545.000000</td>\n",
       "      <td>545.000000</td>\n",
       "      <td>5.450000e+02</td>\n",
       "    </tr>\n",
       "    <tr>\n",
       "      <th>mean</th>\n",
       "      <td>19.234697</td>\n",
       "      <td>16.980330</td>\n",
       "      <td>69.496495</td>\n",
       "      <td>69.689908</td>\n",
       "      <td>50.016514</td>\n",
       "      <td>7.949780</td>\n",
       "      <td>1.595537e+09</td>\n",
       "    </tr>\n",
       "    <tr>\n",
       "      <th>std</th>\n",
       "      <td>33.093570</td>\n",
       "      <td>91.688189</td>\n",
       "      <td>14.870571</td>\n",
       "      <td>20.183560</td>\n",
       "      <td>38.622486</td>\n",
       "      <td>5.205343</td>\n",
       "      <td>9.013603e+01</td>\n",
       "    </tr>\n",
       "    <tr>\n",
       "      <th>min</th>\n",
       "      <td>-54.800000</td>\n",
       "      <td>-179.170000</td>\n",
       "      <td>24.800000</td>\n",
       "      <td>3.000000</td>\n",
       "      <td>0.000000</td>\n",
       "      <td>0.310000</td>\n",
       "      <td>1.595536e+09</td>\n",
       "    </tr>\n",
       "    <tr>\n",
       "      <th>25%</th>\n",
       "      <td>-8.140000</td>\n",
       "      <td>-63.760000</td>\n",
       "      <td>58.660000</td>\n",
       "      <td>57.000000</td>\n",
       "      <td>5.000000</td>\n",
       "      <td>4.030000</td>\n",
       "      <td>1.595537e+09</td>\n",
       "    </tr>\n",
       "    <tr>\n",
       "      <th>50%</th>\n",
       "      <td>22.290000</td>\n",
       "      <td>22.200000</td>\n",
       "      <td>72.370000</td>\n",
       "      <td>74.000000</td>\n",
       "      <td>52.000000</td>\n",
       "      <td>6.890000</td>\n",
       "      <td>1.595537e+09</td>\n",
       "    </tr>\n",
       "    <tr>\n",
       "      <th>75%</th>\n",
       "      <td>45.980000</td>\n",
       "      <td>96.150000</td>\n",
       "      <td>80.580000</td>\n",
       "      <td>85.000000</td>\n",
       "      <td>90.000000</td>\n",
       "      <td>10.600000</td>\n",
       "      <td>1.595537e+09</td>\n",
       "    </tr>\n",
       "    <tr>\n",
       "      <th>max</th>\n",
       "      <td>78.220000</td>\n",
       "      <td>179.320000</td>\n",
       "      <td>102.990000</td>\n",
       "      <td>100.000000</td>\n",
       "      <td>100.000000</td>\n",
       "      <td>30.000000</td>\n",
       "      <td>1.595537e+09</td>\n",
       "    </tr>\n",
       "  </tbody>\n",
       "</table>\n",
       "</div>"
      ],
      "text/plain": [
       "         Latitude   Longitude    Max Temp    Humidity  Cloudiness  Wind Speed  \\\n",
       "count  545.000000  545.000000  545.000000  545.000000  545.000000  545.000000   \n",
       "mean    19.234697   16.980330   69.496495   69.689908   50.016514    7.949780   \n",
       "std     33.093570   91.688189   14.870571   20.183560   38.622486    5.205343   \n",
       "min    -54.800000 -179.170000   24.800000    3.000000    0.000000    0.310000   \n",
       "25%     -8.140000  -63.760000   58.660000   57.000000    5.000000    4.030000   \n",
       "50%     22.290000   22.200000   72.370000   74.000000   52.000000    6.890000   \n",
       "75%     45.980000   96.150000   80.580000   85.000000   90.000000   10.600000   \n",
       "max     78.220000  179.320000  102.990000  100.000000  100.000000   30.000000   \n",
       "\n",
       "               Date  \n",
       "count  5.450000e+02  \n",
       "mean   1.595537e+09  \n",
       "std    9.013603e+01  \n",
       "min    1.595536e+09  \n",
       "25%    1.595537e+09  \n",
       "50%    1.595537e+09  \n",
       "75%    1.595537e+09  \n",
       "max    1.595537e+09  "
      ]
     },
     "execution_count": 9,
     "metadata": {},
     "output_type": "execute_result"
    }
   ],
   "source": [
    "weatherdf.describe()"
   ]
  },
  {
   "cell_type": "code",
   "execution_count": 10,
   "metadata": {},
   "outputs": [],
   "source": [
    "#  Get the indices of cities that have humidity over 100%.\n"
   ]
  },
  {
   "cell_type": "code",
   "execution_count": 11,
   "metadata": {},
   "outputs": [],
   "source": [
    "# Make a new DataFrame equal to the city data to drop all humidity outliers by index.\n",
    "# Passing \"inplace=False\" will make a copy of the city_data DataFrame, which we call \"clean_city_data\".\n"
   ]
  },
  {
   "cell_type": "code",
   "execution_count": 12,
   "metadata": {},
   "outputs": [],
   "source": [
    "# Extract relevant fields from the data frame\n",
    "\n",
    "\n",
    "weatherdf.to_csv(\"weather.csv\")"
   ]
  },
  {
   "cell_type": "markdown",
   "metadata": {},
   "source": [
    "## Plotting the Data\n",
    "* Use proper labeling of the plots using plot titles (including date of analysis) and axes labels.\n",
    "* Save the plotted figures as .pngs."
   ]
  },
  {
   "cell_type": "markdown",
   "metadata": {},
   "source": [
    "## Latitude vs. Temperature Plot"
   ]
  },
  {
   "cell_type": "code",
   "execution_count": 13,
   "metadata": {},
   "outputs": [
    {
     "data": {
      "image/png": "[encoded data removed]",
      "text/plain": [
       "<Figure size 432x288 with 1 Axes>"
      ]
     },
     "metadata": {
      "needs_background": "light"
     },
     "output_type": "display_data"
    }
   ],
   "source": [
    "plt.scatter(x=weatherdf['Latitude'], y=weatherdf['Max Temp'])\n",
    "plt.xlabel('Latitude')\n",
    "plt.ylabel('Max Temperature')\n",
    "plt.grid()\n",
    "plt.title('City Latitude vs. Max Temperature (F)')\n",
    "plt.show()\n",
    "\n"
   ]
  },
  {
   "cell_type": "markdown",
   "metadata": {},
   "source": [
    "## Latitude vs. Humidity Plot"
   ]
  },
  {
   "cell_type": "code",
   "execution_count": 14,
   "metadata": {},
   "outputs": [
    {
     "data": {
      "image/png": "[encoded data removed]",
      "text/plain": [
       "<Figure size 432x288 with 1 Axes>"
      ]
     },
     "metadata": {
      "needs_background": "light"
     },
     "output_type": "display_data"
    }
   ],
   "source": [
    "plt.scatter(x=weatherdf['Latitude'], y=weatherdf['Humidity'])\n",
    "plt.xlabel('Latitude')\n",
    "plt.ylabel('Humidity')\n",
    "plt.title('City Latitude vs. Humidity (%)')\n",
    "plt.grid()\n",
    "plt.show()"
   ]
  },
  {
   "cell_type": "markdown",
   "metadata": {},
   "source": [
    "## Latitude vs. Cloudiness Plot"
   ]
  },
  {
   "cell_type": "code",
   "execution_count": 15,
   "metadata": {},
   "outputs": [
    {
     "data": {
      "image/png": "[encoded data removed]",
      "text/plain": [
       "<Figure size 432x288 with 1 Axes>"
      ]
     },
     "metadata": {
      "needs_background": "light"
     },
     "output_type": "display_data"
    }
   ],
   "source": [
    "plt.scatter(x=weatherdf['Latitude'], y=weatherdf['Cloudiness'])\n",
    "plt.xlabel('Latitude')\n",
    "plt.ylabel('Cloudiness')\n",
    "plt.title('City Latitude vs. Cloudiness (%)')\n",
    "plt.grid()\n",
    "plt.show()\n",
    "\n",
    "plt.show()"
   ]
  },
  {
   "cell_type": "markdown",
   "metadata": {},
   "source": [
    "## Latitude vs. Wind Speed Plot"
   ]
  },
  {
   "cell_type": "code",
   "execution_count": 16,
   "metadata": {},
   "outputs": [
    {
     "data": {
      "image/png": "[encoded data removed]",
      "text/plain": [
       "<Figure size 432x288 with 1 Axes>"
      ]
     },
     "metadata": {
      "needs_background": "light"
     },
     "output_type": "display_data"
    }
   ],
   "source": [
    "plt.scatter(x=weatherdf['Latitude'], y=weatherdf['Wind Speed'])\n",
    "plt.xlabel('Latitude')\n",
    "plt.ylabel('Wind Speed')\n",
    "plt.title('City Latitude vs. Wind Speed (mph)')\n",
    "plt.grid()\n",
    "plt.show()"
   ]
  },
  {
   "cell_type": "markdown",
   "metadata": {},
   "source": [
    "## Linear Regression"
   ]
  },
  {
   "cell_type": "code",
   "execution_count": 17,
   "metadata": {},
   "outputs": [],
   "source": [
    "# # Define function for creating linear agression and scatter plot\n",
    "# (slope, intercept, rvalue, pvalue, stderr) = linregress(x_values, y_values)\n",
    "# regress_values = x_values * slope + intercept\n",
    "# line_eq = \"y = \" + str(round(slope,2)) + \"x + \" + str(round(intercept,2))\n",
    "# # plt.scatter(x_values,y_values)\n",
    "# # plt.plot(x_values,regress_values,\"r-\")\n",
    "# # plt.annotate(line_eq,(6,10),fontsize=15,color=\"red\")"
   ]
  },
  {
   "cell_type": "code",
   "execution_count": 18,
   "metadata": {},
   "outputs": [],
   "source": [
    "# OPTIONAL: Create a function to create Linear Regression plots\n"
   ]
  },
  {
   "cell_type": "code",
   "execution_count": 19,
   "metadata": {},
   "outputs": [
    {
     "data": {
      "text/html": [
       "<div>\n",
       "<style scoped>\n",
       "    .dataframe tbody tr th:only-of-type {\n",
       "        vertical-align: middle;\n",
       "    }\n",
       "\n",
       "    .dataframe tbody tr th {\n",
       "        vertical-align: top;\n",
       "    }\n",
       "\n",
       "    .dataframe thead th {\n",
       "        text-align: right;\n",
       "    }\n",
       "</style>\n",
       "<table border=\"1\" class=\"dataframe\">\n",
       "  <thead>\n",
       "    <tr style=\"text-align: right;\">\n",
       "      <th></th>\n",
       "      <th>City</th>\n",
       "      <th>Latitude</th>\n",
       "      <th>Longitude</th>\n",
       "      <th>Max Temp</th>\n",
       "      <th>Humidity</th>\n",
       "      <th>Cloudiness</th>\n",
       "      <th>Wind Speed</th>\n",
       "      <th>Country</th>\n",
       "      <th>Date</th>\n",
       "    </tr>\n",
       "  </thead>\n",
       "  <tbody>\n",
       "    <tr>\n",
       "      <th>1</th>\n",
       "      <td>hermanus</td>\n",
       "      <td>-34.42</td>\n",
       "      <td>19.23</td>\n",
       "      <td>59.00</td>\n",
       "      <td>84</td>\n",
       "      <td>0</td>\n",
       "      <td>4.00</td>\n",
       "      <td>ZA</td>\n",
       "      <td>1595536841</td>\n",
       "    </tr>\n",
       "    <tr>\n",
       "      <th>3</th>\n",
       "      <td>kupang</td>\n",
       "      <td>-10.17</td>\n",
       "      <td>123.58</td>\n",
       "      <td>70.79</td>\n",
       "      <td>79</td>\n",
       "      <td>30</td>\n",
       "      <td>9.91</td>\n",
       "      <td>ID</td>\n",
       "      <td>1595536365</td>\n",
       "    </tr>\n",
       "    <tr>\n",
       "      <th>5</th>\n",
       "      <td>faanui</td>\n",
       "      <td>-16.48</td>\n",
       "      <td>-151.75</td>\n",
       "      <td>77.56</td>\n",
       "      <td>81</td>\n",
       "      <td>1</td>\n",
       "      <td>18.50</td>\n",
       "      <td>PF</td>\n",
       "      <td>1595536545</td>\n",
       "    </tr>\n",
       "    <tr>\n",
       "      <th>9</th>\n",
       "      <td>castro</td>\n",
       "      <td>-24.79</td>\n",
       "      <td>-50.01</td>\n",
       "      <td>62.29</td>\n",
       "      <td>73</td>\n",
       "      <td>0</td>\n",
       "      <td>3.98</td>\n",
       "      <td>BR</td>\n",
       "      <td>1595536545</td>\n",
       "    </tr>\n",
       "    <tr>\n",
       "      <th>10</th>\n",
       "      <td>punta arenas</td>\n",
       "      <td>-53.15</td>\n",
       "      <td>-70.92</td>\n",
       "      <td>39.20</td>\n",
       "      <td>80</td>\n",
       "      <td>75</td>\n",
       "      <td>23.04</td>\n",
       "      <td>CL</td>\n",
       "      <td>1595536463</td>\n",
       "    </tr>\n",
       "    <tr>\n",
       "      <th>...</th>\n",
       "      <td>...</td>\n",
       "      <td>...</td>\n",
       "      <td>...</td>\n",
       "      <td>...</td>\n",
       "      <td>...</td>\n",
       "      <td>...</td>\n",
       "      <td>...</td>\n",
       "      <td>...</td>\n",
       "      <td>...</td>\n",
       "    </tr>\n",
       "    <tr>\n",
       "      <th>518</th>\n",
       "      <td>monkey bay</td>\n",
       "      <td>-14.07</td>\n",
       "      <td>34.92</td>\n",
       "      <td>66.81</td>\n",
       "      <td>69</td>\n",
       "      <td>65</td>\n",
       "      <td>18.63</td>\n",
       "      <td>MW</td>\n",
       "      <td>1595536969</td>\n",
       "    </tr>\n",
       "    <tr>\n",
       "      <th>519</th>\n",
       "      <td>murray bridge</td>\n",
       "      <td>-35.12</td>\n",
       "      <td>139.27</td>\n",
       "      <td>46.99</td>\n",
       "      <td>80</td>\n",
       "      <td>35</td>\n",
       "      <td>9.91</td>\n",
       "      <td>AU</td>\n",
       "      <td>1595536969</td>\n",
       "    </tr>\n",
       "    <tr>\n",
       "      <th>526</th>\n",
       "      <td>danielskuil</td>\n",
       "      <td>-28.19</td>\n",
       "      <td>23.54</td>\n",
       "      <td>44.42</td>\n",
       "      <td>46</td>\n",
       "      <td>0</td>\n",
       "      <td>6.93</td>\n",
       "      <td>ZA</td>\n",
       "      <td>1595536971</td>\n",
       "    </tr>\n",
       "    <tr>\n",
       "      <th>529</th>\n",
       "      <td>gualeguay</td>\n",
       "      <td>-33.14</td>\n",
       "      <td>-59.31</td>\n",
       "      <td>49.06</td>\n",
       "      <td>92</td>\n",
       "      <td>100</td>\n",
       "      <td>9.15</td>\n",
       "      <td>AR</td>\n",
       "      <td>1595536972</td>\n",
       "    </tr>\n",
       "    <tr>\n",
       "      <th>537</th>\n",
       "      <td>witu</td>\n",
       "      <td>-2.39</td>\n",
       "      <td>40.44</td>\n",
       "      <td>75.70</td>\n",
       "      <td>69</td>\n",
       "      <td>2</td>\n",
       "      <td>16.53</td>\n",
       "      <td>KE</td>\n",
       "      <td>1595536973</td>\n",
       "    </tr>\n",
       "  </tbody>\n",
       "</table>\n",
       "<p>171 rows × 9 columns</p>\n",
       "</div>"
      ],
      "text/plain": [
       "              City  Latitude  Longitude  Max Temp  Humidity  Cloudiness  \\\n",
       "1         hermanus    -34.42      19.23     59.00        84           0   \n",
       "3           kupang    -10.17     123.58     70.79        79          30   \n",
       "5           faanui    -16.48    -151.75     77.56        81           1   \n",
       "9           castro    -24.79     -50.01     62.29        73           0   \n",
       "10    punta arenas    -53.15     -70.92     39.20        80          75   \n",
       "..             ...       ...        ...       ...       ...         ...   \n",
       "518     monkey bay    -14.07      34.92     66.81        69          65   \n",
       "519  murray bridge    -35.12     139.27     46.99        80          35   \n",
       "526    danielskuil    -28.19      23.54     44.42        46           0   \n",
       "529      gualeguay    -33.14     -59.31     49.06        92         100   \n",
       "537           witu     -2.39      40.44     75.70        69           2   \n",
       "\n",
       "     Wind Speed Country        Date  \n",
       "1          4.00      ZA  1595536841  \n",
       "3          9.91      ID  1595536365  \n",
       "5         18.50      PF  1595536545  \n",
       "9          3.98      BR  1595536545  \n",
       "10        23.04      CL  1595536463  \n",
       "..          ...     ...         ...  \n",
       "518       18.63      MW  1595536969  \n",
       "519        9.91      AU  1595536969  \n",
       "526        6.93      ZA  1595536971  \n",
       "529        9.15      AR  1595536972  \n",
       "537       16.53      KE  1595536973  \n",
       "\n",
       "[171 rows x 9 columns]"
      ]
     },
     "execution_count": 19,
     "metadata": {},
     "output_type": "execute_result"
    }
   ],
   "source": [
    "# Create Northern and Southern Hemisphere DataFrames\n",
    "nhem = weatherdf.loc[weatherdf[\"Latitude\"] >= 0]\n",
    "shem = weatherdf.loc[weatherdf[\"Latitude\"] < 0]\n",
    "nhem\n",
    "shem"
   ]
  },
  {
   "cell_type": "markdown",
   "metadata": {},
   "source": [
    "####  Northern Hemisphere - Max Temp vs. Latitude Linear Regression"
   ]
  },
  {
   "cell_type": "code",
   "execution_count": null,
   "metadata": {},
   "outputs": [],
   "source": []
  },
  {
   "cell_type": "code",
   "execution_count": 20,
   "metadata": {},
   "outputs": [
    {
     "data": {
      "image/png": "[encoded data removed]",
      "text/plain": [
       "<Figure size 432x288 with 1 Axes>"
      ]
     },
     "metadata": {
      "needs_background": "light"
     },
     "output_type": "display_data"
    },
    {
     "name": "stdout",
     "output_type": "stream",
     "text": [
      "The r-squared is: 0.46627564814700206\n"
     ]
    }
   ],
   "source": [
    "\n",
    "x_values = nhem['Latitude']\n",
    "y_values = nhem['Max Temp']\n",
    "(slope, intercept, rvalue, pvalue, stderr) = linregress(x_values, y_values)\n",
    "regress_values = x_values * slope + intercept\n",
    "line_eq = \"y = \" + str(round(slope,2)) + \"x + \" + str(round(intercept,2))\n",
    "plt.scatter(x_values,y_values)\n",
    "plt.plot(x_values,regress_values,\"r-\")\n",
    "plt.annotate(line_eq,(30,60),fontsize=15,color=\"red\")\n",
    "plt.xlabel('Latitude')\n",
    "plt.ylabel('Max Temperature (F)')\n",
    "plt.show()\n",
    "print(f\"The r-squared is: {rvalue**2}\")"
   ]
  },
  {
   "cell_type": "code",
   "execution_count": null,
   "metadata": {},
   "outputs": [],
   "source": []
  },
  {
   "cell_type": "markdown",
   "metadata": {},
   "source": [
    "####  Southern Hemisphere - Max Temp vs. Latitude Linear Regression"
   ]
  },
  {
   "cell_type": "code",
   "execution_count": 21,
   "metadata": {},
   "outputs": [
    {
     "data": {
      "image/png": "[encoded data removed]",
      "text/plain": [
       "<Figure size 432x288 with 1 Axes>"
      ]
     },
     "metadata": {
      "needs_background": "light"
     },
     "output_type": "display_data"
    },
    {
     "name": "stdout",
     "output_type": "stream",
     "text": [
      "The r-squared is: 0.6611742904610819\n"
     ]
    }
   ],
   "source": [
    "x_values = shem['Max Temp']\n",
    "y_values = shem['Latitude']\n",
    "(slope, intercept, rvalue, pvalue, stderr) = linregress(x_values, y_values)\n",
    "regress_values = x_values * slope + intercept\n",
    "line_eq = \"y = \" + str(round(slope,2)) + \"x + \" + str(round(intercept,2))\n",
    "plt.scatter(x_values,y_values)\n",
    "plt.plot(x_values,regress_values,\"r-\")\n",
    "plt.annotate(line_eq,(30,-50),fontsize=15,color=\"red\")\n",
    "plt.xlabel('Max Temp')\n",
    "plt.ylabel('Latitude)')\n",
    "plt.show()\n",
    "print(f\"The r-squared is: {rvalue**2}\")\n"
   ]
  },
  {
   "cell_type": "markdown",
   "metadata": {},
   "source": [
    "####  Northern Hemisphere - Humidity (%) vs. Latitude Linear Regression"
   ]
  },
  {
   "cell_type": "code",
   "execution_count": 22,
   "metadata": {},
   "outputs": [
    {
     "data": {
      "image/png": "[encoded data removed]",
      "text/plain": [
       "<Figure size 432x288 with 1 Axes>"
      ]
     },
     "metadata": {
      "needs_background": "light"
     },
     "output_type": "display_data"
    },
    {
     "name": "stdout",
     "output_type": "stream",
     "text": [
      "The r-squared is: 1.8838278718797058e-10\n"
     ]
    }
   ],
   "source": [
    "x_values = nhem['Humidity']\n",
    "y_values = nhem['Latitude']\n",
    "(slope, intercept, rvalue, pvalue, stderr) = linregress(x_values, y_values)\n",
    "regress_values = x_values * slope + intercept\n",
    "line_eq = \"y = \" + str(round(slope,2)) + \"x + \" + str(round(intercept,2))\n",
    "plt.scatter(x_values,y_values)\n",
    "plt.plot(x_values,regress_values,\"r-\")\n",
    "plt.annotate(line_eq,(30,60),fontsize=15,color=\"red\")\n",
    "plt.xlabel('Humidity')\n",
    "plt.ylabel('Latitude)')\n",
    "plt.show()\n",
    "print(f\"The r-squared is: {rvalue**2}\")"
   ]
  },
  {
   "cell_type": "markdown",
   "metadata": {},
   "source": [
    "####  Southern Hemisphere - Humidity (%) vs. Latitude Linear Regression"
   ]
  },
  {
   "cell_type": "code",
   "execution_count": 23,
   "metadata": {},
   "outputs": [
    {
     "data": {
      "image/png": "[encoded data removed]",
      "text/plain": [
       "<Figure size 432x288 with 1 Axes>"
      ]
     },
     "metadata": {
      "needs_background": "light"
     },
     "output_type": "display_data"
    },
    {
     "name": "stdout",
     "output_type": "stream",
     "text": [
      "The r-squared is: 0.0042950324991752635\n"
     ]
    }
   ],
   "source": [
    "x_values = shem['Humidity']\n",
    "y_values = shem['Latitude']\n",
    "(slope, intercept, rvalue, pvalue, stderr) = linregress(x_values, y_values)\n",
    "regress_values = x_values * slope + intercept\n",
    "line_eq = \"y = \" + str(round(slope,2)) + \"x + \" + str(round(intercept,2))\n",
    "plt.scatter(x_values,y_values)\n",
    "plt.plot(x_values,regress_values,\"r-\")\n",
    "plt.annotate(line_eq,(0,-10),fontsize=15,color=\"red\")\n",
    "plt.xlabel('Humidity')\n",
    "plt.ylabel('Latitude)')\n",
    "plt.show()\n",
    "print(f\"The r-squared is: {rvalue**2}\")"
   ]
  },
  {
   "cell_type": "markdown",
   "metadata": {},
   "source": [
    "####  Northern Hemisphere - Cloudiness (%) vs. Latitude Linear Regression"
   ]
  },
  {
   "cell_type": "code",
   "execution_count": 24,
   "metadata": {},
   "outputs": [
    {
     "data": {
      "image/png": "[encoded data removed]",
      "text/plain": [
       "<Figure size 432x288 with 1 Axes>"
      ]
     },
     "metadata": {
      "needs_background": "light"
     },
     "output_type": "display_data"
    },
    {
     "name": "stdout",
     "output_type": "stream",
     "text": [
      "The r-squared is: 0.00948953771990082\n"
     ]
    }
   ],
   "source": [
    "x_values = nhem['Cloudiness']\n",
    "y_values = nhem['Latitude']\n",
    "(slope, intercept, rvalue, pvalue, stderr) = linregress(x_values, y_values)\n",
    "regress_values = x_values * slope + intercept\n",
    "line_eq = \"y = \" + str(round(slope,2)) + \"x + \" + str(round(intercept,2))\n",
    "plt.scatter(x_values,y_values)\n",
    "plt.plot(x_values,regress_values,\"r-\")\n",
    "plt.annotate(line_eq,(20,10),fontsize=15,color=\"red\")\n",
    "plt.xlabel('Cloudiness')\n",
    "plt.ylabel('Latitude)')\n",
    "plt.show()\n",
    "print(f\"The r-squared is: {rvalue**2}\")"
   ]
  },
  {
   "cell_type": "markdown",
   "metadata": {},
   "source": [
    "####  Southern Hemisphere - Cloudiness (%) vs. Latitude Linear Regression"
   ]
  },
  {
   "cell_type": "code",
   "execution_count": 25,
   "metadata": {},
   "outputs": [
    {
     "data": {
      "image/png": "[encoded data removed]",
      "text/plain": [
       "<Figure size 432x288 with 1 Axes>"
      ]
     },
     "metadata": {
      "needs_background": "light"
     },
     "output_type": "display_data"
    },
    {
     "name": "stdout",
     "output_type": "stream",
     "text": [
      "The r-squared is: 0.0016545894086446807\n"
     ]
    }
   ],
   "source": [
    "x_values = shem['Cloudiness']\n",
    "y_values = shem['Latitude']\n",
    "(slope, intercept, rvalue, pvalue, stderr) = linregress(x_values, y_values)\n",
    "regress_values = x_values * slope + intercept\n",
    "line_eq = \"y = \" + str(round(slope,2)) + \"x + \" + str(round(intercept,2))\n",
    "plt.scatter(x_values,y_values)\n",
    "plt.plot(x_values,regress_values,\"r-\")\n",
    "plt.annotate(line_eq,(10,-30),fontsize=15,color=\"red\")\n",
    "plt.xlabel('Cloudiness')\n",
    "plt.ylabel('Latitude)')\n",
    "plt.show()\n",
    "print(f\"The r-squared is: {rvalue**2}\")"
   ]
  },
  {
   "cell_type": "markdown",
   "metadata": {},
   "source": [
    "####  Northern Hemisphere - Wind Speed (mph) vs. Latitude Linear Regression"
   ]
  },
  {
   "cell_type": "code",
   "execution_count": 26,
   "metadata": {},
   "outputs": [
    {
     "data": {
      "image/png": "[encoded data removed]",
      "text/plain": [
       "<Figure size 432x288 with 1 Axes>"
      ]
     },
     "metadata": {
      "needs_background": "light"
     },
     "output_type": "display_data"
    },
    {
     "name": "stdout",
     "output_type": "stream",
     "text": [
      "The r-squared is: 0.009740000260027134\n"
     ]
    }
   ],
   "source": [
    "x_values = nhem['Wind Speed']\n",
    "y_values = nhem['Latitude']\n",
    "(slope, intercept, rvalue, pvalue, stderr) = linregress(x_values, y_values)\n",
    "regress_values = x_values * slope + intercept\n",
    "line_eq = \"y = \" + str(round(slope,2)) + \"x + \" + str(round(intercept,2))\n",
    "plt.scatter(x_values,y_values)\n",
    "plt.plot(x_values,regress_values,\"r-\")\n",
    "plt.annotate(line_eq,(15,50),fontsize=15,color=\"red\")\n",
    "plt.xlabel('Wind Speed')\n",
    "plt.ylabel('Latitude)')\n",
    "plt.show()\n",
    "print(f\"The r-squared is: {rvalue**2}\")"
   ]
  },
  {
   "cell_type": "markdown",
   "metadata": {},
   "source": [
    "####  Southern Hemisphere - Wind Speed (mph) vs. Latitude Linear Regression"
   ]
  },
  {
   "cell_type": "code",
   "execution_count": 27,
   "metadata": {},
   "outputs": [
    {
     "data": {
      "image/png": "[encoded data removed]",
      "text/plain": [
       "<Figure size 432x288 with 1 Axes>"
      ]
     },
     "metadata": {
      "needs_background": "light"
     },
     "output_type": "display_data"
    },
    {
     "name": "stdout",
     "output_type": "stream",
     "text": [
      "The r-squared is: 0.016862744801208963\n"
     ]
    }
   ],
   "source": [
    "x_values = shem['Wind Speed']\n",
    "y_values = shem['Latitude']\n",
    "(slope, intercept, rvalue, pvalue, stderr) = linregress(x_values, y_values)\n",
    "regress_values = x_values * slope + intercept\n",
    "line_eq = \"y = \" + str(round(slope,2)) + \"x + \" + str(round(intercept,2))\n",
    "plt.scatter(x_values,y_values)\n",
    "plt.plot(x_values,regress_values,\"r-\")\n",
    "plt.annotate(line_eq,(11,-50),fontsize=15,color=\"red\")\n",
    "plt.xlabel('Wind Speed')\n",
    "plt.ylabel('Latitude)')\n",
    "plt.show()\n",
    "print(f\"The r-squared is: {rvalue**2}\")"
   ]
  },
  {
   "cell_type": "code",
   "execution_count": null,
   "metadata": {},
   "outputs": [],
   "source": []
  }
 ],
 "metadata": {
  "anaconda-cloud": {},
  "kernel_info": {
   "name": "python3"
  },
  "kernelspec": {
   "display_name": "Python 3",
   "language": "python",
   "name": "python3"
  },
  "language_info": {
   "codemirror_mode": {
    "name": "ipython",
    "version": 3
   },
   "file_extension": ".py",
   "mimetype": "text/x-python",
   "name": "python",
   "nbconvert_exporter": "python",
   "pygments_lexer": "ipython3",
   "version": "3.7.6"
  },
  "latex_envs": {
   "LaTeX_envs_menu_present": true,
   "autoclose": false,
   "autocomplete": true,
   "bibliofile": "biblio.bib",
   "cite_by": "apalike",
   "current_citInitial": 1,
   "eqLabelWithNumbers": true,
   "eqNumInitial": 1,
   "hotkeys": {
    "equation": "Ctrl-E",
    "itemize": "Ctrl-I"
   },
   "labels_anchors": false,
   "latex_user_defs": false,
   "report_style_numbering": false,
   "user_envs_cfg": false
  },
  "nteract": {
   "version": "0.12.3"
  }
 },
 "nbformat": 4,
 "nbformat_minor": 2
}
