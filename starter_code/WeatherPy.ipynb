{
 "cells": [
  {
   "cell_type": "markdown",
   "metadata": {},
   "source": [
    "# WeatherPy\n",
    "----\n",
    "\n",
    "#### Note\n",
    "* Instructions have been included for each segment. You do not have to follow them exactly, but they are included to help you think through the steps."
   ]
  },
  {
   "cell_type": "code",
   "execution_count": 1,
   "metadata": {
    "scrolled": true
   },
   "outputs": [],
   "source": [
    "# Dependencies and Setup\n",
    "import matplotlib.pyplot as plt\n",
    "import pandas as pd\n",
    "import numpy as np\n",
    "import requests\n",
    "import time\n",
    "from scipy.stats import linregress \n",
    "\n",
    "\n",
    "# Import API key\n",
    "from api_keys import weather_api_key\n",
    "\n",
    "# Incorporated citipy to determine city based on latitude and longitude\n",
    "from citipy import citipy\n",
    "\n",
    "# Output File (CSV)\n",
    "outputcities = \"output_data/cities.csv\"\n",
    "\n",
    "# Range of latitudes and longitudes\n",
    "lat_range = (-90, 90)\n",
    "lng_range = (-180, 180)"
   ]
  },
  {
   "cell_type": "code",
   "execution_count": null,
   "metadata": {},
   "outputs": [],
   "source": []
  },
  {
   "cell_type": "markdown",
   "metadata": {},
   "source": [
    "## Generate Cities List"
   ]
  },
  {
   "cell_type": "code",
   "execution_count": 2,
   "metadata": {},
   "outputs": [
    {
     "data": {
      "text/plain": [
       "614"
      ]
     },
     "execution_count": 2,
     "metadata": {},
     "output_type": "execute_result"
    }
   ],
   "source": [
    "# List for holding lat_lngs and cities\n",
    "lat_lngs = []\n",
    "cities = []\n",
    "\n",
    "# Create a set of random lat and lng combinations\n",
    "lats = np.random.uniform(lat_range[0], lat_range[1], size=1500)\n",
    "lngs = np.random.uniform(lng_range[0], lng_range[1], size=1500)\n",
    "lat_lngs = zip(lats, lngs)\n",
    "\n",
    "# Identify nearest city for each lat, lng combination\n",
    "for lat_lng in lat_lngs:\n",
    "    city = citipy.nearest_city(lat_lng[0], lat_lng[1]).city_name\n",
    "    \n",
    "    # If the city is unique, then add it to a our cities list\n",
    "    if city not in cities:\n",
    "        cities.append(city)\n",
    "\n",
    "# Print the city count to confirm sufficient count\n",
    "len(cities)"
   ]
  },
  {
   "cell_type": "code",
   "execution_count": 3,
   "metadata": {},
   "outputs": [],
   "source": [
    "url = \"http://api.openweathermap.org/data/2.5/weather?\"\n",
    "units =\"imperial\""
   ]
  },
  {
   "cell_type": "markdown",
   "metadata": {},
   "source": [
    "### Perform API Calls\n",
    "* Perform a weather check on each city using a series of successive API calls.\n",
    "* Include a print log of each city as it'sbeing processed (with the city number and city name).\n"
   ]
  },
  {
   "cell_type": "code",
   "execution_count": 4,
   "metadata": {},
   "outputs": [
    {
     "data": {
      "text/plain": [
       "{'coord': {'lon': 155.8, 'lat': 62.53},\n",
       " 'weather': [{'id': 800,\n",
       "   'main': 'Clear',\n",
       "   'description': 'clear sky',\n",
       "   'icon': '01d'}],\n",
       " 'base': 'stations',\n",
       " 'main': {'temp': 71.02,\n",
       "  'feels_like': 64.4,\n",
       "  'temp_min': 71.02,\n",
       "  'temp_max': 71.02,\n",
       "  'pressure': 1005,\n",
       "  'humidity': 38,\n",
       "  'sea_level': 1005,\n",
       "  'grnd_level': 946},\n",
       " 'visibility': 10000,\n",
       " 'wind': {'speed': 9.33, 'deg': 182},\n",
       " 'clouds': {'all': 0},\n",
       " 'dt': 1595804338,\n",
       " 'sys': {'country': 'RU', 'sunrise': 1595781865, 'sunset': 1595846517},\n",
       " 'timezone': 39600,\n",
       " 'id': 2122493,\n",
       " 'name': 'Omsukchan',\n",
       " 'cod': 200}"
      ]
     },
     "execution_count": 4,
     "metadata": {},
     "output_type": "execute_result"
    }
   ],
   "source": [
    "\n",
    "query_url = f\"{url}appid={weather_api_key}&units={units}&q=\"\n",
    "response = requests.get(query_url + cities[0]).json()\n",
    "\n",
    "response"
   ]
  },
  {
   "cell_type": "code",
   "execution_count": null,
   "metadata": {},
   "outputs": [],
   "source": [
    "\n",
    "        "
   ]
  },
  {
   "cell_type": "code",
   "execution_count": 5,
   "metadata": {},
   "outputs": [
    {
     "name": "stdout",
     "output_type": "stream",
     "text": [
      "Beginning Data Retrieval\n",
      "-----------------------------\n",
      "Processing Record 1 of Set 1 | omsukchan\n",
      "Processing Record 2 of Set 1 | kaka\n",
      "Processing Record 3 of Set 1 | taolanaro\n",
      "City not found. Skipping...\n",
      "Processing Record 4 of Set 1 | nizhniy kuranakh\n",
      "Processing Record 5 of Set 1 | ushuaia\n",
      "Processing Record 6 of Set 1 | gao\n",
      "Processing Record 7 of Set 1 | stubbekobing\n",
      "Processing Record 8 of Set 1 | ternate\n",
      "Processing Record 9 of Set 1 | mataura\n",
      "Processing Record 10 of Set 1 | khatanga\n",
      "Processing Record 11 of Set 1 | deputatskiy\n",
      "Processing Record 12 of Set 1 | puerto ayora\n",
      "Processing Record 13 of Set 1 | fukue\n",
      "Processing Record 14 of Set 1 | hambantota\n",
      "Processing Record 15 of Set 1 | cortez\n",
      "Processing Record 16 of Set 1 | ribeira grande\n",
      "Processing Record 17 of Set 1 | rikitea\n",
      "Processing Record 18 of Set 1 | ahuimanu\n",
      "Processing Record 19 of Set 1 | constitucion\n",
      "Processing Record 20 of Set 1 | san quintin\n",
      "Processing Record 21 of Set 1 | albany\n",
      "Processing Record 22 of Set 1 | dikson\n",
      "Processing Record 23 of Set 1 | butaritari\n",
      "Processing Record 24 of Set 1 | hermanus\n",
      "Processing Record 25 of Set 1 | atuona\n",
      "Processing Record 26 of Set 1 | vao\n",
      "Processing Record 27 of Set 1 | acapulco\n",
      "Processing Record 28 of Set 1 | saskylakh\n",
      "Processing Record 29 of Set 1 | jipijapa\n",
      "Processing Record 30 of Set 1 | emba\n",
      "Processing Record 31 of Set 1 | vyshestebliyevskaya\n",
      "Processing Record 32 of Set 1 | pevek\n",
      "Processing Record 33 of Set 1 | ulladulla\n",
      "Processing Record 34 of Set 1 | mahebourg\n",
      "Processing Record 35 of Set 1 | hirara\n",
      "Processing Record 36 of Set 1 | nautla\n",
      "Processing Record 37 of Set 1 | sangar\n",
      "Processing Record 38 of Set 1 | calamar\n",
      "Processing Record 39 of Set 1 | soyo\n",
      "Processing Record 40 of Set 1 | vaitupu\n",
      "City not found. Skipping...\n",
      "Processing Record 41 of Set 1 | kolaras\n",
      "Processing Record 42 of Set 1 | comodoro rivadavia\n",
      "Processing Record 43 of Set 1 | bethel\n",
      "Processing Record 44 of Set 1 | waverly\n",
      "Processing Record 45 of Set 1 | mar del plata\n",
      "Processing Record 46 of Set 1 | klaksvik\n",
      "Processing Record 47 of Set 1 | esperance\n",
      "Processing Record 48 of Set 1 | kapaa\n",
      "Processing Record 49 of Set 1 | kirkenes\n",
      "Processing Record 50 of Set 1 | mananjary\n",
      "Processing Record 1 of Set 2 | sokoto\n",
      "Processing Record 2 of Set 2 | goderich\n",
      "Processing Record 3 of Set 2 | sinnamary\n",
      "Processing Record 4 of Set 2 | touros\n",
      "Processing Record 5 of Set 2 | dudinka\n",
      "Processing Record 6 of Set 2 | punta arenas\n",
      "Processing Record 7 of Set 2 | saint-philippe\n",
      "Processing Record 8 of Set 2 | yulara\n",
      "Processing Record 9 of Set 2 | ixtapa\n",
      "Processing Record 10 of Set 2 | khani\n",
      "Processing Record 11 of Set 2 | porto velho\n",
      "Processing Record 12 of Set 2 | sabang\n",
      "Processing Record 13 of Set 2 | havre-saint-pierre\n",
      "Processing Record 14 of Set 2 | fortuna\n",
      "Processing Record 15 of Set 2 | hovin\n",
      "Processing Record 16 of Set 2 | yellowknife\n",
      "Processing Record 17 of Set 2 | tuktoyaktuk\n",
      "Processing Record 18 of Set 2 | upernavik\n",
      "Processing Record 19 of Set 2 | rocha\n",
      "Processing Record 20 of Set 2 | oktyabrskiy\n",
      "Processing Record 21 of Set 2 | poya\n",
      "Processing Record 22 of Set 2 | tsihombe\n",
      "City not found. Skipping...\n",
      "Processing Record 23 of Set 2 | angoram\n",
      "Processing Record 24 of Set 2 | kodiak\n",
      "Processing Record 25 of Set 2 | cayenne\n",
      "Processing Record 26 of Set 2 | tiksi\n",
      "Processing Record 27 of Set 2 | vaini\n",
      "Processing Record 28 of Set 2 | dingle\n",
      "Processing Record 29 of Set 2 | cidreira\n",
      "Processing Record 30 of Set 2 | san cristobal\n",
      "Processing Record 31 of Set 2 | odweyne\n",
      "Processing Record 32 of Set 2 | saint george\n",
      "Processing Record 33 of Set 2 | imeni babushkina\n",
      "Processing Record 34 of Set 2 | yenagoa\n",
      "Processing Record 35 of Set 2 | east london\n",
      "Processing Record 36 of Set 2 | tasiilaq\n",
      "Processing Record 37 of Set 2 | chokurdakh\n",
      "Processing Record 38 of Set 2 | katsuura\n",
      "Processing Record 39 of Set 2 | georgetown\n",
      "Processing Record 40 of Set 2 | tyukhtet\n",
      "Processing Record 41 of Set 2 | tandalti\n",
      "Processing Record 42 of Set 2 | liverpool\n",
      "Processing Record 43 of Set 2 | hobart\n",
      "Processing Record 44 of Set 2 | umzimvubu\n",
      "City not found. Skipping...\n",
      "Processing Record 45 of Set 2 | bluff\n",
      "Processing Record 46 of Set 2 | gimli\n",
      "Processing Record 47 of Set 2 | port elizabeth\n",
      "Processing Record 48 of Set 2 | avarua\n",
      "Processing Record 49 of Set 2 | nanortalik\n",
      "Processing Record 50 of Set 2 | yeppoon\n",
      "Processing Record 1 of Set 3 | souillac\n",
      "Processing Record 2 of Set 3 | cabo san lucas\n",
      "Processing Record 3 of Set 3 | zhezkazgan\n",
      "Processing Record 4 of Set 3 | bundaberg\n",
      "Processing Record 5 of Set 3 | ketchikan\n",
      "Processing Record 6 of Set 3 | nouadhibou\n",
      "Processing Record 7 of Set 3 | ust-tsilma\n",
      "Processing Record 8 of Set 3 | torbay\n",
      "Processing Record 9 of Set 3 | barentsburg\n",
      "City not found. Skipping...\n",
      "Processing Record 10 of Set 3 | arvika\n",
      "Processing Record 11 of Set 3 | khandyga\n",
      "Processing Record 12 of Set 3 | aranos\n",
      "Processing Record 13 of Set 3 | lagoa\n",
      "Processing Record 14 of Set 3 | saint-pierre\n",
      "Processing Record 15 of Set 3 | kaitangata\n",
      "Processing Record 16 of Set 3 | saurimo\n",
      "Processing Record 17 of Set 3 | cairns\n",
      "Processing Record 18 of Set 3 | nyurba\n",
      "Processing Record 19 of Set 3 | new norfolk\n",
      "Processing Record 20 of Set 3 | louisbourg\n",
      "City not found. Skipping...\n",
      "Processing Record 21 of Set 3 | gotsu\n",
      "Processing Record 22 of Set 3 | hithadhoo\n",
      "Processing Record 23 of Set 3 | lages\n",
      "Processing Record 24 of Set 3 | busselton\n",
      "Processing Record 25 of Set 3 | ponta do sol\n",
      "Processing Record 26 of Set 3 | churapcha\n",
      "Processing Record 27 of Set 3 | belushya guba\n",
      "City not found. Skipping...\n",
      "Processing Record 28 of Set 3 | alyangula\n",
      "Processing Record 29 of Set 3 | bredasdorp\n",
      "Processing Record 30 of Set 3 | jamestown\n",
      "Processing Record 31 of Set 3 | chuy\n",
      "Processing Record 32 of Set 3 | yar-sale\n",
      "Processing Record 33 of Set 3 | lasa\n",
      "Processing Record 34 of Set 3 | qaanaaq\n",
      "Processing Record 35 of Set 3 | mount pleasant\n",
      "Processing Record 36 of Set 3 | tazovskiy\n",
      "Processing Record 37 of Set 3 | bathsheba\n",
      "Processing Record 38 of Set 3 | evensk\n",
      "Processing Record 39 of Set 3 | prainha\n",
      "Processing Record 40 of Set 3 | guerrero negro\n",
      "Processing Record 41 of Set 3 | ancud\n",
      "Processing Record 42 of Set 3 | aranjuez\n",
      "Processing Record 43 of Set 3 | illoqqortoormiut\n",
      "City not found. Skipping...\n",
      "Processing Record 44 of Set 3 | nueva guinea\n",
      "Processing Record 45 of Set 3 | college\n",
      "Processing Record 46 of Set 3 | vashkivtsi\n",
      "Processing Record 47 of Set 3 | barrow\n",
      "Processing Record 48 of Set 3 | attawapiskat\n",
      "City not found. Skipping...\n",
      "Processing Record 49 of Set 3 | port alfred\n",
      "Processing Record 50 of Set 3 | codrington\n",
      "Processing Record 1 of Set 4 | henties bay\n",
      "Processing Record 2 of Set 4 | havoysund\n",
      "Processing Record 3 of Set 4 | kruisfontein\n",
      "Processing Record 4 of Set 4 | tilichiki\n",
      "Processing Record 5 of Set 4 | nikolskoye\n",
      "Processing Record 6 of Set 4 | roebourne\n",
      "Processing Record 7 of Set 4 | kirakira\n",
      "Processing Record 8 of Set 4 | challans\n",
      "Processing Record 9 of Set 4 | sao joao da barra\n",
      "Processing Record 10 of Set 4 | pangnirtung\n",
      "Processing Record 11 of Set 4 | avera\n",
      "Processing Record 12 of Set 4 | saint stephen\n",
      "Processing Record 13 of Set 4 | baruun-urt\n",
      "Processing Record 14 of Set 4 | galveston\n",
      "Processing Record 15 of Set 4 | koppang\n",
      "Processing Record 16 of Set 4 | conde\n",
      "Processing Record 17 of Set 4 | vila franca do campo\n",
      "Processing Record 18 of Set 4 | dinguiraye\n",
      "Processing Record 19 of Set 4 | minas novas\n",
      "Processing Record 20 of Set 4 | pechora\n",
      "Processing Record 21 of Set 4 | palabuhanratu\n",
      "City not found. Skipping...\n",
      "Processing Record 22 of Set 4 | antofagasta\n",
      "Processing Record 23 of Set 4 | hearst\n",
      "Processing Record 24 of Set 4 | coulihaut\n",
      "City not found. Skipping...\n",
      "Processing Record 25 of Set 4 | braco do norte\n",
      "Processing Record 26 of Set 4 | iqaluit\n",
      "Processing Record 27 of Set 4 | rostovka\n",
      "Processing Record 28 of Set 4 | ostersund\n",
      "Processing Record 29 of Set 4 | leningradskiy\n",
      "Processing Record 30 of Set 4 | geraldton\n",
      "Processing Record 31 of Set 4 | hilo\n",
      "Processing Record 32 of Set 4 | rawson\n",
      "Processing Record 33 of Set 4 | talnakh\n",
      "Processing Record 34 of Set 4 | koupela\n",
      "Processing Record 35 of Set 4 | kysyl-syr\n",
      "Processing Record 36 of Set 4 | nishihara\n",
      "Processing Record 37 of Set 4 | mys shmidta\n",
      "City not found. Skipping...\n",
      "Processing Record 38 of Set 4 | chumikan\n",
      "Processing Record 39 of Set 4 | darhan\n"
     ]
    },
    {
     "name": "stdout",
     "output_type": "stream",
     "text": [
      "Processing Record 40 of Set 4 | gombong\n",
      "Processing Record 41 of Set 4 | namatanai\n",
      "Processing Record 42 of Set 4 | cozumel\n",
      "Processing Record 43 of Set 4 | sergeyevka\n",
      "Processing Record 44 of Set 4 | zvishavane\n",
      "Processing Record 45 of Set 4 | petropavlovsk-kamchatskiy\n",
      "Processing Record 46 of Set 4 | tabuk\n",
      "Processing Record 47 of Set 4 | faya\n",
      "Processing Record 48 of Set 4 | san andres\n",
      "Processing Record 49 of Set 4 | grand river south east\n",
      "City not found. Skipping...\n",
      "Processing Record 50 of Set 4 | wolfen\n",
      "Processing Record 1 of Set 5 | burnie\n",
      "Processing Record 2 of Set 5 | norman wells\n",
      "Processing Record 3 of Set 5 | cape town\n",
      "Processing Record 4 of Set 5 | arona\n",
      "Processing Record 5 of Set 5 | lucapa\n",
      "Processing Record 6 of Set 5 | takoradi\n",
      "Processing Record 7 of Set 5 | banfora\n",
      "Processing Record 8 of Set 5 | sao filipe\n",
      "Processing Record 9 of Set 5 | sapouy\n",
      "Processing Record 10 of Set 5 | phitsanulok\n",
      "Processing Record 11 of Set 5 | barawe\n",
      "City not found. Skipping...\n",
      "Processing Record 12 of Set 5 | trzebiatow\n",
      "Processing Record 13 of Set 5 | la ronge\n",
      "Processing Record 14 of Set 5 | yumen\n",
      "Processing Record 15 of Set 5 | mount gambier\n",
      "Processing Record 16 of Set 5 | shimoda\n",
      "Processing Record 17 of Set 5 | panguna\n",
      "Processing Record 18 of Set 5 | kualakapuas\n",
      "Processing Record 19 of Set 5 | tomohon\n",
      "Processing Record 20 of Set 5 | amalapuram\n",
      "Processing Record 21 of Set 5 | skalistyy\n",
      "City not found. Skipping...\n",
      "Processing Record 22 of Set 5 | vostok\n",
      "Processing Record 23 of Set 5 | isiro\n",
      "Processing Record 24 of Set 5 | aklavik\n",
      "Processing Record 25 of Set 5 | hasaki\n",
      "Processing Record 26 of Set 5 | madera\n",
      "Processing Record 27 of Set 5 | praia da vitoria\n",
      "Processing Record 28 of Set 5 | karaidel\n",
      "Processing Record 29 of Set 5 | eyl\n",
      "Processing Record 30 of Set 5 | airai\n",
      "Processing Record 31 of Set 5 | vorokhta\n",
      "Processing Record 32 of Set 5 | porto murtinho\n",
      "Processing Record 33 of Set 5 | salalah\n",
      "Processing Record 34 of Set 5 | lata\n",
      "Processing Record 35 of Set 5 | kenai\n",
      "Processing Record 36 of Set 5 | batagay-alyta\n",
      "Processing Record 37 of Set 5 | san policarpo\n",
      "Processing Record 38 of Set 5 | pisco\n",
      "Processing Record 39 of Set 5 | nemuro\n",
      "Processing Record 40 of Set 5 | elk city\n",
      "Processing Record 41 of Set 5 | novoleushkovskaya\n",
      "Processing Record 42 of Set 5 | severo-kurilsk\n",
      "Processing Record 43 of Set 5 | shelburne\n",
      "Processing Record 44 of Set 5 | northfield\n",
      "Processing Record 45 of Set 5 | bijie\n",
      "Processing Record 46 of Set 5 | balikpapan\n",
      "Processing Record 47 of Set 5 | awjilah\n",
      "Processing Record 48 of Set 5 | pangai\n",
      "Processing Record 49 of Set 5 | amderma\n",
      "City not found. Skipping...\n",
      "Processing Record 50 of Set 5 | santa ines\n",
      "Processing Record 1 of Set 6 | zharkent\n",
      "Processing Record 2 of Set 6 | general pico\n",
      "Processing Record 3 of Set 6 | saint-francois\n",
      "Processing Record 4 of Set 6 | shingu\n",
      "Processing Record 5 of Set 6 | luderitz\n",
      "Processing Record 6 of Set 6 | caucaia\n",
      "Processing Record 7 of Set 6 | olafsvik\n",
      "Processing Record 8 of Set 6 | narsaq\n",
      "Processing Record 9 of Set 6 | arraial do cabo\n",
      "Processing Record 10 of Set 6 | bambous virieux\n",
      "Processing Record 11 of Set 6 | ormara\n",
      "Processing Record 12 of Set 6 | vysokogornyy\n",
      "Processing Record 13 of Set 6 | castro\n",
      "Processing Record 14 of Set 6 | sterling\n",
      "Processing Record 15 of Set 6 | arpasu de jos\n",
      "Processing Record 16 of Set 6 | macaboboni\n",
      "City not found. Skipping...\n",
      "Processing Record 17 of Set 6 | carnarvon\n",
      "Processing Record 18 of Set 6 | ugoofaaru\n",
      "Processing Record 19 of Set 6 | santiago del estero\n",
      "Processing Record 20 of Set 6 | pelym\n",
      "Processing Record 21 of Set 6 | kununurra\n",
      "Processing Record 22 of Set 6 | fomboni\n",
      "Processing Record 23 of Set 6 | taicheng\n",
      "Processing Record 24 of Set 6 | savonlinna\n",
      "Processing Record 25 of Set 6 | altay\n",
      "Processing Record 26 of Set 6 | turukhansk\n",
      "Processing Record 27 of Set 6 | marcona\n",
      "City not found. Skipping...\n",
      "Processing Record 28 of Set 6 | zolotinka\n",
      "City not found. Skipping...\n",
      "Processing Record 29 of Set 6 | posse\n",
      "Processing Record 30 of Set 6 | goma\n",
      "Processing Record 31 of Set 6 | skibbereen\n",
      "Processing Record 32 of Set 6 | ibra\n",
      "Processing Record 33 of Set 6 | vagur\n",
      "Processing Record 34 of Set 6 | cherskiy\n",
      "Processing Record 35 of Set 6 | huarmey\n",
      "Processing Record 36 of Set 6 | necochea\n",
      "Processing Record 37 of Set 6 | san ramon\n",
      "Processing Record 38 of Set 6 | idil\n",
      "Processing Record 39 of Set 6 | tabou\n",
      "Processing Record 40 of Set 6 | sitka\n",
      "Processing Record 41 of Set 6 | vila\n",
      "Processing Record 42 of Set 6 | darvari\n",
      "Processing Record 43 of Set 6 | severnoye\n",
      "Processing Record 44 of Set 6 | saleaula\n",
      "City not found. Skipping...\n",
      "Processing Record 45 of Set 6 | thinadhoo\n",
      "Processing Record 46 of Set 6 | ilulissat\n",
      "Processing Record 47 of Set 6 | quelimane\n",
      "Processing Record 48 of Set 6 | inirida\n",
      "Processing Record 49 of Set 6 | surt\n",
      "Processing Record 50 of Set 6 | chipinge\n",
      "Processing Record 1 of Set 7 | manicore\n",
      "Processing Record 2 of Set 7 | placido de castro\n",
      "Processing Record 3 of Set 7 | kamenskoye\n",
      "City not found. Skipping...\n",
      "Processing Record 4 of Set 7 | bengkulu\n",
      "Processing Record 5 of Set 7 | gulshat\n",
      "City not found. Skipping...\n",
      "Processing Record 6 of Set 7 | povenets\n",
      "Processing Record 7 of Set 7 | kathu\n",
      "Processing Record 8 of Set 7 | miraflores\n",
      "Processing Record 9 of Set 7 | ponoka\n",
      "Processing Record 10 of Set 7 | dawson\n",
      "Processing Record 11 of Set 7 | suoyarvi\n",
      "Processing Record 12 of Set 7 | nioro\n",
      "Processing Record 13 of Set 7 | vestmannaeyjar\n",
      "Processing Record 14 of Set 7 | dicabisagan\n",
      "Processing Record 15 of Set 7 | bonthe\n",
      "Processing Record 16 of Set 7 | innisfail\n",
      "Processing Record 17 of Set 7 | haicheng\n",
      "Processing Record 18 of Set 7 | san patricio\n",
      "Processing Record 19 of Set 7 | watrous\n",
      "Processing Record 20 of Set 7 | pudozh\n",
      "Processing Record 21 of Set 7 | kieta\n",
      "Processing Record 22 of Set 7 | bubaque\n",
      "Processing Record 23 of Set 7 | kangaatsiaq\n",
      "Processing Record 24 of Set 7 | orshanka\n",
      "Processing Record 25 of Set 7 | crab hill\n",
      "City not found. Skipping...\n",
      "Processing Record 26 of Set 7 | portland\n",
      "Processing Record 27 of Set 7 | labuhan\n",
      "Processing Record 28 of Set 7 | prata\n",
      "Processing Record 29 of Set 7 | warqla\n",
      "City not found. Skipping...\n",
      "Processing Record 30 of Set 7 | tacoaleche\n",
      "Processing Record 31 of Set 7 | maningrida\n",
      "Processing Record 32 of Set 7 | lompoc\n",
      "Processing Record 33 of Set 7 | lebu\n",
      "Processing Record 34 of Set 7 | menongue\n",
      "Processing Record 35 of Set 7 | doha\n",
      "Processing Record 36 of Set 7 | port blair\n",
      "Processing Record 37 of Set 7 | asau\n",
      "Processing Record 38 of Set 7 | caravelas\n",
      "Processing Record 39 of Set 7 | strelka\n",
      "Processing Record 40 of Set 7 | arkhara\n",
      "Processing Record 41 of Set 7 | asten\n",
      "Processing Record 42 of Set 7 | chengde\n",
      "Processing Record 43 of Set 7 | bojnurd\n",
      "Processing Record 44 of Set 7 | krasnoselkup\n",
      "Processing Record 45 of Set 7 | turkistan\n",
      "Processing Record 46 of Set 7 | greytown\n",
      "Processing Record 47 of Set 7 | aconibe\n",
      "Processing Record 48 of Set 7 | kindu\n",
      "Processing Record 49 of Set 7 | provideniya\n",
      "Processing Record 50 of Set 7 | makakilo city\n",
      "Processing Record 1 of Set 8 | moose jaw\n",
      "Processing Record 2 of Set 8 | poronaysk\n",
      "Processing Record 3 of Set 8 | saldanha\n",
      "Processing Record 4 of Set 8 | ambilobe\n",
      "Processing Record 5 of Set 8 | ranong\n",
      "Processing Record 6 of Set 8 | berbera\n",
      "Processing Record 7 of Set 8 | kanigoro\n",
      "Processing Record 8 of Set 8 | pitimbu\n",
      "Processing Record 9 of Set 8 | russell\n",
      "Processing Record 10 of Set 8 | deer lake\n",
      "Processing Record 11 of Set 8 | toro\n",
      "Processing Record 12 of Set 8 | sal rei\n",
      "Processing Record 13 of Set 8 | ahipara\n",
      "Processing Record 14 of Set 8 | pitkyaranta\n",
      "Processing Record 15 of Set 8 | mpanda\n",
      "Processing Record 16 of Set 8 | pljevlja\n",
      "Processing Record 17 of Set 8 | ozgon\n",
      "City not found. Skipping...\n",
      "Processing Record 18 of Set 8 | laguna\n",
      "Processing Record 19 of Set 8 | waingapu\n",
      "Processing Record 20 of Set 8 | centralia\n",
      "Processing Record 21 of Set 8 | verkhoyansk\n",
      "Processing Record 22 of Set 8 | kingman\n",
      "Processing Record 23 of Set 8 | sao desiderio\n",
      "Processing Record 24 of Set 8 | nome\n",
      "Processing Record 25 of Set 8 | kulu\n",
      "Processing Record 26 of Set 8 | tete\n",
      "Processing Record 27 of Set 8 | mackenzie\n",
      "Processing Record 28 of Set 8 | ola\n",
      "Processing Record 29 of Set 8 | kijang\n",
      "Processing Record 30 of Set 8 | monte alegre\n",
      "Processing Record 31 of Set 8 | koutiala\n"
     ]
    },
    {
     "name": "stdout",
     "output_type": "stream",
     "text": [
      "Processing Record 32 of Set 8 | barbar\n",
      "City not found. Skipping...\n",
      "Processing Record 33 of Set 8 | ovsyanka\n",
      "Processing Record 34 of Set 8 | sakaraha\n",
      "Processing Record 35 of Set 8 | rio grande\n",
      "Processing Record 36 of Set 8 | lavrentiya\n",
      "Processing Record 37 of Set 8 | poum\n",
      "Processing Record 38 of Set 8 | toamasina\n",
      "Processing Record 39 of Set 8 | navabad\n",
      "City not found. Skipping...\n",
      "Processing Record 40 of Set 8 | vanavara\n",
      "Processing Record 41 of Set 8 | victoria\n",
      "Processing Record 42 of Set 8 | zapodeni\n",
      "Processing Record 43 of Set 8 | tongren\n",
      "Processing Record 44 of Set 8 | aasiaat\n",
      "Processing Record 45 of Set 8 | mahibadhoo\n",
      "Processing Record 46 of Set 8 | isangel\n",
      "Processing Record 47 of Set 8 | thompson\n",
      "Processing Record 48 of Set 8 | tashara\n",
      "Processing Record 49 of Set 8 | cascais\n",
      "Processing Record 50 of Set 8 | jalu\n",
      "Processing Record 1 of Set 9 | tecoanapa\n",
      "Processing Record 2 of Set 9 | karratha\n",
      "Processing Record 3 of Set 9 | tarudant\n",
      "City not found. Skipping...\n",
      "Processing Record 4 of Set 9 | agirish\n",
      "Processing Record 5 of Set 9 | port hedland\n",
      "Processing Record 6 of Set 9 | los llanos de aridane\n",
      "Processing Record 7 of Set 9 | tumannyy\n",
      "City not found. Skipping...\n",
      "Processing Record 8 of Set 9 | lydenburg\n",
      "Processing Record 9 of Set 9 | banda aceh\n",
      "Processing Record 10 of Set 9 | dolbeau\n",
      "City not found. Skipping...\n",
      "Processing Record 11 of Set 9 | samusu\n",
      "City not found. Skipping...\n",
      "Processing Record 12 of Set 9 | tuatapere\n",
      "Processing Record 13 of Set 9 | sobolevo\n",
      "Processing Record 14 of Set 9 | along\n",
      "Processing Record 15 of Set 9 | pilar\n",
      "Processing Record 16 of Set 9 | palmerston\n",
      "Processing Record 17 of Set 9 | srednekolymsk\n",
      "Processing Record 18 of Set 9 | matagami\n",
      "Processing Record 19 of Set 9 | indramayu\n",
      "Processing Record 20 of Set 9 | dien bien\n",
      "City not found. Skipping...\n",
      "Processing Record 21 of Set 9 | haines junction\n",
      "Processing Record 22 of Set 9 | weyburn\n",
      "Processing Record 23 of Set 9 | sahuaripa\n",
      "Processing Record 24 of Set 9 | malartic\n",
      "Processing Record 25 of Set 9 | zhangye\n",
      "Processing Record 26 of Set 9 | kavieng\n",
      "Processing Record 27 of Set 9 | kohima\n",
      "Processing Record 28 of Set 9 | toliary\n",
      "City not found. Skipping...\n",
      "Processing Record 29 of Set 9 | namibe\n",
      "Processing Record 30 of Set 9 | half moon bay\n",
      "Processing Record 31 of Set 9 | mumford\n",
      "Processing Record 32 of Set 9 | alekseyevka\n",
      "Processing Record 33 of Set 9 | llata\n",
      "Processing Record 34 of Set 9 | keti bandar\n",
      "Processing Record 35 of Set 9 | liniere\n",
      "City not found. Skipping...\n",
      "Processing Record 36 of Set 9 | pacific grove\n",
      "Processing Record 37 of Set 9 | atocha\n",
      "Processing Record 38 of Set 9 | tuggurt\n",
      "City not found. Skipping...\n",
      "Processing Record 39 of Set 9 | magadan\n",
      "Processing Record 40 of Set 9 | lamu\n",
      "Processing Record 41 of Set 9 | lasem\n",
      "Processing Record 42 of Set 9 | erhlin\n",
      "City not found. Skipping...\n",
      "Processing Record 43 of Set 9 | taoudenni\n",
      "Processing Record 44 of Set 9 | nguiu\n",
      "City not found. Skipping...\n",
      "Processing Record 45 of Set 9 | te anau\n",
      "Processing Record 46 of Set 9 | flin flon\n",
      "Processing Record 47 of Set 9 | paita\n",
      "Processing Record 48 of Set 9 | payson\n",
      "Processing Record 49 of Set 9 | saint-augustin\n",
      "Processing Record 50 of Set 9 | aguimes\n",
      "Processing Record 1 of Set 10 | fairbanks\n",
      "Processing Record 2 of Set 10 | sakakah\n",
      "Processing Record 3 of Set 10 | marathon\n",
      "Processing Record 4 of Set 10 | vieques\n",
      "Processing Record 5 of Set 10 | horta\n",
      "Processing Record 6 of Set 10 | itarema\n",
      "Processing Record 7 of Set 10 | hamilton\n",
      "Processing Record 8 of Set 10 | bayonet point\n",
      "Processing Record 9 of Set 10 | cockburn harbour\n",
      "City not found. Skipping...\n",
      "Processing Record 10 of Set 10 | nanga eboko\n",
      "Processing Record 11 of Set 10 | roseburg\n",
      "Processing Record 12 of Set 10 | santander\n",
      "Processing Record 13 of Set 10 | entebbe\n",
      "Processing Record 14 of Set 10 | gizo\n",
      "Processing Record 15 of Set 10 | riverton\n",
      "Processing Record 16 of Set 10 | kamen-na-obi\n",
      "Processing Record 17 of Set 10 | nuuk\n",
      "Processing Record 18 of Set 10 | nova aurora\n",
      "Processing Record 19 of Set 10 | tabiauea\n",
      "City not found. Skipping...\n",
      "Processing Record 20 of Set 10 | kazalinsk\n",
      "City not found. Skipping...\n",
      "Processing Record 21 of Set 10 | lerwick\n",
      "Processing Record 22 of Set 10 | caala\n",
      "Processing Record 23 of Set 10 | arucas\n",
      "Processing Record 24 of Set 10 | coquimbo\n",
      "Processing Record 25 of Set 10 | hereford\n",
      "Processing Record 26 of Set 10 | clovis\n",
      "Processing Record 27 of Set 10 | upata\n",
      "Processing Record 28 of Set 10 | sorvag\n",
      "City not found. Skipping...\n",
      "Processing Record 29 of Set 10 | egvekinot\n",
      "Processing Record 30 of Set 10 | beberibe\n",
      "Processing Record 31 of Set 10 | anadyr\n",
      "Processing Record 32 of Set 10 | castanos\n",
      "Processing Record 33 of Set 10 | georgiyevka\n",
      "Processing Record 34 of Set 10 | atar\n",
      "Processing Record 35 of Set 10 | sayat\n",
      "Processing Record 36 of Set 10 | mrirt\n",
      "City not found. Skipping...\n",
      "Processing Record 37 of Set 10 | jaipur hat\n",
      "City not found. Skipping...\n",
      "Processing Record 38 of Set 10 | taft\n",
      "Processing Record 39 of Set 10 | talas\n",
      "Processing Record 40 of Set 10 | boyolangu\n",
      "Processing Record 41 of Set 10 | moron\n",
      "Processing Record 42 of Set 10 | tiarei\n",
      "Processing Record 43 of Set 10 | kyra\n",
      "Processing Record 44 of Set 10 | shchelyayur\n",
      "City not found. Skipping...\n",
      "Processing Record 45 of Set 10 | riberalta\n",
      "Processing Record 46 of Set 10 | paso de los toros\n",
      "Processing Record 47 of Set 10 | west bay\n",
      "Processing Record 48 of Set 10 | karakendzha\n",
      "City not found. Skipping...\n",
      "Processing Record 49 of Set 10 | harper\n",
      "Processing Record 50 of Set 10 | muzquiz\n",
      "City not found. Skipping...\n",
      "Processing Record 1 of Set 11 | camacha\n",
      "Processing Record 2 of Set 11 | vihti\n",
      "Processing Record 3 of Set 11 | ostrovnoy\n",
      "Processing Record 4 of Set 11 | luganville\n",
      "Processing Record 5 of Set 11 | coihaique\n",
      "Processing Record 6 of Set 11 | cam ranh\n",
      "Processing Record 7 of Set 11 | antalaha\n",
      "Processing Record 8 of Set 11 | burica\n",
      "City not found. Skipping...\n",
      "Processing Record 9 of Set 11 | sevilla\n",
      "Processing Record 10 of Set 11 | sibolga\n",
      "Processing Record 11 of Set 11 | quzhou\n",
      "Processing Record 12 of Set 11 | limbang\n",
      "Processing Record 13 of Set 11 | northam\n",
      "Processing Record 14 of Set 11 | shenjiamen\n",
      "Processing Record 15 of Set 11 | hofn\n",
      "Processing Record 16 of Set 11 | maniitsoq\n",
      "Processing Record 17 of Set 11 | luanda\n",
      "Processing Record 18 of Set 11 | longyearbyen\n",
      "Processing Record 19 of Set 11 | utiroa\n",
      "City not found. Skipping...\n",
      "Processing Record 20 of Set 11 | panzhihua\n",
      "Processing Record 21 of Set 11 | kyzyl-suu\n",
      "Processing Record 22 of Set 11 | uchaly\n",
      "Processing Record 23 of Set 11 | hovd\n",
      "Processing Record 24 of Set 11 | bereda\n",
      "Processing Record 25 of Set 11 | zhigansk\n",
      "Processing Record 26 of Set 11 | north bend\n",
      "Processing Record 27 of Set 11 | buchanan\n",
      "Processing Record 28 of Set 11 | beisfjord\n",
      "Processing Record 29 of Set 11 | mangrol\n",
      "Processing Record 30 of Set 11 | beloha\n",
      "Processing Record 31 of Set 11 | tadine\n",
      "Processing Record 32 of Set 11 | tunxi\n",
      "City not found. Skipping...\n",
      "Processing Record 33 of Set 11 | aykhal\n",
      "Processing Record 34 of Set 11 | santa rita\n",
      "Processing Record 35 of Set 11 | sarab\n",
      "Processing Record 36 of Set 11 | ubatuba\n",
      "Processing Record 37 of Set 11 | tarko-sale\n",
      "Processing Record 38 of Set 11 | sisimiut\n",
      "Processing Record 39 of Set 11 | boguchany\n",
      "Processing Record 40 of Set 11 | santa margherita ligure\n",
      "Processing Record 41 of Set 11 | sawtell\n",
      "Processing Record 42 of Set 11 | xining\n",
      "Processing Record 43 of Set 11 | newport\n",
      "Processing Record 44 of Set 11 | richards bay\n",
      "Processing Record 45 of Set 11 | morondava\n",
      "Processing Record 46 of Set 11 | miles city\n",
      "Processing Record 47 of Set 11 | santa barbara\n",
      "Processing Record 48 of Set 11 | suez\n",
      "Processing Record 49 of Set 11 | sola\n",
      "Processing Record 50 of Set 11 | te karaka\n",
      "Processing Record 1 of Set 12 | khorixas\n",
      "Processing Record 2 of Set 12 | eureka\n",
      "Processing Record 3 of Set 12 | beboto\n",
      "Processing Record 4 of Set 12 | alvorada\n",
      "Processing Record 5 of Set 12 | channel-port aux basques\n",
      "Processing Record 6 of Set 12 | mayo\n",
      "Processing Record 7 of Set 12 | san fernando\n",
      "Processing Record 8 of Set 12 | makhachkala\n",
      "Processing Record 9 of Set 12 | batticaloa\n",
      "Processing Record 10 of Set 12 | hunza\n",
      "City not found. Skipping...\n",
      "Processing Record 11 of Set 12 | villa bruzual\n",
      "Processing Record 12 of Set 12 | bilma\n",
      "Processing Record 13 of Set 12 | aswan\n"
     ]
    },
    {
     "name": "stdout",
     "output_type": "stream",
     "text": [
      "Processing Record 14 of Set 12 | tateyama\n",
      "Processing Record 15 of Set 12 | biloela\n",
      "Processing Record 16 of Set 12 | el rosario\n",
      "Processing Record 17 of Set 12 | nagai\n",
      "Processing Record 18 of Set 12 | andevoranto\n",
      "City not found. Skipping...\n",
      "Processing Record 19 of Set 12 | axim\n",
      "Processing Record 20 of Set 12 | kosa\n",
      "Processing Record 21 of Set 12 | westport\n",
      "Processing Record 22 of Set 12 | krasnousolskiy\n",
      "City not found. Skipping...\n",
      "Processing Record 23 of Set 12 | kjollefjord\n",
      "Processing Record 24 of Set 12 | curumani\n",
      "Processing Record 25 of Set 12 | burriana\n",
      "Processing Record 26 of Set 12 | durban\n",
      "Processing Record 27 of Set 12 | akyab\n",
      "Processing Record 28 of Set 12 | saint peters\n",
      "Processing Record 29 of Set 12 | broome\n",
      "Processing Record 30 of Set 12 | allapalli\n",
      "Processing Record 31 of Set 12 | laem sing\n",
      "Processing Record 32 of Set 12 | bridlington\n",
      "Processing Record 33 of Set 12 | charters towers\n",
      "Processing Record 34 of Set 12 | lolua\n",
      "City not found. Skipping...\n",
      "Processing Record 35 of Set 12 | severo-yeniseyskiy\n",
      "Processing Record 36 of Set 12 | tchibanga\n",
      "Processing Record 37 of Set 12 | bahia honda\n",
      "Processing Record 38 of Set 12 | sortland\n",
      "Processing Record 39 of Set 12 | margate\n",
      "Processing Record 40 of Set 12 | sur\n",
      "Processing Record 41 of Set 12 | timizart\n",
      "Processing Record 42 of Set 12 | parabel\n",
      "Processing Record 43 of Set 12 | tahe\n",
      "Processing Record 44 of Set 12 | kerki\n",
      "City not found. Skipping...\n",
      "Processing Record 45 of Set 12 | malakal\n",
      "Processing Record 46 of Set 12 | iwakuni\n",
      "Processing Record 47 of Set 12 | petawawa\n",
      "Processing Record 48 of Set 12 | mildura\n",
      "Processing Record 49 of Set 12 | natchez\n",
      "Processing Record 50 of Set 12 | almaznyy\n",
      "Processing Record 1 of Set 13 | dzhebariki-khaya\n",
      "Processing Record 2 of Set 13 | clyde river\n",
      "Processing Record 3 of Set 13 | barbate\n",
      "Processing Record 4 of Set 13 | komsomolskiy\n",
      "Processing Record 5 of Set 13 | bang saphan\n",
      "Processing Record 6 of Set 13 | tytuvenai\n",
      "Processing Record 7 of Set 13 | tame\n",
      "Processing Record 8 of Set 13 | fevralsk\n",
      "City not found. Skipping...\n",
      "Processing Record 9 of Set 13 | rawannawi\n",
      "City not found. Skipping...\n",
      "Processing Record 10 of Set 13 | horsham\n",
      "Processing Record 11 of Set 13 | zachagansk\n",
      "City not found. Skipping...\n",
      "Processing Record 12 of Set 13 | lobito\n",
      "Processing Record 13 of Set 13 | eskil\n",
      "Processing Record 14 of Set 13 | iguape\n"
     ]
    }
   ],
   "source": [
    "lat = []\n",
    "lng=[]\n",
    "temp=[]\n",
    "maxtemp = []\n",
    "humidity=[]\n",
    "cloudiness=[]\n",
    "windspeed=[]\n",
    "country=[]\n",
    "date=[]\n",
    "newcities=[]\n",
    "\n",
    "record=1\n",
    "setcounter=1\n",
    "\n",
    "# Build partial query URL\n",
    "units = \"imperial\"\n",
    "query_url = f\"{url}appid={weather_api_key}&units={units}&q=\"\n",
    "\n",
    "print (\"Beginning Data Retrieval\")     \n",
    "print (\"-----------------------------\")\n",
    "for city in cities:\n",
    "    if record > 50:\n",
    "        setcounter +=1\n",
    "        record = 1\n",
    "    print (f\"Processing Record {record} of Set {setcounter} | {city}\")\n",
    "    record +=1\n",
    "    try:\n",
    "        response = requests.get(query_url + city).json()\n",
    "        lat.append(response['coord']['lat'])\n",
    "        lng.append(response['coord']['lon'])\n",
    "        temp.append(response['main']['temp'])\n",
    "        maxtemp.append(response['main']['temp_max'])\n",
    "        humidity.append(response['main']['humidity'])\n",
    "        cloudiness.append(response['clouds']['all'])\n",
    "        windspeed.append(response['wind']['speed'])\n",
    "        country.append(response['sys']['country'])\n",
    "        date.append(response['dt'])\n",
    "        newcities.append(city)\n",
    "        \n",
    "    except:\n",
    "        print (\"City not found. Skipping...\")                        \n",
    "        pass\n",
    "    \n",
    "\n",
    "    "
   ]
  },
  {
   "cell_type": "code",
   "execution_count": null,
   "metadata": {},
   "outputs": [],
   "source": []
  },
  {
   "cell_type": "code",
   "execution_count": 6,
   "metadata": {},
   "outputs": [
    {
     "data": {
      "text/html": [
       "<div>\n",
       "<style scoped>\n",
       "    .dataframe tbody tr th:only-of-type {\n",
       "        vertical-align: middle;\n",
       "    }\n",
       "\n",
       "    .dataframe tbody tr th {\n",
       "        vertical-align: top;\n",
       "    }\n",
       "\n",
       "    .dataframe thead th {\n",
       "        text-align: right;\n",
       "    }\n",
       "</style>\n",
       "<table border=\"1\" class=\"dataframe\">\n",
       "  <thead>\n",
       "    <tr style=\"text-align: right;\">\n",
       "      <th></th>\n",
       "      <th>City</th>\n",
       "      <th>Latitude</th>\n",
       "      <th>Longitude</th>\n",
       "      <th>Max Temp</th>\n",
       "      <th>Humidity</th>\n",
       "      <th>Cloudiness</th>\n",
       "      <th>Wind Speed</th>\n",
       "      <th>Country</th>\n",
       "      <th>Date</th>\n",
       "    </tr>\n",
       "  </thead>\n",
       "  <tbody>\n",
       "    <tr>\n",
       "      <th>0</th>\n",
       "      <td>omsukchan</td>\n",
       "      <td>62.53</td>\n",
       "      <td>155.80</td>\n",
       "      <td>71.02</td>\n",
       "      <td>38</td>\n",
       "      <td>0</td>\n",
       "      <td>9.33</td>\n",
       "      <td>RU</td>\n",
       "      <td>1595804338</td>\n",
       "    </tr>\n",
       "    <tr>\n",
       "      <th>1</th>\n",
       "      <td>kaka</td>\n",
       "      <td>37.35</td>\n",
       "      <td>59.61</td>\n",
       "      <td>83.14</td>\n",
       "      <td>23</td>\n",
       "      <td>0</td>\n",
       "      <td>7.83</td>\n",
       "      <td>TM</td>\n",
       "      <td>1595804338</td>\n",
       "    </tr>\n",
       "    <tr>\n",
       "      <th>2</th>\n",
       "      <td>nizhniy kuranakh</td>\n",
       "      <td>58.84</td>\n",
       "      <td>125.49</td>\n",
       "      <td>70.70</td>\n",
       "      <td>71</td>\n",
       "      <td>95</td>\n",
       "      <td>1.83</td>\n",
       "      <td>RU</td>\n",
       "      <td>1595804339</td>\n",
       "    </tr>\n",
       "    <tr>\n",
       "      <th>3</th>\n",
       "      <td>ushuaia</td>\n",
       "      <td>-54.80</td>\n",
       "      <td>-68.30</td>\n",
       "      <td>33.80</td>\n",
       "      <td>86</td>\n",
       "      <td>90</td>\n",
       "      <td>20.80</td>\n",
       "      <td>AR</td>\n",
       "      <td>1595803872</td>\n",
       "    </tr>\n",
       "    <tr>\n",
       "      <th>4</th>\n",
       "      <td>gao</td>\n",
       "      <td>16.64</td>\n",
       "      <td>1.64</td>\n",
       "      <td>93.34</td>\n",
       "      <td>35</td>\n",
       "      <td>79</td>\n",
       "      <td>3.89</td>\n",
       "      <td>ML</td>\n",
       "      <td>1595804339</td>\n",
       "    </tr>\n",
       "    <tr>\n",
       "      <th>...</th>\n",
       "      <td>...</td>\n",
       "      <td>...</td>\n",
       "      <td>...</td>\n",
       "      <td>...</td>\n",
       "      <td>...</td>\n",
       "      <td>...</td>\n",
       "      <td>...</td>\n",
       "      <td>...</td>\n",
       "      <td>...</td>\n",
       "    </tr>\n",
       "    <tr>\n",
       "      <th>552</th>\n",
       "      <td>tame</td>\n",
       "      <td>6.46</td>\n",
       "      <td>-71.73</td>\n",
       "      <td>74.79</td>\n",
       "      <td>90</td>\n",
       "      <td>85</td>\n",
       "      <td>1.68</td>\n",
       "      <td>CO</td>\n",
       "      <td>1595804408</td>\n",
       "    </tr>\n",
       "    <tr>\n",
       "      <th>553</th>\n",
       "      <td>horsham</td>\n",
       "      <td>51.06</td>\n",
       "      <td>-0.33</td>\n",
       "      <td>62.01</td>\n",
       "      <td>87</td>\n",
       "      <td>100</td>\n",
       "      <td>6.93</td>\n",
       "      <td>GB</td>\n",
       "      <td>1595804282</td>\n",
       "    </tr>\n",
       "    <tr>\n",
       "      <th>554</th>\n",
       "      <td>lobito</td>\n",
       "      <td>-12.35</td>\n",
       "      <td>13.55</td>\n",
       "      <td>69.10</td>\n",
       "      <td>84</td>\n",
       "      <td>34</td>\n",
       "      <td>4.81</td>\n",
       "      <td>AO</td>\n",
       "      <td>1595804466</td>\n",
       "    </tr>\n",
       "    <tr>\n",
       "      <th>555</th>\n",
       "      <td>eskil</td>\n",
       "      <td>38.40</td>\n",
       "      <td>33.41</td>\n",
       "      <td>74.93</td>\n",
       "      <td>29</td>\n",
       "      <td>0</td>\n",
       "      <td>6.78</td>\n",
       "      <td>TR</td>\n",
       "      <td>1595804466</td>\n",
       "    </tr>\n",
       "    <tr>\n",
       "      <th>556</th>\n",
       "      <td>iguape</td>\n",
       "      <td>-24.71</td>\n",
       "      <td>-47.56</td>\n",
       "      <td>65.61</td>\n",
       "      <td>83</td>\n",
       "      <td>88</td>\n",
       "      <td>6.67</td>\n",
       "      <td>BR</td>\n",
       "      <td>1595804466</td>\n",
       "    </tr>\n",
       "  </tbody>\n",
       "</table>\n",
       "<p>557 rows × 9 columns</p>\n",
       "</div>"
      ],
      "text/plain": [
       "                 City  Latitude  Longitude  Max Temp  Humidity  Cloudiness  \\\n",
       "0           omsukchan     62.53     155.80     71.02        38           0   \n",
       "1                kaka     37.35      59.61     83.14        23           0   \n",
       "2    nizhniy kuranakh     58.84     125.49     70.70        71          95   \n",
       "3             ushuaia    -54.80     -68.30     33.80        86          90   \n",
       "4                 gao     16.64       1.64     93.34        35          79   \n",
       "..                ...       ...        ...       ...       ...         ...   \n",
       "552              tame      6.46     -71.73     74.79        90          85   \n",
       "553           horsham     51.06      -0.33     62.01        87         100   \n",
       "554            lobito    -12.35      13.55     69.10        84          34   \n",
       "555             eskil     38.40      33.41     74.93        29           0   \n",
       "556            iguape    -24.71     -47.56     65.61        83          88   \n",
       "\n",
       "     Wind Speed Country        Date  \n",
       "0          9.33      RU  1595804338  \n",
       "1          7.83      TM  1595804338  \n",
       "2          1.83      RU  1595804339  \n",
       "3         20.80      AR  1595803872  \n",
       "4          3.89      ML  1595804339  \n",
       "..          ...     ...         ...  \n",
       "552        1.68      CO  1595804408  \n",
       "553        6.93      GB  1595804282  \n",
       "554        4.81      AO  1595804466  \n",
       "555        6.78      TR  1595804466  \n",
       "556        6.67      BR  1595804466  \n",
       "\n",
       "[557 rows x 9 columns]"
      ]
     },
     "execution_count": 6,
     "metadata": {},
     "output_type": "execute_result"
    }
   ],
   "source": [
    "\n",
    "weatherdf=pd.DataFrame({\"City\":newcities,\n",
    "              \"Latitude\":lat,\n",
    "              'Longitude':lng,\n",
    "            \"Max Temp\": maxtemp,\n",
    "             'Humidity': humidity,\n",
    "             'Cloudiness': cloudiness,\n",
    "             \"Wind Speed\": windspeed,\n",
    "             \"Country\": country,\n",
    "             \"Date\": date})\n",
    "weatherdf"
   ]
  },
  {
   "cell_type": "markdown",
   "metadata": {},
   "source": [
    "### Convert Raw Data to DataFrame\n",
    "* Export the city data into a .csv.\n",
    "* Display the DataFrame"
   ]
  },
  {
   "cell_type": "code",
   "execution_count": 7,
   "metadata": {},
   "outputs": [
    {
     "data": {
      "text/plain": [
       "City          557\n",
       "Latitude      557\n",
       "Longitude     557\n",
       "Max Temp      557\n",
       "Humidity      557\n",
       "Cloudiness    557\n",
       "Wind Speed    557\n",
       "Country       557\n",
       "Date          557\n",
       "dtype: int64"
      ]
     },
     "execution_count": 7,
     "metadata": {},
     "output_type": "execute_result"
    }
   ],
   "source": [
    "weatherdf.count()"
   ]
  },
  {
   "cell_type": "markdown",
   "metadata": {},
   "source": [
    "## Inspect the data and remove the cities where the humidity > 100%.\n",
    "----\n",
    "Skip this step if there are no cities that have humidity > 100%. "
   ]
  },
  {
   "cell_type": "code",
   "execution_count": 8,
   "metadata": {},
   "outputs": [
    {
     "data": {
      "text/html": [
       "<div>\n",
       "<style scoped>\n",
       "    .dataframe tbody tr th:only-of-type {\n",
       "        vertical-align: middle;\n",
       "    }\n",
       "\n",
       "    .dataframe tbody tr th {\n",
       "        vertical-align: top;\n",
       "    }\n",
       "\n",
       "    .dataframe thead th {\n",
       "        text-align: right;\n",
       "    }\n",
       "</style>\n",
       "<table border=\"1\" class=\"dataframe\">\n",
       "  <thead>\n",
       "    <tr style=\"text-align: right;\">\n",
       "      <th></th>\n",
       "      <th>Latitude</th>\n",
       "      <th>Longitude</th>\n",
       "      <th>Max Temp</th>\n",
       "      <th>Humidity</th>\n",
       "      <th>Cloudiness</th>\n",
       "      <th>Wind Speed</th>\n",
       "      <th>Date</th>\n",
       "    </tr>\n",
       "  </thead>\n",
       "  <tbody>\n",
       "    <tr>\n",
       "      <th>count</th>\n",
       "      <td>557.000000</td>\n",
       "      <td>557.000000</td>\n",
       "      <td>557.000000</td>\n",
       "      <td>557.000000</td>\n",
       "      <td>557.000000</td>\n",
       "      <td>557.000000</td>\n",
       "      <td>5.570000e+02</td>\n",
       "    </tr>\n",
       "    <tr>\n",
       "      <th>mean</th>\n",
       "      <td>21.865027</td>\n",
       "      <td>17.037074</td>\n",
       "      <td>68.611382</td>\n",
       "      <td>71.633752</td>\n",
       "      <td>50.412926</td>\n",
       "      <td>7.692729</td>\n",
       "      <td>1.595804e+09</td>\n",
       "    </tr>\n",
       "    <tr>\n",
       "      <th>std</th>\n",
       "      <td>33.430270</td>\n",
       "      <td>90.041673</td>\n",
       "      <td>13.955813</td>\n",
       "      <td>19.986204</td>\n",
       "      <td>38.050871</td>\n",
       "      <td>5.289686</td>\n",
       "      <td>2.206106e+02</td>\n",
       "    </tr>\n",
       "    <tr>\n",
       "      <th>min</th>\n",
       "      <td>-54.800000</td>\n",
       "      <td>-179.170000</td>\n",
       "      <td>33.800000</td>\n",
       "      <td>8.000000</td>\n",
       "      <td>0.000000</td>\n",
       "      <td>0.160000</td>\n",
       "      <td>1.595804e+09</td>\n",
       "    </tr>\n",
       "    <tr>\n",
       "      <th>25%</th>\n",
       "      <td>-6.880000</td>\n",
       "      <td>-58.650000</td>\n",
       "      <td>58.190000</td>\n",
       "      <td>63.000000</td>\n",
       "      <td>12.000000</td>\n",
       "      <td>3.530000</td>\n",
       "      <td>1.595804e+09</td>\n",
       "    </tr>\n",
       "    <tr>\n",
       "      <th>50%</th>\n",
       "      <td>27.980000</td>\n",
       "      <td>19.230000</td>\n",
       "      <td>69.800000</td>\n",
       "      <td>76.000000</td>\n",
       "      <td>53.000000</td>\n",
       "      <td>6.780000</td>\n",
       "      <td>1.595804e+09</td>\n",
       "    </tr>\n",
       "    <tr>\n",
       "      <th>75%</th>\n",
       "      <td>50.230000</td>\n",
       "      <td>95.320000</td>\n",
       "      <td>78.800000</td>\n",
       "      <td>87.000000</td>\n",
       "      <td>89.000000</td>\n",
       "      <td>10.450000</td>\n",
       "      <td>1.595804e+09</td>\n",
       "    </tr>\n",
       "    <tr>\n",
       "      <th>max</th>\n",
       "      <td>78.220000</td>\n",
       "      <td>178.420000</td>\n",
       "      <td>104.000000</td>\n",
       "      <td>100.000000</td>\n",
       "      <td>100.000000</td>\n",
       "      <td>34.450000</td>\n",
       "      <td>1.595804e+09</td>\n",
       "    </tr>\n",
       "  </tbody>\n",
       "</table>\n",
       "</div>"
      ],
      "text/plain": [
       "         Latitude   Longitude    Max Temp    Humidity  Cloudiness  Wind Speed  \\\n",
       "count  557.000000  557.000000  557.000000  557.000000  557.000000  557.000000   \n",
       "mean    21.865027   17.037074   68.611382   71.633752   50.412926    7.692729   \n",
       "std     33.430270   90.041673   13.955813   19.986204   38.050871    5.289686   \n",
       "min    -54.800000 -179.170000   33.800000    8.000000    0.000000    0.160000   \n",
       "25%     -6.880000  -58.650000   58.190000   63.000000   12.000000    3.530000   \n",
       "50%     27.980000   19.230000   69.800000   76.000000   53.000000    6.780000   \n",
       "75%     50.230000   95.320000   78.800000   87.000000   89.000000   10.450000   \n",
       "max     78.220000  178.420000  104.000000  100.000000  100.000000   34.450000   \n",
       "\n",
       "               Date  \n",
       "count  5.570000e+02  \n",
       "mean   1.595804e+09  \n",
       "std    2.206106e+02  \n",
       "min    1.595804e+09  \n",
       "25%    1.595804e+09  \n",
       "50%    1.595804e+09  \n",
       "75%    1.595804e+09  \n",
       "max    1.595804e+09  "
      ]
     },
     "execution_count": 8,
     "metadata": {},
     "output_type": "execute_result"
    }
   ],
   "source": [
    "weatherdf.describe()"
   ]
  },
  {
   "cell_type": "code",
   "execution_count": 9,
   "metadata": {},
   "outputs": [],
   "source": [
    "#  Get the indices of cities that have humidity over 100%.\n"
   ]
  },
  {
   "cell_type": "code",
   "execution_count": 10,
   "metadata": {},
   "outputs": [],
   "source": [
    "# Make a new DataFrame equal to the city data to drop all humidity outliers by index.\n",
    "# Passing \"inplace=False\" will make a copy of the city_data DataFrame, which we call \"clean_city_data\".\n"
   ]
  },
  {
   "cell_type": "code",
   "execution_count": 11,
   "metadata": {},
   "outputs": [],
   "source": [
    "# Extract relevant fields from the data frame\n",
    "\n",
    "\n",
    "weatherdf.to_csv(\"weatherdf\", index = False)"
   ]
  },
  {
   "cell_type": "markdown",
   "metadata": {},
   "source": [
    "## Plotting the Data\n",
    "* Use proper labeling of the plots using plot titles (including date of analysis) and axes labels.\n",
    "* Save the plotted figures as .pngs."
   ]
  },
  {
   "cell_type": "markdown",
   "metadata": {},
   "source": [
    "## Latitude vs. Temperature Plot"
   ]
  },
  {
   "cell_type": "code",
   "execution_count": 12,
   "metadata": {},
   "outputs": [
    {
     "data": {
      "image/png": "[encoded data removed]",
      "text/plain": [
       "<Figure size 432x288 with 1 Axes>"
      ]
     },
     "metadata": {
      "needs_background": "light"
     },
     "output_type": "display_data"
    }
   ],
   "source": [
    "plt.scatter(x=weatherdf['Latitude'], y=weatherdf['Max Temp'])\n",
    "plt.xlabel('Latitude')\n",
    "plt.ylabel('Max Temperature')\n",
    "plt.grid()\n",
    "plt.title('City Latitude vs. Max Temperature (F)')\n",
    "plt.savefig('fig1.png')\n",
    "plt.show()\n",
    "\n"
   ]
  },
  {
   "cell_type": "markdown",
   "metadata": {},
   "source": [
    "## Latitude vs. Humidity Plot"
   ]
  },
  {
   "cell_type": "code",
   "execution_count": 13,
   "metadata": {},
   "outputs": [
    {
     "data": {
      "image/png": "[encoded data removed]",
      "text/plain": [
       "<Figure size 432x288 with 1 Axes>"
      ]
     },
     "metadata": {
      "needs_background": "light"
     },
     "output_type": "display_data"
    }
   ],
   "source": [
    "plt.scatter(x=weatherdf['Latitude'], y=weatherdf['Humidity'])\n",
    "plt.xlabel('Latitude')\n",
    "plt.ylabel('Humidity')\n",
    "plt.title('City Latitude vs. Humidity (%)')\n",
    "plt.grid()\n",
    "plt.savefig('fig2.png')\n",
    "plt.show()"
   ]
  },
  {
   "cell_type": "markdown",
   "metadata": {},
   "source": [
    "## Latitude vs. Cloudiness Plot"
   ]
  },
  {
   "cell_type": "code",
   "execution_count": 14,
   "metadata": {},
   "outputs": [
    {
     "data": {
      "image/png": "[encoded data removed]",
      "text/plain": [
       "<Figure size 432x288 with 1 Axes>"
      ]
     },
     "metadata": {
      "needs_background": "light"
     },
     "output_type": "display_data"
    }
   ],
   "source": [
    "plt.scatter(x=weatherdf['Latitude'], y=weatherdf['Cloudiness'])\n",
    "plt.xlabel('Latitude')\n",
    "plt.ylabel('Cloudiness')\n",
    "plt.title('City Latitude vs. Cloudiness (%)')\n",
    "plt.grid()\n",
    "plt.savefig('fig3.png')\n",
    "plt.show()\n",
    "\n"
   ]
  },
  {
   "cell_type": "markdown",
   "metadata": {},
   "source": [
    "## Latitude vs. Wind Speed Plot"
   ]
  },
  {
   "cell_type": "code",
   "execution_count": 15,
   "metadata": {},
   "outputs": [
    {
     "data": {
      "image/png": "[encoded data removed]",
      "text/plain": [
       "<Figure size 432x288 with 1 Axes>"
      ]
     },
     "metadata": {
      "needs_background": "light"
     },
     "output_type": "display_data"
    }
   ],
   "source": [
    "plt.scatter(x=weatherdf['Latitude'], y=weatherdf['Wind Speed'])\n",
    "plt.xlabel('Latitude')\n",
    "plt.ylabel('Wind Speed')\n",
    "plt.title('City Latitude vs. Wind Speed (mph)')\n",
    "plt.grid()\n",
    "plt.savefig('fig4.png')\n",
    "plt.show()"
   ]
  },
  {
   "cell_type": "markdown",
   "metadata": {},
   "source": [
    "## Linear Regression"
   ]
  },
  {
   "cell_type": "code",
   "execution_count": null,
   "metadata": {},
   "outputs": [],
   "source": []
  },
  {
   "cell_type": "code",
   "execution_count": 16,
   "metadata": {},
   "outputs": [],
   "source": [
    "# OPTIONAL: Create a function to create Linear Regression plots\n"
   ]
  },
  {
   "cell_type": "code",
   "execution_count": 17,
   "metadata": {},
   "outputs": [
    {
     "data": {
      "text/html": [
       "<div>\n",
       "<style scoped>\n",
       "    .dataframe tbody tr th:only-of-type {\n",
       "        vertical-align: middle;\n",
       "    }\n",
       "\n",
       "    .dataframe tbody tr th {\n",
       "        vertical-align: top;\n",
       "    }\n",
       "\n",
       "    .dataframe thead th {\n",
       "        text-align: right;\n",
       "    }\n",
       "</style>\n",
       "<table border=\"1\" class=\"dataframe\">\n",
       "  <thead>\n",
       "    <tr style=\"text-align: right;\">\n",
       "      <th></th>\n",
       "      <th>City</th>\n",
       "      <th>Latitude</th>\n",
       "      <th>Longitude</th>\n",
       "      <th>Max Temp</th>\n",
       "      <th>Humidity</th>\n",
       "      <th>Cloudiness</th>\n",
       "      <th>Wind Speed</th>\n",
       "      <th>Country</th>\n",
       "      <th>Date</th>\n",
       "    </tr>\n",
       "  </thead>\n",
       "  <tbody>\n",
       "    <tr>\n",
       "      <th>3</th>\n",
       "      <td>ushuaia</td>\n",
       "      <td>-54.80</td>\n",
       "      <td>-68.30</td>\n",
       "      <td>33.80</td>\n",
       "      <td>86</td>\n",
       "      <td>90</td>\n",
       "      <td>20.80</td>\n",
       "      <td>AR</td>\n",
       "      <td>1595803872</td>\n",
       "    </tr>\n",
       "    <tr>\n",
       "      <th>7</th>\n",
       "      <td>mataura</td>\n",
       "      <td>-46.19</td>\n",
       "      <td>168.86</td>\n",
       "      <td>39.00</td>\n",
       "      <td>83</td>\n",
       "      <td>0</td>\n",
       "      <td>3.00</td>\n",
       "      <td>NZ</td>\n",
       "      <td>1595804340</td>\n",
       "    </tr>\n",
       "    <tr>\n",
       "      <th>10</th>\n",
       "      <td>puerto ayora</td>\n",
       "      <td>-0.74</td>\n",
       "      <td>-90.35</td>\n",
       "      <td>70.00</td>\n",
       "      <td>84</td>\n",
       "      <td>68</td>\n",
       "      <td>5.01</td>\n",
       "      <td>EC</td>\n",
       "      <td>1595804030</td>\n",
       "    </tr>\n",
       "    <tr>\n",
       "      <th>15</th>\n",
       "      <td>rikitea</td>\n",
       "      <td>-23.12</td>\n",
       "      <td>-134.97</td>\n",
       "      <td>70.36</td>\n",
       "      <td>77</td>\n",
       "      <td>0</td>\n",
       "      <td>19.48</td>\n",
       "      <td>PF</td>\n",
       "      <td>1595803915</td>\n",
       "    </tr>\n",
       "    <tr>\n",
       "      <th>17</th>\n",
       "      <td>constitucion</td>\n",
       "      <td>-35.33</td>\n",
       "      <td>-72.42</td>\n",
       "      <td>52.21</td>\n",
       "      <td>89</td>\n",
       "      <td>100</td>\n",
       "      <td>7.99</td>\n",
       "      <td>CL</td>\n",
       "      <td>1595803947</td>\n",
       "    </tr>\n",
       "    <tr>\n",
       "      <th>...</th>\n",
       "      <td>...</td>\n",
       "      <td>...</td>\n",
       "      <td>...</td>\n",
       "      <td>...</td>\n",
       "      <td>...</td>\n",
       "      <td>...</td>\n",
       "      <td>...</td>\n",
       "      <td>...</td>\n",
       "      <td>...</td>\n",
       "    </tr>\n",
       "    <tr>\n",
       "      <th>530</th>\n",
       "      <td>charters towers</td>\n",
       "      <td>-20.10</td>\n",
       "      <td>146.27</td>\n",
       "      <td>61.79</td>\n",
       "      <td>39</td>\n",
       "      <td>0</td>\n",
       "      <td>11.23</td>\n",
       "      <td>AU</td>\n",
       "      <td>1595804460</td>\n",
       "    </tr>\n",
       "    <tr>\n",
       "      <th>532</th>\n",
       "      <td>tchibanga</td>\n",
       "      <td>-2.85</td>\n",
       "      <td>11.03</td>\n",
       "      <td>68.43</td>\n",
       "      <td>86</td>\n",
       "      <td>64</td>\n",
       "      <td>4.14</td>\n",
       "      <td>GA</td>\n",
       "      <td>1595804460</td>\n",
       "    </tr>\n",
       "    <tr>\n",
       "      <th>543</th>\n",
       "      <td>mildura</td>\n",
       "      <td>-34.20</td>\n",
       "      <td>142.15</td>\n",
       "      <td>48.20</td>\n",
       "      <td>100</td>\n",
       "      <td>90</td>\n",
       "      <td>8.05</td>\n",
       "      <td>AU</td>\n",
       "      <td>1595803998</td>\n",
       "    </tr>\n",
       "    <tr>\n",
       "      <th>554</th>\n",
       "      <td>lobito</td>\n",
       "      <td>-12.35</td>\n",
       "      <td>13.55</td>\n",
       "      <td>69.10</td>\n",
       "      <td>84</td>\n",
       "      <td>34</td>\n",
       "      <td>4.81</td>\n",
       "      <td>AO</td>\n",
       "      <td>1595804466</td>\n",
       "    </tr>\n",
       "    <tr>\n",
       "      <th>556</th>\n",
       "      <td>iguape</td>\n",
       "      <td>-24.71</td>\n",
       "      <td>-47.56</td>\n",
       "      <td>65.61</td>\n",
       "      <td>83</td>\n",
       "      <td>88</td>\n",
       "      <td>6.67</td>\n",
       "      <td>BR</td>\n",
       "      <td>1595804466</td>\n",
       "    </tr>\n",
       "  </tbody>\n",
       "</table>\n",
       "<p>168 rows × 9 columns</p>\n",
       "</div>"
      ],
      "text/plain": [
       "                City  Latitude  Longitude  Max Temp  Humidity  Cloudiness  \\\n",
       "3            ushuaia    -54.80     -68.30     33.80        86          90   \n",
       "7            mataura    -46.19     168.86     39.00        83           0   \n",
       "10      puerto ayora     -0.74     -90.35     70.00        84          68   \n",
       "15           rikitea    -23.12    -134.97     70.36        77           0   \n",
       "17      constitucion    -35.33     -72.42     52.21        89         100   \n",
       "..               ...       ...        ...       ...       ...         ...   \n",
       "530  charters towers    -20.10     146.27     61.79        39           0   \n",
       "532        tchibanga     -2.85      11.03     68.43        86          64   \n",
       "543          mildura    -34.20     142.15     48.20       100          90   \n",
       "554           lobito    -12.35      13.55     69.10        84          34   \n",
       "556           iguape    -24.71     -47.56     65.61        83          88   \n",
       "\n",
       "     Wind Speed Country        Date  \n",
       "3         20.80      AR  1595803872  \n",
       "7          3.00      NZ  1595804340  \n",
       "10         5.01      EC  1595804030  \n",
       "15        19.48      PF  1595803915  \n",
       "17         7.99      CL  1595803947  \n",
       "..          ...     ...         ...  \n",
       "530       11.23      AU  1595804460  \n",
       "532        4.14      GA  1595804460  \n",
       "543        8.05      AU  1595803998  \n",
       "554        4.81      AO  1595804466  \n",
       "556        6.67      BR  1595804466  \n",
       "\n",
       "[168 rows x 9 columns]"
      ]
     },
     "execution_count": 17,
     "metadata": {},
     "output_type": "execute_result"
    }
   ],
   "source": [
    "# Create Northern and Southern Hemisphere DataFrames\n",
    "nhem = weatherdf.loc[weatherdf[\"Latitude\"] >= 0]\n",
    "shem = weatherdf.loc[weatherdf[\"Latitude\"] < 0]\n",
    "nhem\n",
    "shem"
   ]
  },
  {
   "cell_type": "markdown",
   "metadata": {},
   "source": [
    "####  Northern Hemisphere - Max Temp vs. Latitude Linear Regression"
   ]
  },
  {
   "cell_type": "code",
   "execution_count": null,
   "metadata": {},
   "outputs": [],
   "source": []
  },
  {
   "cell_type": "code",
   "execution_count": 18,
   "metadata": {},
   "outputs": [],
   "source": [
    "def plotreg (x_values, y_values, xtitle, ytitle, textcoords):\n",
    "    \n",
    "    (slope, intercept, rvalue, pvalue, stderr) = linregress(x_values, y_values)\n",
    "    regress_values = x_values * slope + intercept\n",
    "    line_eq = \"y = \" + str(round(slope,2)) + \"x + \" + str(round(intercept,2))\n",
    "    plt.scatter(x_values,y_values)\n",
    "    plt.plot(x_values,regress_values,\"r-\")\n",
    "    plt.annotate(line_eq,textcoords,fontsize=15,color=\"red\")\n",
    "    plt.xlabel(xtitle)\n",
    "    plt.ylabel(ytitle)\n",
    "    plt.show()\n",
    "    print(f\"The r-squared is: {rvalue**2}\")"
   ]
  },
  {
   "cell_type": "code",
   "execution_count": 19,
   "metadata": {},
   "outputs": [
    {
     "data": {
      "image/png": "[encoded data removed]",
      "text/plain": [
       "<Figure size 432x288 with 1 Axes>"
      ]
     },
     "metadata": {
      "needs_background": "light"
     },
     "output_type": "display_data"
    },
    {
     "name": "stdout",
     "output_type": "stream",
     "text": [
      "The r-squared is: 0.42181623955174957\n"
     ]
    },
    {
     "data": {
      "text/plain": [
       "<Figure size 432x288 with 0 Axes>"
      ]
     },
     "metadata": {},
     "output_type": "display_data"
    }
   ],
   "source": [
    "\n",
    "plotreg (nhem['Latitude'], nhem['Max Temp'], 'Latitude','Max Temp', (30,60))\n",
    "\n",
    "plt.show()\n",
    "plt.savefig('fig5.png')"
   ]
  },
  {
   "cell_type": "markdown",
   "metadata": {},
   "source": [
    "####  Southern Hemisphere - Max Temp vs. Latitude Linear Regression"
   ]
  },
  {
   "cell_type": "code",
   "execution_count": 20,
   "metadata": {},
   "outputs": [
    {
     "data": {
      "image/png": "[encoded data removed]",
      "text/plain": [
       "<Figure size 432x288 with 1 Axes>"
      ]
     },
     "metadata": {
      "needs_background": "light"
     },
     "output_type": "display_data"
    },
    {
     "name": "stdout",
     "output_type": "stream",
     "text": [
      "The r-squared is: 0.6435492294352378\n"
     ]
    },
    {
     "data": {
      "text/plain": [
       "<Figure size 432x288 with 0 Axes>"
      ]
     },
     "metadata": {},
     "output_type": "display_data"
    }
   ],
   "source": [
    "\n",
    "plotreg (shem['Max Temp'], shem['Latitude'], 'Max Temp','Latitude', (50,-50))\n",
    "\n",
    "plt.show()\n",
    "plt.savefig('fig6.png')"
   ]
  },
  {
   "cell_type": "markdown",
   "metadata": {},
   "source": [
    "####  Northern Hemisphere - Humidity (%) vs. Latitude Linear Regression"
   ]
  },
  {
   "cell_type": "code",
   "execution_count": 21,
   "metadata": {},
   "outputs": [
    {
     "data": {
      "image/png": "[encoded data removed]",
      "text/plain": [
       "<Figure size 432x288 with 1 Axes>"
      ]
     },
     "metadata": {
      "needs_background": "light"
     },
     "output_type": "display_data"
    },
    {
     "name": "stdout",
     "output_type": "stream",
     "text": [
      "The r-squared is: 0.0014905603168901328\n"
     ]
    },
    {
     "data": {
      "text/plain": [
       "<Figure size 432x288 with 0 Axes>"
      ]
     },
     "metadata": {},
     "output_type": "display_data"
    }
   ],
   "source": [
    "\n",
    "plotreg (nhem['Humidity'], nhem['Latitude'], 'Humidity','Latitude', (10,10))\n",
    "\n",
    "plt.show()\n",
    "plt.savefig('fig7.png')"
   ]
  },
  {
   "cell_type": "markdown",
   "metadata": {},
   "source": [
    "####  Southern Hemisphere - Humidity (%) vs. Latitude Linear Regression"
   ]
  },
  {
   "cell_type": "code",
   "execution_count": 22,
   "metadata": {},
   "outputs": [
    {
     "data": {
      "image/png": "[encoded data removed]",
      "text/plain": [
       "<Figure size 432x288 with 1 Axes>"
      ]
     },
     "metadata": {
      "needs_background": "light"
     },
     "output_type": "display_data"
    },
    {
     "name": "stdout",
     "output_type": "stream",
     "text": [
      "The r-squared is: 0.005145483484125462\n"
     ]
    },
    {
     "data": {
      "text/plain": [
       "<Figure size 432x288 with 0 Axes>"
      ]
     },
     "metadata": {},
     "output_type": "display_data"
    }
   ],
   "source": [
    "\n",
    "plotreg (shem['Humidity'], shem['Latitude'], 'Humidity','Latitude', (50,-50))\n",
    "\n",
    "plt.show()\n",
    "plt.savefig('fig8.png')"
   ]
  },
  {
   "cell_type": "markdown",
   "metadata": {},
   "source": [
    "####  Northern Hemisphere - Cloudiness (%) vs. Latitude Linear Regression"
   ]
  },
  {
   "cell_type": "code",
   "execution_count": 23,
   "metadata": {},
   "outputs": [
    {
     "data": {
      "image/png": "[encoded data removed]",
      "text/plain": [
       "<Figure size 432x288 with 1 Axes>"
      ]
     },
     "metadata": {
      "needs_background": "light"
     },
     "output_type": "display_data"
    },
    {
     "name": "stdout",
     "output_type": "stream",
     "text": [
      "The r-squared is: 0.001687210196919984\n"
     ]
    },
    {
     "data": {
      "text/plain": [
       "<Figure size 432x288 with 0 Axes>"
      ]
     },
     "metadata": {},
     "output_type": "display_data"
    }
   ],
   "source": [
    "\n",
    "plotreg (nhem['Cloudiness'], nhem['Latitude'], 'Cloudiness','Latitude', (10,20))\n",
    "\n",
    "plt.show()\n",
    "plt.savefig('fig9.png')"
   ]
  },
  {
   "cell_type": "markdown",
   "metadata": {},
   "source": [
    "####  Southern Hemisphere - Cloudiness (%) vs. Latitude Linear Regression"
   ]
  },
  {
   "cell_type": "code",
   "execution_count": 24,
   "metadata": {},
   "outputs": [
    {
     "data": {
      "image/png": "[encoded data removed]",
      "text/plain": [
       "<Figure size 432x288 with 1 Axes>"
      ]
     },
     "metadata": {
      "needs_background": "light"
     },
     "output_type": "display_data"
    },
    {
     "name": "stdout",
     "output_type": "stream",
     "text": [
      "The r-squared is: 0.0035612047877106186\n"
     ]
    },
    {
     "data": {
      "text/plain": [
       "<Figure size 432x288 with 0 Axes>"
      ]
     },
     "metadata": {},
     "output_type": "display_data"
    }
   ],
   "source": [
    "\n",
    "plotreg (shem['Cloudiness'], shem['Latitude'], 'Cloudiness','Latitude', (50,-50))\n",
    "\n",
    "plt.show()\n",
    "plt.savefig('fig10.png')"
   ]
  },
  {
   "cell_type": "markdown",
   "metadata": {},
   "source": [
    "####  Northern Hemisphere - Wind Speed (mph) vs. Latitude Linear Regression"
   ]
  },
  {
   "cell_type": "code",
   "execution_count": 25,
   "metadata": {},
   "outputs": [
    {
     "data": {
      "image/png": "[encoded data removed]",
      "text/plain": [
       "<Figure size 432x288 with 1 Axes>"
      ]
     },
     "metadata": {
      "needs_background": "light"
     },
     "output_type": "display_data"
    },
    {
     "name": "stdout",
     "output_type": "stream",
     "text": [
      "The r-squared is: 0.0008260007131952776\n"
     ]
    },
    {
     "data": {
      "text/plain": [
       "<Figure size 432x288 with 0 Axes>"
      ]
     },
     "metadata": {},
     "output_type": "display_data"
    }
   ],
   "source": [
    "\n",
    "plotreg (nhem['Wind Speed'], nhem['Latitude'], 'Wind Speed','Latitude', (10,10))\n",
    "\n",
    "plt.show()\n",
    "plt.savefig('fig11.png')"
   ]
  },
  {
   "cell_type": "markdown",
   "metadata": {},
   "source": [
    "####  Southern Hemisphere - Wind Speed (mph) vs. Latitude Linear Regression"
   ]
  },
  {
   "cell_type": "code",
   "execution_count": 27,
   "metadata": {},
   "outputs": [
    {
     "data": {
      "image/png": "[encoded data removed]",
      "text/plain": [
       "<Figure size 432x288 with 1 Axes>"
      ]
     },
     "metadata": {
      "needs_background": "light"
     },
     "output_type": "display_data"
    },
    {
     "name": "stdout",
     "output_type": "stream",
     "text": [
      "The r-squared is: 0.011279099090038354\n"
     ]
    },
    {
     "data": {
      "text/plain": [
       "<Figure size 432x288 with 0 Axes>"
      ]
     },
     "metadata": {},
     "output_type": "display_data"
    }
   ],
   "source": [
    "\n",
    "plotreg (shem['Wind Speed'], shem['Latitude'], 'Wind Speed','Latitude', (10,-50))\n",
    "\n",
    "plt.show()\n",
    "plt.savefig('fig12.png')"
   ]
  },
  {
   "cell_type": "code",
   "execution_count": null,
   "metadata": {},
   "outputs": [],
   "source": []
  },
  {
   "cell_type": "code",
   "execution_count": null,
   "metadata": {},
   "outputs": [],
   "source": []
  }
 ],
 "metadata": {
  "anaconda-cloud": {},
  "kernel_info": {
   "name": "python3"
  },
  "kernelspec": {
   "display_name": "Python 3",
   "language": "python",
   "name": "python3"
  },
  "language_info": {
   "codemirror_mode": {
    "name": "ipython",
    "version": 3
   },
   "file_extension": ".py",
   "mimetype": "text/x-python",
   "name": "python",
   "nbconvert_exporter": "python",
   "pygments_lexer": "ipython3",
   "version": "3.7.6"
  },
  "latex_envs": {
   "LaTeX_envs_menu_present": true,
   "autoclose": false,
   "autocomplete": true,
   "bibliofile": "biblio.bib",
   "cite_by": "apalike",
   "current_citInitial": 1,
   "eqLabelWithNumbers": true,
   "eqNumInitial": 1,
   "hotkeys": {
    "equation": "Ctrl-E",
    "itemize": "Ctrl-I"
   },
   "labels_anchors": false,
   "latex_user_defs": false,
   "report_style_numbering": false,
   "user_envs_cfg": false
  },
  "nteract": {
   "version": "0.12.3"
  }
 },
 "nbformat": 4,
 "nbformat_minor": 2
}
