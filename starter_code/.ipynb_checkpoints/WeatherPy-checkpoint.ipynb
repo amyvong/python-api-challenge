{
 "cells": [
  {
   "cell_type": "markdown",
   "metadata": {},
   "source": [
    "# WeatherPy\n",
    "----\n",
    "\n",
    "#### Note\n",
    "* Instructions have been included for each segment. You do not have to follow them exactly, but they are included to help you think through the steps."
   ]
  },
  {
   "cell_type": "code",
   "execution_count": 19,
   "metadata": {
    "scrolled": true
   },
   "outputs": [],
   "source": [
    "# Dependencies and Setup\n",
    "import matplotlib.pyplot as plt\n",
    "import pandas as pd\n",
    "import numpy as np\n",
    "import requests\n",
    "import time\n",
    "from scipy.stats import linregress \n",
    "\n",
    "\n",
    "# Import API key\n",
    "from api_keys import weather_api_key\n",
    "\n",
    "# Incorporated citipy to determine city based on latitude and longitude\n",
    "from citipy import citipy\n",
    "\n",
    "# Output File (CSV)\n",
    "outputcities = \"output_data/cities.csv\"\n",
    "\n",
    "# Range of latitudes and longitudes\n",
    "lat_range = (-90, 90)\n",
    "lng_range = (-180, 180)"
   ]
  },
  {
   "cell_type": "code",
   "execution_count": null,
   "metadata": {},
   "outputs": [],
   "source": []
  },
  {
   "cell_type": "markdown",
   "metadata": {},
   "source": [
    "## Generate Cities List"
   ]
  },
  {
   "cell_type": "code",
   "execution_count": 20,
   "metadata": {},
   "outputs": [
    {
     "data": {
      "text/plain": [
       "605"
      ]
     },
     "execution_count": 20,
     "metadata": {},
     "output_type": "execute_result"
    }
   ],
   "source": [
    "# List for holding lat_lngs and cities\n",
    "lat_lngs = []\n",
    "cities = []\n",
    "\n",
    "# Create a set of random lat and lng combinations\n",
    "lats = np.random.uniform(lat_range[0], lat_range[1], size=1500)\n",
    "lngs = np.random.uniform(lng_range[0], lng_range[1], size=1500)\n",
    "lat_lngs = zip(lats, lngs)\n",
    "\n",
    "# Identify nearest city for each lat, lng combination\n",
    "for lat_lng in lat_lngs:\n",
    "    city = citipy.nearest_city(lat_lng[0], lat_lng[1]).city_name\n",
    "    \n",
    "    # If the city is unique, then add it to a our cities list\n",
    "    if city not in cities:\n",
    "        cities.append(city)\n",
    "\n",
    "# Print the city count to confirm sufficient count\n",
    "len(cities)"
   ]
  },
  {
   "cell_type": "code",
   "execution_count": 21,
   "metadata": {},
   "outputs": [],
   "source": [
    "url = \"http://api.openweathermap.org/data/2.5/weather?\""
   ]
  },
  {
   "cell_type": "markdown",
   "metadata": {},
   "source": [
    "### Perform API Calls\n",
    "* Perform a weather check on each city using a series of successive API calls.\n",
    "* Include a print log of each city as it'sbeing processed (with the city number and city name).\n"
   ]
  },
  {
   "cell_type": "code",
   "execution_count": 26,
   "metadata": {},
   "outputs": [
    {
     "data": {
      "text/plain": [
       "{'coord': {'lon': -84.53, 'lat': 39.18},\n",
       " 'weather': [{'id': 503,\n",
       "   'main': 'Rain',\n",
       "   'description': 'very heavy rain',\n",
       "   'icon': '10d'},\n",
       "  {'id': 211,\n",
       "   'main': 'Thunderstorm',\n",
       "   'description': 'thunderstorm',\n",
       "   'icon': '11d'}],\n",
       " 'base': 'stations',\n",
       " 'main': {'temp': 71.6,\n",
       "  'feels_like': 77.23,\n",
       "  'temp_min': 69.8,\n",
       "  'temp_max': 73.4,\n",
       "  'pressure': 1019,\n",
       "  'humidity': 94},\n",
       " 'visibility': 10000,\n",
       " 'wind': {'speed': 3.36, 'deg': 130},\n",
       " 'rain': {'1h': 16.77},\n",
       " 'clouds': {'all': 75},\n",
       " 'dt': 1595440710,\n",
       " 'sys': {'type': 1,\n",
       "  'id': 4776,\n",
       "  'country': 'US',\n",
       "  'sunrise': 1595413804,\n",
       "  'sunset': 1595465926},\n",
       " 'timezone': -14400,\n",
       " 'id': 4513583,\n",
       " 'name': 'Hamilton',\n",
       " 'cod': 200}"
      ]
     },
     "execution_count": 26,
     "metadata": {},
     "output_type": "execute_result"
    }
   ],
   "source": [
    "query_url = f\"{url}appid={weather_api_key}&units={units}&q=\"\n",
    "response = requests.get(query_url + cities[0]).json()\n",
    "\n",
    "response"
   ]
  },
  {
   "cell_type": "code",
   "execution_count": null,
   "metadata": {},
   "outputs": [],
   "source": [
    "\n",
    "        "
   ]
  },
  {
   "cell_type": "code",
   "execution_count": 32,
   "metadata": {},
   "outputs": [
    {
     "name": "stdout",
     "output_type": "stream",
     "text": [
      "Beginning Data Retrieval\n",
      "-----------------------------\n",
      "Processing Record 1 of Set 1 | hamilton\n",
      "Processing Record 2 of Set 1 | merauke\n",
      "Processing Record 3 of Set 1 | bredasdorp\n",
      "Processing Record 4 of Set 1 | jamestown\n",
      "Processing Record 5 of Set 1 | yatou\n",
      "Processing Record 6 of Set 1 | vaini\n",
      "Processing Record 7 of Set 1 | khuzhir\n",
      "Processing Record 8 of Set 1 | hirara\n",
      "Processing Record 9 of Set 1 | iralaya\n",
      "Processing Record 10 of Set 1 | springdale\n",
      "Processing Record 11 of Set 1 | berlevag\n",
      "Processing Record 12 of Set 1 | hilo\n",
      "Processing Record 13 of Set 1 | narasannapeta\n",
      "Processing Record 14 of Set 1 | alakurtti\n",
      "Processing Record 15 of Set 1 | djenne\n",
      "Processing Record 16 of Set 1 | wanning\n",
      "Processing Record 17 of Set 1 | ponta delgada\n",
      "Processing Record 18 of Set 1 | bluff\n",
      "Processing Record 19 of Set 1 | atuona\n",
      "Processing Record 20 of Set 1 | gandiangan\n",
      "City not found. Skipping...\n",
      "Processing Record 21 of Set 1 | saskylakh\n",
      "Processing Record 22 of Set 1 | mabaruma\n",
      "Processing Record 23 of Set 1 | vila velha\n",
      "Processing Record 24 of Set 1 | bumba\n",
      "Processing Record 25 of Set 1 | puerto ayora\n",
      "Processing Record 26 of Set 1 | plettenberg bay\n",
      "Processing Record 27 of Set 1 | mahebourg\n",
      "Processing Record 28 of Set 1 | husavik\n",
      "Processing Record 29 of Set 1 | jaumave\n",
      "Processing Record 30 of Set 1 | filadelfia\n",
      "Processing Record 31 of Set 1 | ambilobe\n",
      "Processing Record 32 of Set 1 | dakoro\n",
      "Processing Record 33 of Set 1 | victoria\n",
      "Processing Record 34 of Set 1 | busselton\n",
      "Processing Record 35 of Set 1 | ushuaia\n",
      "Processing Record 36 of Set 1 | yellowknife\n",
      "Processing Record 37 of Set 1 | namibe\n",
      "Processing Record 38 of Set 1 | hobart\n",
      "Processing Record 39 of Set 1 | minatitlan\n",
      "Processing Record 40 of Set 1 | spornoye\n",
      "Processing Record 41 of Set 1 | new norfolk\n",
      "Processing Record 42 of Set 1 | severo-kurilsk\n",
      "Processing Record 43 of Set 1 | peniche\n",
      "Processing Record 44 of Set 1 | fairbanks\n",
      "Processing Record 45 of Set 1 | bulgan\n",
      "Processing Record 46 of Set 1 | colomba\n",
      "Processing Record 47 of Set 1 | bentiu\n",
      "Processing Record 48 of Set 1 | kodiak\n",
      "Processing Record 49 of Set 1 | naron\n",
      "Processing Record 50 of Set 1 | zhangjiakou\n",
      "Processing Record 1 of Set 2 | angoram\n",
      "Processing Record 2 of Set 2 | kruisfontein\n",
      "Processing Record 3 of Set 2 | eloy\n",
      "Processing Record 4 of Set 2 | padang\n",
      "Processing Record 5 of Set 2 | lata\n",
      "Processing Record 6 of Set 2 | rikitea\n",
      "Processing Record 7 of Set 2 | tasiilaq\n",
      "Processing Record 8 of Set 2 | tuktoyaktuk\n",
      "Processing Record 9 of Set 2 | neuquen\n",
      "Processing Record 10 of Set 2 | vanimo\n",
      "Processing Record 11 of Set 2 | belushya guba\n",
      "City not found. Skipping...\n",
      "Processing Record 12 of Set 2 | punta arenas\n",
      "Processing Record 13 of Set 2 | kaitangata\n",
      "Processing Record 14 of Set 2 | taolanaro\n",
      "City not found. Skipping...\n",
      "Processing Record 15 of Set 2 | hithadhoo\n",
      "Processing Record 16 of Set 2 | vyshestebliyevskaya\n",
      "Processing Record 17 of Set 2 | kapaa\n",
      "Processing Record 18 of Set 2 | butaritari\n",
      "Processing Record 19 of Set 2 | ancud\n",
      "Processing Record 20 of Set 2 | vila franca do campo\n",
      "Processing Record 21 of Set 2 | illoqqortoormiut\n",
      "City not found. Skipping...\n",
      "Processing Record 22 of Set 2 | bowen\n",
      "Processing Record 23 of Set 2 | bengkulu\n",
      "Processing Record 24 of Set 2 | lethem\n",
      "Processing Record 25 of Set 2 | chokurdakh\n",
      "Processing Record 26 of Set 2 | pangody\n",
      "Processing Record 27 of Set 2 | leningradskiy\n",
      "Processing Record 28 of Set 2 | ribeira grande\n",
      "Processing Record 29 of Set 2 | khomutovka\n",
      "Processing Record 30 of Set 2 | rawlins\n",
      "Processing Record 31 of Set 2 | kahului\n",
      "Processing Record 32 of Set 2 | iqaluit\n",
      "Processing Record 33 of Set 2 | gamba\n",
      "Processing Record 34 of Set 2 | norman wells\n",
      "Processing Record 35 of Set 2 | medvedka\n",
      "Processing Record 36 of Set 2 | namtsy\n",
      "Processing Record 37 of Set 2 | nikolskoye\n",
      "Processing Record 38 of Set 2 | saint-philippe\n",
      "Processing Record 39 of Set 2 | albany\n",
      "Processing Record 40 of Set 2 | puertollano\n",
      "Processing Record 41 of Set 2 | mandera\n",
      "Processing Record 42 of Set 2 | tsihombe\n",
      "City not found. Skipping...\n",
      "Processing Record 43 of Set 2 | meulaboh\n",
      "Processing Record 44 of Set 2 | guerrero negro\n",
      "Processing Record 45 of Set 2 | cape town\n",
      "Processing Record 46 of Set 2 | sogdiondon\n",
      "City not found. Skipping...\n",
      "Processing Record 47 of Set 2 | mataura\n",
      "Processing Record 48 of Set 2 | georgetown\n",
      "Processing Record 49 of Set 2 | kavaratti\n",
      "Processing Record 50 of Set 2 | beringovskiy\n",
      "Processing Record 1 of Set 3 | toucheng\n",
      "Processing Record 2 of Set 3 | carnarvon\n",
      "Processing Record 3 of Set 3 | yerbogachen\n",
      "Processing Record 4 of Set 3 | manicore\n",
      "Processing Record 5 of Set 3 | bambous virieux\n",
      "Processing Record 6 of Set 3 | pevek\n",
      "Processing Record 7 of Set 3 | peleduy\n",
      "Processing Record 8 of Set 3 | zhigansk\n",
      "Processing Record 9 of Set 3 | skagastrond\n",
      "City not found. Skipping...\n",
      "Processing Record 10 of Set 3 | namatanai\n",
      "Processing Record 11 of Set 3 | nanortalik\n",
      "Processing Record 12 of Set 3 | ust-maya\n",
      "Processing Record 13 of Set 3 | hermanus\n",
      "Processing Record 14 of Set 3 | esperance\n",
      "Processing Record 15 of Set 3 | lincoln\n",
      "Processing Record 16 of Set 3 | pisco\n",
      "Processing Record 17 of Set 3 | santiago\n",
      "Processing Record 18 of Set 3 | castro\n",
      "Processing Record 19 of Set 3 | palmer\n",
      "Processing Record 20 of Set 3 | qaanaaq\n",
      "Processing Record 21 of Set 3 | saint george\n",
      "Processing Record 22 of Set 3 | berzasca\n",
      "Processing Record 23 of Set 3 | torbay\n",
      "Processing Record 24 of Set 3 | portsmouth\n",
      "Processing Record 25 of Set 3 | umba\n",
      "Processing Record 26 of Set 3 | chanika\n",
      "Processing Record 27 of Set 3 | chuy\n",
      "Processing Record 28 of Set 3 | shihezi\n",
      "Processing Record 29 of Set 3 | sagana\n",
      "Processing Record 30 of Set 3 | marshfield\n",
      "Processing Record 31 of Set 3 | cockburn town\n",
      "Processing Record 32 of Set 3 | attawapiskat\n",
      "City not found. Skipping...\n",
      "Processing Record 33 of Set 3 | salalah\n",
      "Processing Record 34 of Set 3 | barentsburg\n",
      "City not found. Skipping...\n",
      "Processing Record 35 of Set 3 | dzhebariki-khaya\n",
      "Processing Record 36 of Set 3 | barcelos\n",
      "Processing Record 37 of Set 3 | boyle\n",
      "Processing Record 38 of Set 3 | khatanga\n",
      "Processing Record 39 of Set 3 | gidam\n",
      "Processing Record 40 of Set 3 | arawa\n",
      "Processing Record 41 of Set 3 | klaksvik\n",
      "Processing Record 42 of Set 3 | khomeyn\n",
      "Processing Record 43 of Set 3 | santa maria\n",
      "Processing Record 44 of Set 3 | bethel\n",
      "Processing Record 45 of Set 3 | port blair\n",
      "Processing Record 46 of Set 3 | jixi\n",
      "Processing Record 47 of Set 3 | hanyang\n",
      "Processing Record 48 of Set 3 | tiksi\n",
      "Processing Record 49 of Set 3 | luang prabang\n",
      "Processing Record 50 of Set 3 | rungata\n",
      "City not found. Skipping...\n",
      "Processing Record 1 of Set 4 | lompoc\n",
      "Processing Record 2 of Set 4 | marcona\n",
      "City not found. Skipping...\n",
      "Processing Record 3 of Set 4 | kushmurun\n",
      "Processing Record 4 of Set 4 | kazalinsk\n",
      "City not found. Skipping...\n",
      "Processing Record 5 of Set 4 | valparaiso\n",
      "Processing Record 6 of Set 4 | souillac\n",
      "Processing Record 7 of Set 4 | xam nua\n",
      "Processing Record 8 of Set 4 | brookhaven\n",
      "Processing Record 9 of Set 4 | udachnyy\n",
      "Processing Record 10 of Set 4 | arraial do cabo\n",
      "Processing Record 11 of Set 4 | santa isabel\n",
      "Processing Record 12 of Set 4 | shubarshi\n",
      "Processing Record 13 of Set 4 | wakkanai\n",
      "Processing Record 14 of Set 4 | narsaq\n",
      "Processing Record 15 of Set 4 | hunza\n",
      "City not found. Skipping...\n",
      "Processing Record 16 of Set 4 | barreiras\n",
      "Processing Record 17 of Set 4 | hasaki\n",
      "Processing Record 18 of Set 4 | algiers\n",
      "Processing Record 19 of Set 4 | liwale\n",
      "Processing Record 20 of Set 4 | palabuhanratu\n",
      "City not found. Skipping...\n",
      "Processing Record 21 of Set 4 | chhabra\n",
      "Processing Record 22 of Set 4 | khachrod\n",
      "Processing Record 23 of Set 4 | kavieng\n",
      "Processing Record 24 of Set 4 | dikson\n",
      "Processing Record 25 of Set 4 | asau\n",
      "Processing Record 26 of Set 4 | pa sang\n",
      "Processing Record 27 of Set 4 | quatre cocos\n",
      "Processing Record 28 of Set 4 | geraldton\n",
      "Processing Record 29 of Set 4 | qandahar\n",
      "City not found. Skipping...\n",
      "Processing Record 30 of Set 4 | jinchang\n",
      "Processing Record 31 of Set 4 | kamenka\n",
      "Processing Record 32 of Set 4 | ostrovnoy\n",
      "Processing Record 33 of Set 4 | sitka\n",
      "Processing Record 34 of Set 4 | mareeba\n",
      "Processing Record 35 of Set 4 | acaponeta\n",
      "Processing Record 36 of Set 4 | provideniya\n",
      "Processing Record 37 of Set 4 | sola\n",
      "Processing Record 38 of Set 4 | nouadhibou\n",
      "Processing Record 39 of Set 4 | waddan\n"
     ]
    },
    {
     "name": "stdout",
     "output_type": "stream",
     "text": [
      "Processing Record 40 of Set 4 | nome\n",
      "Processing Record 41 of Set 4 | samaipata\n",
      "Processing Record 42 of Set 4 | casablanca\n",
      "Processing Record 43 of Set 4 | kumta\n",
      "Processing Record 44 of Set 4 | liyang\n",
      "Processing Record 45 of Set 4 | krasnoselkup\n",
      "Processing Record 46 of Set 4 | los llanos de aridane\n",
      "Processing Record 47 of Set 4 | chubbuck\n",
      "Processing Record 48 of Set 4 | nizhneyansk\n",
      "City not found. Skipping...\n",
      "Processing Record 49 of Set 4 | tselinnoye\n",
      "Processing Record 50 of Set 4 | warqla\n",
      "City not found. Skipping...\n",
      "Processing Record 1 of Set 5 | ulaanbaatar\n",
      "Processing Record 2 of Set 5 | port alfred\n",
      "Processing Record 3 of Set 5 | saleaula\n",
      "City not found. Skipping...\n",
      "Processing Record 4 of Set 5 | la ronge\n",
      "Processing Record 5 of Set 5 | biltine\n",
      "Processing Record 6 of Set 5 | bilma\n",
      "Processing Record 7 of Set 5 | semarang\n",
      "Processing Record 8 of Set 5 | alofi\n",
      "Processing Record 9 of Set 5 | barrow\n",
      "Processing Record 10 of Set 5 | tura\n",
      "Processing Record 11 of Set 5 | amuntai\n",
      "Processing Record 12 of Set 5 | umm kaddadah\n",
      "Processing Record 13 of Set 5 | iracoubo\n",
      "Processing Record 14 of Set 5 | upernavik\n",
      "Processing Record 15 of Set 5 | le port\n",
      "Processing Record 16 of Set 5 | buala\n",
      "Processing Record 17 of Set 5 | sayyan\n",
      "Processing Record 18 of Set 5 | rosarito\n",
      "Processing Record 19 of Set 5 | aklavik\n",
      "Processing Record 20 of Set 5 | kamiiso\n",
      "Processing Record 21 of Set 5 | muros\n",
      "Processing Record 22 of Set 5 | tazovskiy\n",
      "Processing Record 23 of Set 5 | teguise\n",
      "Processing Record 24 of Set 5 | mar del plata\n",
      "Processing Record 25 of Set 5 | coelho neto\n",
      "Processing Record 26 of Set 5 | vaitupu\n",
      "City not found. Skipping...\n",
      "Processing Record 27 of Set 5 | bria\n",
      "Processing Record 28 of Set 5 | avarua\n",
      "Processing Record 29 of Set 5 | margate\n",
      "Processing Record 30 of Set 5 | ouesso\n",
      "Processing Record 31 of Set 5 | xinxiang\n",
      "Processing Record 32 of Set 5 | cidreira\n",
      "Processing Record 33 of Set 5 | henties bay\n",
      "Processing Record 34 of Set 5 | nouakchott\n",
      "Processing Record 35 of Set 5 | fortuna\n",
      "Processing Record 36 of Set 5 | sorong\n",
      "Processing Record 37 of Set 5 | kalmunai\n",
      "Processing Record 38 of Set 5 | lolua\n",
      "City not found. Skipping...\n",
      "Processing Record 39 of Set 5 | rio grande\n",
      "Processing Record 40 of Set 5 | constitucion\n",
      "Processing Record 41 of Set 5 | vostok\n",
      "Processing Record 42 of Set 5 | hambantota\n",
      "Processing Record 43 of Set 5 | senneterre\n",
      "Processing Record 44 of Set 5 | khorixas\n",
      "Processing Record 45 of Set 5 | mys shmidta\n",
      "City not found. Skipping...\n",
      "Processing Record 46 of Set 5 | bonthe\n",
      "Processing Record 47 of Set 5 | ossora\n",
      "Processing Record 48 of Set 5 | ntoum\n",
      "Processing Record 49 of Set 5 | bhanpura\n",
      "Processing Record 50 of Set 5 | komsomolskiy\n",
      "Processing Record 1 of Set 6 | samusu\n",
      "City not found. Skipping...\n",
      "Processing Record 2 of Set 6 | san patricio\n",
      "Processing Record 3 of Set 6 | ouro fino\n",
      "Processing Record 4 of Set 6 | halifax\n",
      "Processing Record 5 of Set 6 | barbar\n",
      "City not found. Skipping...\n",
      "Processing Record 6 of Set 6 | jacqueville\n",
      "Processing Record 7 of Set 6 | poum\n",
      "Processing Record 8 of Set 6 | cuamba\n",
      "Processing Record 9 of Set 6 | araouane\n",
      "Processing Record 10 of Set 6 | shakawe\n",
      "Processing Record 11 of Set 6 | trairi\n",
      "Processing Record 12 of Set 6 | caravelas\n",
      "Processing Record 13 of Set 6 | havoysund\n",
      "Processing Record 14 of Set 6 | san vicente\n",
      "Processing Record 15 of Set 6 | tabarqah\n",
      "City not found. Skipping...\n",
      "Processing Record 16 of Set 6 | san alberto\n",
      "Processing Record 17 of Set 6 | faanui\n",
      "Processing Record 18 of Set 6 | cabo san lucas\n",
      "Processing Record 19 of Set 6 | najran\n",
      "Processing Record 20 of Set 6 | luwuk\n",
      "Processing Record 21 of Set 6 | grand river south east\n",
      "City not found. Skipping...\n",
      "Processing Record 22 of Set 6 | dibulla\n",
      "Processing Record 23 of Set 6 | yuxia\n",
      "Processing Record 24 of Set 6 | isangel\n",
      "Processing Record 25 of Set 6 | paamiut\n",
      "Processing Record 26 of Set 6 | biak\n",
      "Processing Record 27 of Set 6 | ketchikan\n",
      "Processing Record 28 of Set 6 | breznita ocol\n",
      "Processing Record 29 of Set 6 | bandarbeyla\n",
      "Processing Record 30 of Set 6 | waycross\n",
      "Processing Record 31 of Set 6 | codrington\n",
      "Processing Record 32 of Set 6 | lebu\n",
      "Processing Record 33 of Set 6 | gubkinskiy\n",
      "Processing Record 34 of Set 6 | tessalit\n",
      "Processing Record 35 of Set 6 | walvis bay\n",
      "Processing Record 36 of Set 6 | marsh harbour\n",
      "Processing Record 37 of Set 6 | kailua\n",
      "Processing Record 38 of Set 6 | luderitz\n",
      "Processing Record 39 of Set 6 | menongue\n",
      "Processing Record 40 of Set 6 | brewster\n",
      "Processing Record 41 of Set 6 | berbera\n",
      "Processing Record 42 of Set 6 | havre-saint-pierre\n",
      "Processing Record 43 of Set 6 | kharp\n",
      "Processing Record 44 of Set 6 | chokwe\n",
      "Processing Record 45 of Set 6 | trelleborg\n",
      "Processing Record 46 of Set 6 | kirakira\n",
      "Processing Record 47 of Set 6 | prostejov\n",
      "Processing Record 48 of Set 6 | atar\n",
      "Processing Record 49 of Set 6 | longyearbyen\n",
      "Processing Record 50 of Set 6 | dwarka\n",
      "Processing Record 1 of Set 7 | tahe\n",
      "Processing Record 2 of Set 7 | zheleznodorozhnyy\n",
      "Processing Record 3 of Set 7 | daru\n",
      "Processing Record 4 of Set 7 | faranah\n",
      "Processing Record 5 of Set 7 | tomakivka\n",
      "Processing Record 6 of Set 7 | taxisco\n",
      "Processing Record 7 of Set 7 | bilibino\n",
      "Processing Record 8 of Set 7 | raga\n",
      "Processing Record 9 of Set 7 | kazerun\n",
      "Processing Record 10 of Set 7 | abu jubayhah\n",
      "City not found. Skipping...\n",
      "Processing Record 11 of Set 7 | port elizabeth\n",
      "Processing Record 12 of Set 7 | sosua\n",
      "Processing Record 13 of Set 7 | lavrentiya\n",
      "Processing Record 14 of Set 7 | kaeo\n",
      "Processing Record 15 of Set 7 | thompson\n",
      "Processing Record 16 of Set 7 | tagusao\n",
      "Processing Record 17 of Set 7 | kitgum\n",
      "Processing Record 18 of Set 7 | maple creek\n",
      "Processing Record 19 of Set 7 | nkhata bay\n",
      "Processing Record 20 of Set 7 | quime\n",
      "Processing Record 21 of Set 7 | cherskiy\n",
      "Processing Record 22 of Set 7 | touros\n",
      "Processing Record 23 of Set 7 | am timan\n",
      "Processing Record 24 of Set 7 | hong gai\n",
      "Processing Record 25 of Set 7 | mahanje\n",
      "Processing Record 26 of Set 7 | westport\n",
      "Processing Record 27 of Set 7 | anadyr\n",
      "Processing Record 28 of Set 7 | ajaccio\n",
      "Processing Record 29 of Set 7 | ponta do sol\n",
      "Processing Record 30 of Set 7 | jiuquan\n",
      "Processing Record 31 of Set 7 | tahta\n",
      "Processing Record 32 of Set 7 | kozhva\n",
      "Processing Record 33 of Set 7 | vestmannaeyjar\n",
      "Processing Record 34 of Set 7 | cayenne\n",
      "Processing Record 35 of Set 7 | saint-augustin\n",
      "Processing Record 36 of Set 7 | teya\n",
      "Processing Record 37 of Set 7 | taltal\n",
      "Processing Record 38 of Set 7 | okha\n",
      "Processing Record 39 of Set 7 | gawler\n",
      "Processing Record 40 of Set 7 | ixtapa\n",
      "Processing Record 41 of Set 7 | port macquarie\n",
      "Processing Record 42 of Set 7 | saint anthony\n",
      "Processing Record 43 of Set 7 | ponta pora\n",
      "Processing Record 44 of Set 7 | andros town\n",
      "Processing Record 45 of Set 7 | gizo\n",
      "Processing Record 46 of Set 7 | east london\n",
      "Processing Record 47 of Set 7 | lagoa\n",
      "Processing Record 48 of Set 7 | port lincoln\n",
      "Processing Record 49 of Set 7 | korla\n",
      "Processing Record 50 of Set 7 | collie\n",
      "Processing Record 1 of Set 8 | gargzdai\n",
      "Processing Record 2 of Set 8 | dunedin\n",
      "Processing Record 3 of Set 8 | umzimvubu\n",
      "City not found. Skipping...\n",
      "Processing Record 4 of Set 8 | vieste\n",
      "Processing Record 5 of Set 8 | watertown\n",
      "Processing Record 6 of Set 8 | vega de alatorre\n",
      "Processing Record 7 of Set 8 | senador guiomard\n",
      "Processing Record 8 of Set 8 | evensk\n",
      "Processing Record 9 of Set 8 | alice springs\n",
      "Processing Record 10 of Set 8 | boa vista\n",
      "Processing Record 11 of Set 8 | louisbourg\n",
      "City not found. Skipping...\n",
      "Processing Record 12 of Set 8 | storforshei\n",
      "Processing Record 13 of Set 8 | karauli\n",
      "Processing Record 14 of Set 8 | turayf\n",
      "Processing Record 15 of Set 8 | boyolangu\n",
      "Processing Record 16 of Set 8 | antalaha\n",
      "Processing Record 17 of Set 8 | tabou\n",
      "Processing Record 18 of Set 8 | erdemli\n",
      "Processing Record 19 of Set 8 | sazonovo\n",
      "Processing Record 20 of Set 8 | suclayin\n",
      "Processing Record 21 of Set 8 | bud\n",
      "Processing Record 22 of Set 8 | sulangan\n",
      "Processing Record 23 of Set 8 | pimentel\n",
      "Processing Record 24 of Set 8 | hay river\n",
      "Processing Record 25 of Set 8 | deputatskiy\n",
      "Processing Record 26 of Set 8 | vao\n",
      "Processing Record 27 of Set 8 | bukachacha\n",
      "Processing Record 28 of Set 8 | dongsheng\n",
      "Processing Record 29 of Set 8 | kalavai\n",
      "Processing Record 30 of Set 8 | saint-pierre\n",
      "Processing Record 31 of Set 8 | tautira\n"
     ]
    },
    {
     "name": "stdout",
     "output_type": "stream",
     "text": [
      "Processing Record 32 of Set 8 | alexandria\n",
      "Processing Record 33 of Set 8 | marsa matruh\n",
      "Processing Record 34 of Set 8 | kedrovyy\n",
      "Processing Record 35 of Set 8 | talnakh\n",
      "Processing Record 36 of Set 8 | yayva\n",
      "Processing Record 37 of Set 8 | alipur duar\n",
      "City not found. Skipping...\n",
      "Processing Record 38 of Set 8 | mrirt\n",
      "City not found. Skipping...\n",
      "Processing Record 39 of Set 8 | beloha\n",
      "Processing Record 40 of Set 8 | doha\n",
      "Processing Record 41 of Set 8 | winona\n",
      "Processing Record 42 of Set 8 | grand-santi\n",
      "Processing Record 43 of Set 8 | richards bay\n",
      "Processing Record 44 of Set 8 | flinders\n",
      "Processing Record 45 of Set 8 | pompeu\n",
      "Processing Record 46 of Set 8 | belaya gora\n",
      "Processing Record 47 of Set 8 | prescott\n",
      "Processing Record 48 of Set 8 | hualmay\n",
      "Processing Record 49 of Set 8 | dubbo\n",
      "Processing Record 50 of Set 8 | babanusah\n",
      "City not found. Skipping...\n",
      "Processing Record 1 of Set 9 | ilulissat\n",
      "Processing Record 2 of Set 9 | bar harbor\n",
      "Processing Record 3 of Set 9 | jian\n",
      "Processing Record 4 of Set 9 | half moon bay\n",
      "Processing Record 5 of Set 9 | calvinia\n",
      "Processing Record 6 of Set 9 | red wing\n",
      "Processing Record 7 of Set 9 | sakakah\n",
      "Processing Record 8 of Set 9 | jiddah\n",
      "City not found. Skipping...\n",
      "Processing Record 9 of Set 9 | socorro\n",
      "Processing Record 10 of Set 9 | san quintin\n",
      "Processing Record 11 of Set 9 | paita\n",
      "Processing Record 12 of Set 9 | irkutsk\n",
      "Processing Record 13 of Set 9 | french harbor\n",
      "Processing Record 14 of Set 9 | harnosand\n",
      "Processing Record 15 of Set 9 | eydhafushi\n",
      "Processing Record 16 of Set 9 | sundsvall\n",
      "Processing Record 17 of Set 9 | ornskoldsvik\n",
      "Processing Record 18 of Set 9 | hami\n",
      "Processing Record 19 of Set 9 | hounde\n",
      "Processing Record 20 of Set 9 | bathsheba\n",
      "Processing Record 21 of Set 9 | anito\n",
      "Processing Record 22 of Set 9 | karakulino\n",
      "Processing Record 23 of Set 9 | andalan\n",
      "Processing Record 24 of Set 9 | altus\n",
      "Processing Record 25 of Set 9 | kattivakkam\n",
      "Processing Record 26 of Set 9 | telimele\n",
      "Processing Record 27 of Set 9 | san andres\n",
      "Processing Record 28 of Set 9 | lagunas\n",
      "Processing Record 29 of Set 9 | shubarkuduk\n",
      "Processing Record 30 of Set 9 | washington\n",
      "Processing Record 31 of Set 9 | nigrita\n",
      "Processing Record 32 of Set 9 | darhan\n",
      "Processing Record 33 of Set 9 | poole\n",
      "Processing Record 34 of Set 9 | athabasca\n",
      "Processing Record 35 of Set 9 | jodiya\n",
      "Processing Record 36 of Set 9 | lorengau\n",
      "Processing Record 37 of Set 9 | bako\n",
      "Processing Record 38 of Set 9 | sterling\n",
      "Processing Record 39 of Set 9 | ascension\n",
      "Processing Record 40 of Set 9 | kudahuvadhoo\n",
      "Processing Record 41 of Set 9 | naze\n",
      "Processing Record 42 of Set 9 | chagda\n",
      "City not found. Skipping...\n",
      "Processing Record 43 of Set 9 | acarau\n",
      "Processing Record 44 of Set 9 | cap malheureux\n",
      "Processing Record 45 of Set 9 | keti bandar\n",
      "Processing Record 46 of Set 9 | katsuura\n",
      "Processing Record 47 of Set 9 | qaqortoq\n",
      "Processing Record 48 of Set 9 | pinega\n",
      "Processing Record 49 of Set 9 | tallahassee\n",
      "Processing Record 50 of Set 9 | singaraja\n",
      "Processing Record 1 of Set 10 | waipawa\n",
      "Processing Record 2 of Set 10 | daxian\n",
      "City not found. Skipping...\n",
      "Processing Record 3 of Set 10 | sorland\n",
      "Processing Record 4 of Set 10 | iberia\n",
      "Processing Record 5 of Set 10 | krasnoslobodsk\n",
      "Processing Record 6 of Set 10 | kangaatsiaq\n",
      "Processing Record 7 of Set 10 | santa cruz\n",
      "Processing Record 8 of Set 10 | kulhudhuffushi\n",
      "Processing Record 9 of Set 10 | naryan-mar\n",
      "Processing Record 10 of Set 10 | sur\n",
      "Processing Record 11 of Set 10 | coquimbo\n",
      "Processing Record 12 of Set 10 | kaabong\n",
      "Processing Record 13 of Set 10 | dunga bunga\n",
      "Processing Record 14 of Set 10 | praya\n",
      "Processing Record 15 of Set 10 | sidi ali\n",
      "Processing Record 16 of Set 10 | belmonte\n",
      "Processing Record 17 of Set 10 | stony plain\n",
      "Processing Record 18 of Set 10 | vanavara\n",
      "Processing Record 19 of Set 10 | penzance\n",
      "Processing Record 20 of Set 10 | mount gambier\n",
      "Processing Record 21 of Set 10 | katherine\n",
      "Processing Record 22 of Set 10 | manzhouli\n",
      "Processing Record 23 of Set 10 | baiyin\n",
      "Processing Record 24 of Set 10 | papetoai\n",
      "Processing Record 25 of Set 10 | tianpeng\n",
      "Processing Record 26 of Set 10 | emba\n",
      "Processing Record 27 of Set 10 | szamotuly\n",
      "Processing Record 28 of Set 10 | mackenzie\n",
      "Processing Record 29 of Set 10 | nishihara\n",
      "Processing Record 30 of Set 10 | puerto carreno\n",
      "Processing Record 31 of Set 10 | nuuk\n",
      "Processing Record 32 of Set 10 | golden\n",
      "Processing Record 33 of Set 10 | aflu\n",
      "City not found. Skipping...\n",
      "Processing Record 34 of Set 10 | shache\n",
      "Processing Record 35 of Set 10 | lufilufi\n",
      "Processing Record 36 of Set 10 | sale\n",
      "Processing Record 37 of Set 10 | bestobe\n",
      "Processing Record 38 of Set 10 | vilhena\n",
      "Processing Record 39 of Set 10 | nguiu\n",
      "City not found. Skipping...\n",
      "Processing Record 40 of Set 10 | nikolskiy\n",
      "Processing Record 41 of Set 10 | nelson bay\n",
      "Processing Record 42 of Set 10 | yeletskiy\n",
      "City not found. Skipping...\n",
      "Processing Record 43 of Set 10 | hamada\n",
      "Processing Record 44 of Set 10 | yeppoon\n",
      "Processing Record 45 of Set 10 | mayo\n",
      "Processing Record 46 of Set 10 | non sung\n",
      "Processing Record 47 of Set 10 | port keats\n",
      "Processing Record 48 of Set 10 | kiunga\n",
      "Processing Record 49 of Set 10 | gillette\n",
      "Processing Record 50 of Set 10 | quelimane\n",
      "Processing Record 1 of Set 11 | san cristobal\n",
      "Processing Record 2 of Set 11 | clyde river\n",
      "Processing Record 3 of Set 11 | tumannyy\n",
      "City not found. Skipping...\n",
      "Processing Record 4 of Set 11 | itaperuna\n",
      "Processing Record 5 of Set 11 | kerchevskiy\n",
      "Processing Record 6 of Set 11 | chicama\n",
      "Processing Record 7 of Set 11 | vkhodnoy\n",
      "Processing Record 8 of Set 11 | kristinehamn\n",
      "Processing Record 9 of Set 11 | peterhead\n",
      "Processing Record 10 of Set 11 | talcahuano\n",
      "Processing Record 11 of Set 11 | amderma\n",
      "City not found. Skipping...\n",
      "Processing Record 12 of Set 11 | avera\n",
      "Processing Record 13 of Set 11 | xining\n",
      "Processing Record 14 of Set 11 | bonfim\n",
      "Processing Record 15 of Set 11 | horn\n",
      "Processing Record 16 of Set 11 | sao filipe\n",
      "Processing Record 17 of Set 11 | karpogory\n",
      "Processing Record 18 of Set 11 | natal\n",
      "Processing Record 19 of Set 11 | karaul\n",
      "City not found. Skipping...\n",
      "Processing Record 20 of Set 11 | itamaraca\n",
      "Processing Record 21 of Set 11 | surt\n",
      "Processing Record 22 of Set 11 | batagay\n",
      "Processing Record 23 of Set 11 | vardo\n",
      "Processing Record 24 of Set 11 | maldonado\n",
      "Processing Record 25 of Set 11 | qui nhon\n",
      "Processing Record 26 of Set 11 | port hardy\n",
      "Processing Record 27 of Set 11 | morant bay\n",
      "Processing Record 28 of Set 11 | nara\n",
      "Processing Record 29 of Set 11 | acambaro\n",
      "Processing Record 30 of Set 11 | sentyabrskiy\n",
      "City not found. Skipping...\n",
      "Processing Record 31 of Set 11 | khash\n",
      "Processing Record 32 of Set 11 | alanya\n",
      "Processing Record 33 of Set 11 | rawson\n",
      "Processing Record 34 of Set 11 | liepaja\n",
      "Processing Record 35 of Set 11 | gofitskoye\n",
      "Processing Record 36 of Set 11 | marawi\n",
      "Processing Record 37 of Set 11 | puerto del rosario\n",
      "Processing Record 38 of Set 11 | bolivar\n",
      "Processing Record 39 of Set 11 | port augusta\n",
      "Processing Record 40 of Set 11 | whitehorse\n",
      "Processing Record 41 of Set 11 | mbanza-ngungu\n",
      "Processing Record 42 of Set 11 | nalut\n",
      "Processing Record 43 of Set 11 | maridi\n",
      "Processing Record 44 of Set 11 | salvador\n",
      "Processing Record 45 of Set 11 | kuching\n",
      "Processing Record 46 of Set 11 | burica\n",
      "City not found. Skipping...\n",
      "Processing Record 47 of Set 11 | borogontsy\n",
      "Processing Record 48 of Set 11 | cururupu\n",
      "Processing Record 49 of Set 11 | balurghat\n",
      "Processing Record 50 of Set 11 | ahipara\n",
      "Processing Record 1 of Set 12 | ziro\n",
      "Processing Record 2 of Set 12 | herat\n",
      "Processing Record 3 of Set 12 | faya\n",
      "Processing Record 4 of Set 12 | great falls\n",
      "Processing Record 5 of Set 12 | roald\n",
      "Processing Record 6 of Set 12 | terra santa\n",
      "Processing Record 7 of Set 12 | itupiranga\n",
      "Processing Record 8 of Set 12 | kruglolesskoye\n",
      "Processing Record 9 of Set 12 | khonsa\n",
      "Processing Record 10 of Set 12 | esmeraldas\n",
      "Processing Record 11 of Set 12 | hadejia\n",
      "Processing Record 12 of Set 12 | laguna\n",
      "Processing Record 13 of Set 12 | tuy hoa\n",
      "Processing Record 14 of Set 12 | novo aripuana\n",
      "Processing Record 15 of Set 12 | broome\n",
      "Processing Record 16 of Set 12 | adrar\n",
      "Processing Record 17 of Set 12 | maradi\n",
      "Processing Record 18 of Set 12 | buritizeiro\n",
      "Processing Record 19 of Set 12 | dakar\n",
      "Processing Record 20 of Set 12 | tual\n",
      "Processing Record 21 of Set 12 | alyangula\n"
     ]
    },
    {
     "name": "stdout",
     "output_type": "stream",
     "text": [
      "Processing Record 22 of Set 12 | pacific grove\n",
      "Processing Record 23 of Set 12 | bam\n",
      "Processing Record 24 of Set 12 | baoning\n",
      "Processing Record 25 of Set 12 | wahran\n",
      "City not found. Skipping...\n",
      "Processing Record 26 of Set 12 | kolokani\n",
      "Processing Record 27 of Set 12 | leh\n",
      "Processing Record 28 of Set 12 | maine-soroa\n",
      "Processing Record 29 of Set 12 | singkang\n",
      "Processing Record 30 of Set 12 | zakamensk\n",
      "Processing Record 31 of Set 12 | nadym\n",
      "Processing Record 32 of Set 12 | santo antonio do sudoeste\n",
      "Processing Record 33 of Set 12 | monrovia\n",
      "Processing Record 34 of Set 12 | vangaindrano\n",
      "Processing Record 35 of Set 12 | luanda\n",
      "Processing Record 36 of Set 12 | finschhafen\n",
      "Processing Record 37 of Set 12 | homer\n",
      "Processing Record 38 of Set 12 | rocha\n",
      "Processing Record 39 of Set 12 | necochea\n",
      "Processing Record 40 of Set 12 | yanan\n",
      "City not found. Skipping...\n",
      "Processing Record 41 of Set 12 | hammerfest\n",
      "Processing Record 42 of Set 12 | gucheng\n",
      "Processing Record 43 of Set 12 | tidore\n",
      "City not found. Skipping...\n",
      "Processing Record 44 of Set 12 | pochutla\n",
      "Processing Record 45 of Set 12 | chake chake\n",
      "Processing Record 46 of Set 12 | cairns\n",
      "Processing Record 47 of Set 12 | mehamn\n",
      "Processing Record 48 of Set 12 | fort-shevchenko\n",
      "Processing Record 49 of Set 12 | manzanillo\n",
      "Processing Record 50 of Set 12 | khao yoi\n",
      "Processing Record 1 of Set 13 | marienburg\n",
      "Processing Record 2 of Set 13 | barra patuca\n",
      "Processing Record 3 of Set 13 | harboore\n",
      "Processing Record 4 of Set 13 | tarudant\n",
      "City not found. Skipping...\n",
      "Processing Record 5 of Set 13 | egvekinot\n"
     ]
    }
   ],
   "source": [
    "lat = []\n",
    "lng=[]\n",
    "maxtemp = []\n",
    "humidity=[]\n",
    "cloudiness=[]\n",
    "windspeed=[]\n",
    "country=[]\n",
    "date=[]\n",
    "newcities=[]\n",
    "\n",
    "record=1\n",
    "setcounter=1\n",
    "\n",
    "# Build partial query URL\n",
    "units = \"imperial\"\n",
    "query_url = f\"{url}appid={weather_api_key}&units={units}&q=\"\n",
    "\n",
    "print (\"Beginning Data Retrieval\")     \n",
    "print (\"-----------------------------\")\n",
    "for city in cities:\n",
    "    if record > 50:\n",
    "        setcounter +=1\n",
    "        record = 1\n",
    "    print (f\"Processing Record {record} of Set {setcounter} | {city}\")\n",
    "    record +=1\n",
    "    try:\n",
    "        response = requests.get(query_url + city).json()\n",
    "        lat.append(response['coord']['lat'])\n",
    "        lng.append(response['coord']['lon'])\n",
    "        temp.append(response['main']['temp'])\n",
    "        maxtemp.append(response['main']['temp_max'])\n",
    "        humidity.append(response['main']['humidity'])\n",
    "        cloudiness.append(response['clouds']['all'])\n",
    "        windspeed.append(response['wind']['speed'])\n",
    "        country.append(response['sys']['country'])\n",
    "        date.append(response['dt'])\n",
    "        newcities.append(city)\n",
    "        \n",
    "    except:\n",
    "        print (\"City not found. Skipping...\")                        \n",
    "        pass\n",
    "    \n",
    "\n",
    "    "
   ]
  },
  {
   "cell_type": "code",
   "execution_count": null,
   "metadata": {},
   "outputs": [],
   "source": []
  },
  {
   "cell_type": "code",
   "execution_count": 37,
   "metadata": {},
   "outputs": [
    {
     "data": {
      "text/html": [
       "<div>\n",
       "<style scoped>\n",
       "    .dataframe tbody tr th:only-of-type {\n",
       "        vertical-align: middle;\n",
       "    }\n",
       "\n",
       "    .dataframe tbody tr th {\n",
       "        vertical-align: top;\n",
       "    }\n",
       "\n",
       "    .dataframe thead th {\n",
       "        text-align: right;\n",
       "    }\n",
       "</style>\n",
       "<table border=\"1\" class=\"dataframe\">\n",
       "  <thead>\n",
       "    <tr style=\"text-align: right;\">\n",
       "      <th></th>\n",
       "      <th>City</th>\n",
       "      <th>Latitude</th>\n",
       "      <th>Longitude</th>\n",
       "      <th>Max Temp</th>\n",
       "      <th>Humidity</th>\n",
       "      <th>Cloudiness</th>\n",
       "      <th>Wind Speed</th>\n",
       "      <th>Country</th>\n",
       "      <th>Date</th>\n",
       "    </tr>\n",
       "  </thead>\n",
       "  <tbody>\n",
       "    <tr>\n",
       "      <th>0</th>\n",
       "      <td>hamilton</td>\n",
       "      <td>39.18</td>\n",
       "      <td>-84.53</td>\n",
       "      <td>73.40</td>\n",
       "      <td>94</td>\n",
       "      <td>75</td>\n",
       "      <td>3.36</td>\n",
       "      <td>US</td>\n",
       "      <td>1595441411</td>\n",
       "    </tr>\n",
       "    <tr>\n",
       "      <th>1</th>\n",
       "      <td>merauke</td>\n",
       "      <td>-8.47</td>\n",
       "      <td>140.33</td>\n",
       "      <td>74.21</td>\n",
       "      <td>85</td>\n",
       "      <td>1</td>\n",
       "      <td>12.24</td>\n",
       "      <td>ID</td>\n",
       "      <td>1595441519</td>\n",
       "    </tr>\n",
       "    <tr>\n",
       "      <th>2</th>\n",
       "      <td>bredasdorp</td>\n",
       "      <td>-34.53</td>\n",
       "      <td>20.04</td>\n",
       "      <td>53.60</td>\n",
       "      <td>93</td>\n",
       "      <td>0</td>\n",
       "      <td>1.25</td>\n",
       "      <td>ZA</td>\n",
       "      <td>1595441099</td>\n",
       "    </tr>\n",
       "    <tr>\n",
       "      <th>3</th>\n",
       "      <td>jamestown</td>\n",
       "      <td>42.10</td>\n",
       "      <td>-79.24</td>\n",
       "      <td>80.01</td>\n",
       "      <td>73</td>\n",
       "      <td>75</td>\n",
       "      <td>11.41</td>\n",
       "      <td>US</td>\n",
       "      <td>1595441505</td>\n",
       "    </tr>\n",
       "    <tr>\n",
       "      <th>4</th>\n",
       "      <td>yatou</td>\n",
       "      <td>37.15</td>\n",
       "      <td>122.38</td>\n",
       "      <td>70.83</td>\n",
       "      <td>97</td>\n",
       "      <td>100</td>\n",
       "      <td>11.65</td>\n",
       "      <td>CN</td>\n",
       "      <td>1595441519</td>\n",
       "    </tr>\n",
       "    <tr>\n",
       "      <th>...</th>\n",
       "      <td>...</td>\n",
       "      <td>...</td>\n",
       "      <td>...</td>\n",
       "      <td>...</td>\n",
       "      <td>...</td>\n",
       "      <td>...</td>\n",
       "      <td>...</td>\n",
       "      <td>...</td>\n",
       "      <td>...</td>\n",
       "    </tr>\n",
       "    <tr>\n",
       "      <th>554</th>\n",
       "      <td>khao yoi</td>\n",
       "      <td>13.24</td>\n",
       "      <td>99.82</td>\n",
       "      <td>80.01</td>\n",
       "      <td>82</td>\n",
       "      <td>95</td>\n",
       "      <td>4.50</td>\n",
       "      <td>TH</td>\n",
       "      <td>1595441464</td>\n",
       "    </tr>\n",
       "    <tr>\n",
       "      <th>555</th>\n",
       "      <td>marienburg</td>\n",
       "      <td>54.04</td>\n",
       "      <td>19.03</td>\n",
       "      <td>66.00</td>\n",
       "      <td>51</td>\n",
       "      <td>18</td>\n",
       "      <td>17.22</td>\n",
       "      <td>PL</td>\n",
       "      <td>1595441464</td>\n",
       "    </tr>\n",
       "    <tr>\n",
       "      <th>556</th>\n",
       "      <td>barra patuca</td>\n",
       "      <td>15.80</td>\n",
       "      <td>-84.28</td>\n",
       "      <td>86.74</td>\n",
       "      <td>69</td>\n",
       "      <td>89</td>\n",
       "      <td>9.80</td>\n",
       "      <td>HN</td>\n",
       "      <td>1595441464</td>\n",
       "    </tr>\n",
       "    <tr>\n",
       "      <th>557</th>\n",
       "      <td>harboore</td>\n",
       "      <td>56.62</td>\n",
       "      <td>8.18</td>\n",
       "      <td>60.01</td>\n",
       "      <td>75</td>\n",
       "      <td>86</td>\n",
       "      <td>1.01</td>\n",
       "      <td>DK</td>\n",
       "      <td>1595441464</td>\n",
       "    </tr>\n",
       "    <tr>\n",
       "      <th>558</th>\n",
       "      <td>egvekinot</td>\n",
       "      <td>66.32</td>\n",
       "      <td>-179.17</td>\n",
       "      <td>52.20</td>\n",
       "      <td>64</td>\n",
       "      <td>11</td>\n",
       "      <td>2.24</td>\n",
       "      <td>RU</td>\n",
       "      <td>1595441465</td>\n",
       "    </tr>\n",
       "  </tbody>\n",
       "</table>\n",
       "<p>559 rows × 9 columns</p>\n",
       "</div>"
      ],
      "text/plain": [
       "             City  Latitude  Longitude  Max Temp  Humidity  Cloudiness  \\\n",
       "0        hamilton     39.18     -84.53     73.40        94          75   \n",
       "1         merauke     -8.47     140.33     74.21        85           1   \n",
       "2      bredasdorp    -34.53      20.04     53.60        93           0   \n",
       "3       jamestown     42.10     -79.24     80.01        73          75   \n",
       "4           yatou     37.15     122.38     70.83        97         100   \n",
       "..            ...       ...        ...       ...       ...         ...   \n",
       "554      khao yoi     13.24      99.82     80.01        82          95   \n",
       "555    marienburg     54.04      19.03     66.00        51          18   \n",
       "556  barra patuca     15.80     -84.28     86.74        69          89   \n",
       "557      harboore     56.62       8.18     60.01        75          86   \n",
       "558     egvekinot     66.32    -179.17     52.20        64          11   \n",
       "\n",
       "     Wind Speed Country        Date  \n",
       "0          3.36      US  1595441411  \n",
       "1         12.24      ID  1595441519  \n",
       "2          1.25      ZA  1595441099  \n",
       "3         11.41      US  1595441505  \n",
       "4         11.65      CN  1595441519  \n",
       "..          ...     ...         ...  \n",
       "554        4.50      TH  1595441464  \n",
       "555       17.22      PL  1595441464  \n",
       "556        9.80      HN  1595441464  \n",
       "557        1.01      DK  1595441464  \n",
       "558        2.24      RU  1595441465  \n",
       "\n",
       "[559 rows x 9 columns]"
      ]
     },
     "execution_count": 37,
     "metadata": {},
     "output_type": "execute_result"
    }
   ],
   "source": [
    "\n",
    "weatherdf=pd.DataFrame({\"City\":newcities,\n",
    "              \"Latitude\":lat,\n",
    "              'Longitude':lng,\n",
    "            \"Max Temp\": maxtemp,\n",
    "             'Humidity': humidity,\n",
    "             'Cloudiness': cloudiness,\n",
    "             \"Wind Speed\": windspeed,\n",
    "             \"Country\": country,\n",
    "             \"Date\": date})\n",
    "weatherdf"
   ]
  },
  {
   "cell_type": "markdown",
   "metadata": {},
   "source": [
    "### Convert Raw Data to DataFrame\n",
    "* Export the city data into a .csv.\n",
    "* Display the DataFrame"
   ]
  },
  {
   "cell_type": "code",
   "execution_count": 38,
   "metadata": {},
   "outputs": [
    {
     "data": {
      "text/plain": [
       "City          559\n",
       "Latitude      559\n",
       "Longitude     559\n",
       "Max Temp      559\n",
       "Humidity      559\n",
       "Cloudiness    559\n",
       "Wind Speed    559\n",
       "Country       559\n",
       "Date          559\n",
       "dtype: int64"
      ]
     },
     "execution_count": 38,
     "metadata": {},
     "output_type": "execute_result"
    }
   ],
   "source": [
    "weatherdf.count()"
   ]
  },
  {
   "cell_type": "markdown",
   "metadata": {},
   "source": [
    "## Inspect the data and remove the cities where the humidity > 100%.\n",
    "----\n",
    "Skip this step if there are no cities that have humidity > 100%. "
   ]
  },
  {
   "cell_type": "code",
   "execution_count": 39,
   "metadata": {},
   "outputs": [
    {
     "data": {
      "text/html": [
       "<div>\n",
       "<style scoped>\n",
       "    .dataframe tbody tr th:only-of-type {\n",
       "        vertical-align: middle;\n",
       "    }\n",
       "\n",
       "    .dataframe tbody tr th {\n",
       "        vertical-align: top;\n",
       "    }\n",
       "\n",
       "    .dataframe thead th {\n",
       "        text-align: right;\n",
       "    }\n",
       "</style>\n",
       "<table border=\"1\" class=\"dataframe\">\n",
       "  <thead>\n",
       "    <tr style=\"text-align: right;\">\n",
       "      <th></th>\n",
       "      <th>Latitude</th>\n",
       "      <th>Longitude</th>\n",
       "      <th>Max Temp</th>\n",
       "      <th>Humidity</th>\n",
       "      <th>Cloudiness</th>\n",
       "      <th>Wind Speed</th>\n",
       "      <th>Date</th>\n",
       "    </tr>\n",
       "  </thead>\n",
       "  <tbody>\n",
       "    <tr>\n",
       "      <th>count</th>\n",
       "      <td>559.000000</td>\n",
       "      <td>559.000000</td>\n",
       "      <td>559.000000</td>\n",
       "      <td>559.000000</td>\n",
       "      <td>559.000000</td>\n",
       "      <td>559.000000</td>\n",
       "      <td>5.590000e+02</td>\n",
       "    </tr>\n",
       "    <tr>\n",
       "      <th>mean</th>\n",
       "      <td>20.573685</td>\n",
       "      <td>16.798998</td>\n",
       "      <td>71.587639</td>\n",
       "      <td>67.885510</td>\n",
       "      <td>51.491950</td>\n",
       "      <td>8.136261</td>\n",
       "      <td>1.595441e+09</td>\n",
       "    </tr>\n",
       "    <tr>\n",
       "      <th>std</th>\n",
       "      <td>32.508740</td>\n",
       "      <td>89.825309</td>\n",
       "      <td>14.252974</td>\n",
       "      <td>20.448584</td>\n",
       "      <td>36.471812</td>\n",
       "      <td>5.375107</td>\n",
       "      <td>8.298228e+01</td>\n",
       "    </tr>\n",
       "    <tr>\n",
       "      <th>min</th>\n",
       "      <td>-54.800000</td>\n",
       "      <td>-179.170000</td>\n",
       "      <td>28.000000</td>\n",
       "      <td>3.000000</td>\n",
       "      <td>0.000000</td>\n",
       "      <td>0.760000</td>\n",
       "      <td>1.595441e+09</td>\n",
       "    </tr>\n",
       "    <tr>\n",
       "      <th>25%</th>\n",
       "      <td>-5.335000</td>\n",
       "      <td>-60.525000</td>\n",
       "      <td>60.810000</td>\n",
       "      <td>56.000000</td>\n",
       "      <td>16.000000</td>\n",
       "      <td>4.470000</td>\n",
       "      <td>1.595441e+09</td>\n",
       "    </tr>\n",
       "    <tr>\n",
       "      <th>50%</th>\n",
       "      <td>22.690000</td>\n",
       "      <td>21.850000</td>\n",
       "      <td>73.400000</td>\n",
       "      <td>72.000000</td>\n",
       "      <td>56.000000</td>\n",
       "      <td>6.930000</td>\n",
       "      <td>1.595441e+09</td>\n",
       "    </tr>\n",
       "    <tr>\n",
       "      <th>75%</th>\n",
       "      <td>47.585000</td>\n",
       "      <td>97.325000</td>\n",
       "      <td>82.400000</td>\n",
       "      <td>83.000000</td>\n",
       "      <td>85.000000</td>\n",
       "      <td>11.140000</td>\n",
       "      <td>1.595441e+09</td>\n",
       "    </tr>\n",
       "    <tr>\n",
       "      <th>max</th>\n",
       "      <td>78.220000</td>\n",
       "      <td>179.320000</td>\n",
       "      <td>110.500000</td>\n",
       "      <td>100.000000</td>\n",
       "      <td>100.000000</td>\n",
       "      <td>32.210000</td>\n",
       "      <td>1.595442e+09</td>\n",
       "    </tr>\n",
       "  </tbody>\n",
       "</table>\n",
       "</div>"
      ],
      "text/plain": [
       "         Latitude   Longitude    Max Temp    Humidity  Cloudiness  Wind Speed  \\\n",
       "count  559.000000  559.000000  559.000000  559.000000  559.000000  559.000000   \n",
       "mean    20.573685   16.798998   71.587639   67.885510   51.491950    8.136261   \n",
       "std     32.508740   89.825309   14.252974   20.448584   36.471812    5.375107   \n",
       "min    -54.800000 -179.170000   28.000000    3.000000    0.000000    0.760000   \n",
       "25%     -5.335000  -60.525000   60.810000   56.000000   16.000000    4.470000   \n",
       "50%     22.690000   21.850000   73.400000   72.000000   56.000000    6.930000   \n",
       "75%     47.585000   97.325000   82.400000   83.000000   85.000000   11.140000   \n",
       "max     78.220000  179.320000  110.500000  100.000000  100.000000   32.210000   \n",
       "\n",
       "               Date  \n",
       "count  5.590000e+02  \n",
       "mean   1.595441e+09  \n",
       "std    8.298228e+01  \n",
       "min    1.595441e+09  \n",
       "25%    1.595441e+09  \n",
       "50%    1.595441e+09  \n",
       "75%    1.595441e+09  \n",
       "max    1.595442e+09  "
      ]
     },
     "execution_count": 39,
     "metadata": {},
     "output_type": "execute_result"
    }
   ],
   "source": [
    "weatherdf.describe()"
   ]
  },
  {
   "cell_type": "code",
   "execution_count": 7,
   "metadata": {},
   "outputs": [
    {
     "data": {
      "text/plain": [
       "Int64Index([], dtype='int64')"
      ]
     },
     "execution_count": 7,
     "metadata": {},
     "output_type": "execute_result"
    }
   ],
   "source": [
    "#  Get the indices of cities that have humidity over 100%.\n"
   ]
  },
  {
   "cell_type": "code",
   "execution_count": 8,
   "metadata": {},
   "outputs": [
    {
     "data": {
      "text/html": [
       "<div>\n",
       "<style scoped>\n",
       "    .dataframe tbody tr th:only-of-type {\n",
       "        vertical-align: middle;\n",
       "    }\n",
       "\n",
       "    .dataframe tbody tr th {\n",
       "        vertical-align: top;\n",
       "    }\n",
       "\n",
       "    .dataframe thead th {\n",
       "        text-align: right;\n",
       "    }\n",
       "</style>\n",
       "<table border=\"1\" class=\"dataframe\">\n",
       "  <thead>\n",
       "    <tr style=\"text-align: right;\">\n",
       "      <th></th>\n",
       "      <th>City</th>\n",
       "      <th>Lat</th>\n",
       "      <th>Lng</th>\n",
       "      <th>Max Temp</th>\n",
       "      <th>Humidity</th>\n",
       "      <th>Cloudiness</th>\n",
       "      <th>Wind Speed</th>\n",
       "      <th>Country</th>\n",
       "      <th>Date</th>\n",
       "    </tr>\n",
       "  </thead>\n",
       "  <tbody>\n",
       "    <tr>\n",
       "      <th>0</th>\n",
       "      <td>pimentel</td>\n",
       "      <td>-6.84</td>\n",
       "      <td>-79.93</td>\n",
       "      <td>66.20</td>\n",
       "      <td>29</td>\n",
       "      <td>75</td>\n",
       "      <td>5.82</td>\n",
       "      <td>PE</td>\n",
       "      <td>1585764415</td>\n",
       "    </tr>\n",
       "    <tr>\n",
       "      <th>1</th>\n",
       "      <td>victoria</td>\n",
       "      <td>22.29</td>\n",
       "      <td>114.16</td>\n",
       "      <td>69.01</td>\n",
       "      <td>88</td>\n",
       "      <td>40</td>\n",
       "      <td>18.34</td>\n",
       "      <td>HK</td>\n",
       "      <td>1585764288</td>\n",
       "    </tr>\n",
       "    <tr>\n",
       "      <th>2</th>\n",
       "      <td>padang</td>\n",
       "      <td>-0.95</td>\n",
       "      <td>100.35</td>\n",
       "      <td>79.90</td>\n",
       "      <td>75</td>\n",
       "      <td>99</td>\n",
       "      <td>1.63</td>\n",
       "      <td>ID</td>\n",
       "      <td>1585764115</td>\n",
       "    </tr>\n",
       "    <tr>\n",
       "      <th>3</th>\n",
       "      <td>hasaki</td>\n",
       "      <td>35.73</td>\n",
       "      <td>140.83</td>\n",
       "      <td>55.00</td>\n",
       "      <td>100</td>\n",
       "      <td>75</td>\n",
       "      <td>4.70</td>\n",
       "      <td>JP</td>\n",
       "      <td>1585764415</td>\n",
       "    </tr>\n",
       "    <tr>\n",
       "      <th>4</th>\n",
       "      <td>kahului</td>\n",
       "      <td>20.89</td>\n",
       "      <td>-156.47</td>\n",
       "      <td>70.00</td>\n",
       "      <td>88</td>\n",
       "      <td>1</td>\n",
       "      <td>7.63</td>\n",
       "      <td>US</td>\n",
       "      <td>1585764415</td>\n",
       "    </tr>\n",
       "  </tbody>\n",
       "</table>\n",
       "</div>"
      ],
      "text/plain": [
       "       City    Lat     Lng  Max Temp  Humidity  Cloudiness  Wind Speed  \\\n",
       "0  pimentel  -6.84  -79.93     66.20        29          75        5.82   \n",
       "1  victoria  22.29  114.16     69.01        88          40       18.34   \n",
       "2    padang  -0.95  100.35     79.90        75          99        1.63   \n",
       "3    hasaki  35.73  140.83     55.00       100          75        4.70   \n",
       "4   kahului  20.89 -156.47     70.00        88           1        7.63   \n",
       "\n",
       "  Country        Date  \n",
       "0      PE  1585764415  \n",
       "1      HK  1585764288  \n",
       "2      ID  1585764115  \n",
       "3      JP  1585764415  \n",
       "4      US  1585764415  "
      ]
     },
     "execution_count": 8,
     "metadata": {},
     "output_type": "execute_result"
    }
   ],
   "source": [
    "# Make a new DataFrame equal to the city data to drop all humidity outliers by index.\n",
    "# Passing \"inplace=False\" will make a copy of the city_data DataFrame, which we call \"clean_city_data\".\n"
   ]
  },
  {
   "cell_type": "code",
   "execution_count": 9,
   "metadata": {},
   "outputs": [],
   "source": [
    "# Extract relevant fields from the data frame\n",
    "\n",
    "\n",
    "# Export the City_Data into a csv\n"
   ]
  },
  {
   "cell_type": "markdown",
   "metadata": {},
   "source": [
    "## Plotting the Data\n",
    "* Use proper labeling of the plots using plot titles (including date of analysis) and axes labels.\n",
    "* Save the plotted figures as .pngs."
   ]
  },
  {
   "cell_type": "markdown",
   "metadata": {},
   "source": [
    "## Latitude vs. Temperature Plot"
   ]
  },
  {
   "cell_type": "code",
   "execution_count": 62,
   "metadata": {},
   "outputs": [
    {
     "data": {
      "image/png": "[encoded data removed]",
      "text/plain": [
       "<Figure size 432x288 with 1 Axes>"
      ]
     },
     "metadata": {
      "needs_background": "light"
     },
     "output_type": "display_data"
    }
   ],
   "source": [
    "plt.scatter(x=weatherdf['Latitude'], y=weatherdf['Max Temp'])\n",
    "plt.xlabel('Latitude')\n",
    "plt.ylabel('Max Temperature')\n",
    "plt.grid()\n",
    "plt.title('City Latitude vs. Max Temperature (F)')\n",
    "plt.show()\n",
    "\n"
   ]
  },
  {
   "cell_type": "markdown",
   "metadata": {},
   "source": [
    "## Latitude vs. Humidity Plot"
   ]
  },
  {
   "cell_type": "code",
   "execution_count": 61,
   "metadata": {},
   "outputs": [
    {
     "data": {
      "image/png": "[encoded data removed]",
      "text/plain": [
       "<Figure size 432x288 with 1 Axes>"
      ]
     },
     "metadata": {
      "needs_background": "light"
     },
     "output_type": "display_data"
    }
   ],
   "source": [
    "plt.scatter(x=weatherdf['Latitude'], y=weatherdf['Humidity'])\n",
    "plt.xlabel('Latitude')\n",
    "plt.ylabel('Humidity')\n",
    "plt.title('City Latitude vs. Humidity (%)')\n",
    "plt.grid()\n",
    "plt.show()"
   ]
  },
  {
   "cell_type": "markdown",
   "metadata": {},
   "source": [
    "## Latitude vs. Cloudiness Plot"
   ]
  },
  {
   "cell_type": "code",
   "execution_count": 59,
   "metadata": {},
   "outputs": [
    {
     "data": {
      "image/png": "[encoded data removed]",
      "text/plain": [
       "<Figure size 432x288 with 1 Axes>"
      ]
     },
     "metadata": {
      "needs_background": "light"
     },
     "output_type": "display_data"
    }
   ],
   "source": [
    "plt.scatter(x=weatherdf['Latitude'], y=weatherdf['Cloudiness'])\n",
    "plt.xlabel('Latitude')\n",
    "plt.ylabel('Cloudiness')\n",
    "plt.title('City Latitude vs. Cloudiness (%)')\n",
    "plt.grid()\n",
    "plt.show()\n",
    "\n",
    "plt.show()"
   ]
  },
  {
   "cell_type": "markdown",
   "metadata": {},
   "source": [
    "## Latitude vs. Wind Speed Plot"
   ]
  },
  {
   "cell_type": "code",
   "execution_count": 60,
   "metadata": {},
   "outputs": [
    {
     "data": {
      "image/png": "[encoded data removed]",
      "text/plain": [
       "<Figure size 432x288 with 1 Axes>"
      ]
     },
     "metadata": {
      "needs_background": "light"
     },
     "output_type": "display_data"
    }
   ],
   "source": [
    "plt.scatter(x=weatherdf['Latitude'], y=weatherdf['Wind Speed'])\n",
    "plt.xlabel('Latitude')\n",
    "plt.ylabel('Wind Speed')\n",
    "plt.title('City Latitude vs. Wind Speed (mph)')\n",
    "plt.grid()\n",
    "plt.show()"
   ]
  },
  {
   "cell_type": "markdown",
   "metadata": {},
   "source": [
    "## Linear Regression"
   ]
  },
  {
   "cell_type": "code",
   "execution_count": null,
   "metadata": {},
   "outputs": [],
   "source": [
    "# Define function for creating linear agression and scatter plot\n",
    "(slope, intercept, rvalue, pvalue, stderr) = linregress(x_values, y_values)\n",
    "regress_values = x_values * slope + intercept\n",
    "line_eq = \"y = \" + str(round(slope,2)) + \"x + \" + str(round(intercept,2))\n",
    "# plt.scatter(x_values,y_values)\n",
    "# plt.plot(x_values,regress_values,\"r-\")\n",
    "# plt.annotate(line_eq,(6,10),fontsize=15,color=\"red\")"
   ]
  },
  {
   "cell_type": "code",
   "execution_count": 88,
   "metadata": {},
   "outputs": [
    {
     "data": {
      "text/plain": [
       "'y = -0.03x + 72.13'"
      ]
     },
     "execution_count": 88,
     "metadata": {},
     "output_type": "execute_result"
    }
   ],
   "source": [
    "# OPTIONAL: Create a function to create Linear Regression plots\n",
    "def linear_agression(x,y):\n",
    "    print(f\"The r-squared is : {rvalue**2}\")\n",
    "    (slope, intercept, rvalue, pvalue, stderr) = linregress(x, y)\n",
    "    regress_values = x * slope + intercept\n",
    "    line_eq = \"y = \" + str(round(slope,2)) + \"x + \" + str(round(intercept,2))\n",
    "    plt.scatter(x, y)\n",
    "    plt.plot(x,regress_values,\"r-\")\n",
    "    return line_eq\n",
    "                       \n",
    "line_eq"
   ]
  },
  {
   "cell_type": "code",
   "execution_count": 94,
   "metadata": {},
   "outputs": [],
   "source": [
    "# Create Northern and Southern Hemisphere DataFrames\n",
    "nhem = weatherdf.loc[weatherdf[\"Latitude\"] >= 0]\n",
    "shem = weatherdf.loc[weatherdf[\"Latitude\"] < 0]\n",
    "\n"
   ]
  },
  {
   "cell_type": "markdown",
   "metadata": {},
   "source": [
    "####  Northern Hemisphere - Max Temp vs. Latitude Linear Regression"
   ]
  },
  {
   "cell_type": "code",
   "execution_count": 97,
   "metadata": {},
   "outputs": [
    {
     "ename": "ValueError",
     "evalue": "all the input array dimensions for the concatenation axis must match exactly, but along dimension 1, the array at index 0 has size 392 and the array at index 1 has size 167",
     "output_type": "error",
     "traceback": [
      "\u001b[0;31m---------------------------------------------------------------------------\u001b[0m",
      "\u001b[0;31mValueError\u001b[0m                                Traceback (most recent call last)",
      "\u001b[0;32m<ipython-input-97-236feff1a7bd>\u001b[0m in \u001b[0;36m<module>\u001b[0;34m\u001b[0m\n\u001b[1;32m      1\u001b[0m \u001b[0mx_values\u001b[0m \u001b[0;34m=\u001b[0m \u001b[0mnhem\u001b[0m\u001b[0;34m[\u001b[0m\u001b[0;34m'Latitude'\u001b[0m\u001b[0;34m]\u001b[0m\u001b[0;34m\u001b[0m\u001b[0;34m\u001b[0m\u001b[0m\n\u001b[1;32m      2\u001b[0m \u001b[0my_values\u001b[0m \u001b[0;34m=\u001b[0m \u001b[0mshem\u001b[0m\u001b[0;34m[\u001b[0m\u001b[0;34m'Max Temp'\u001b[0m\u001b[0;34m]\u001b[0m\u001b[0;34m\u001b[0m\u001b[0;34m\u001b[0m\u001b[0m\n\u001b[0;32m----> 3\u001b[0;31m \u001b[0;34m(\u001b[0m\u001b[0mslope\u001b[0m\u001b[0;34m,\u001b[0m \u001b[0mintercept\u001b[0m\u001b[0;34m,\u001b[0m \u001b[0mrvalue\u001b[0m\u001b[0;34m,\u001b[0m \u001b[0mpvalue\u001b[0m\u001b[0;34m,\u001b[0m \u001b[0mstderr\u001b[0m\u001b[0;34m)\u001b[0m \u001b[0;34m=\u001b[0m \u001b[0mlinregress\u001b[0m\u001b[0;34m(\u001b[0m\u001b[0mx_values\u001b[0m\u001b[0;34m,\u001b[0m \u001b[0my_values\u001b[0m\u001b[0;34m)\u001b[0m\u001b[0;34m\u001b[0m\u001b[0;34m\u001b[0m\u001b[0m\n\u001b[0m\u001b[1;32m      4\u001b[0m \u001b[0mregress_values\u001b[0m \u001b[0;34m=\u001b[0m \u001b[0mx_values\u001b[0m \u001b[0;34m*\u001b[0m \u001b[0mslope\u001b[0m \u001b[0;34m+\u001b[0m \u001b[0mintercept\u001b[0m\u001b[0;34m\u001b[0m\u001b[0;34m\u001b[0m\u001b[0m\n\u001b[1;32m      5\u001b[0m \u001b[0mline_eq\u001b[0m \u001b[0;34m=\u001b[0m \u001b[0;34m\"y = \"\u001b[0m \u001b[0;34m+\u001b[0m \u001b[0mstr\u001b[0m\u001b[0;34m(\u001b[0m\u001b[0mround\u001b[0m\u001b[0;34m(\u001b[0m\u001b[0mslope\u001b[0m\u001b[0;34m,\u001b[0m\u001b[0;36m2\u001b[0m\u001b[0;34m)\u001b[0m\u001b[0;34m)\u001b[0m \u001b[0;34m+\u001b[0m \u001b[0;34m\"x + \"\u001b[0m \u001b[0;34m+\u001b[0m \u001b[0mstr\u001b[0m\u001b[0;34m(\u001b[0m\u001b[0mround\u001b[0m\u001b[0;34m(\u001b[0m\u001b[0mintercept\u001b[0m\u001b[0;34m,\u001b[0m\u001b[0;36m2\u001b[0m\u001b[0;34m)\u001b[0m\u001b[0;34m)\u001b[0m\u001b[0;34m\u001b[0m\u001b[0;34m\u001b[0m\u001b[0m\n",
      "\u001b[0;32m~/opt/anaconda3/lib/python3.7/site-packages/scipy/stats/_stats_mstats_common.py\u001b[0m in \u001b[0;36mlinregress\u001b[0;34m(x, y)\u001b[0m\n\u001b[1;32m    114\u001b[0m \u001b[0;34m\u001b[0m\u001b[0m\n\u001b[1;32m    115\u001b[0m     \u001b[0;31m# average sum of squares:\u001b[0m\u001b[0;34m\u001b[0m\u001b[0;34m\u001b[0m\u001b[0;34m\u001b[0m\u001b[0m\n\u001b[0;32m--> 116\u001b[0;31m     \u001b[0mssxm\u001b[0m\u001b[0;34m,\u001b[0m \u001b[0mssxym\u001b[0m\u001b[0;34m,\u001b[0m \u001b[0mssyxm\u001b[0m\u001b[0;34m,\u001b[0m \u001b[0mssym\u001b[0m \u001b[0;34m=\u001b[0m \u001b[0mnp\u001b[0m\u001b[0;34m.\u001b[0m\u001b[0mcov\u001b[0m\u001b[0;34m(\u001b[0m\u001b[0mx\u001b[0m\u001b[0;34m,\u001b[0m \u001b[0my\u001b[0m\u001b[0;34m,\u001b[0m \u001b[0mbias\u001b[0m\u001b[0;34m=\u001b[0m\u001b[0;36m1\u001b[0m\u001b[0;34m)\u001b[0m\u001b[0;34m.\u001b[0m\u001b[0mflat\u001b[0m\u001b[0;34m\u001b[0m\u001b[0;34m\u001b[0m\u001b[0m\n\u001b[0m\u001b[1;32m    117\u001b[0m     \u001b[0mr_num\u001b[0m \u001b[0;34m=\u001b[0m \u001b[0mssxym\u001b[0m\u001b[0;34m\u001b[0m\u001b[0;34m\u001b[0m\u001b[0m\n\u001b[1;32m    118\u001b[0m     \u001b[0mr_den\u001b[0m \u001b[0;34m=\u001b[0m \u001b[0mnp\u001b[0m\u001b[0;34m.\u001b[0m\u001b[0msqrt\u001b[0m\u001b[0;34m(\u001b[0m\u001b[0mssxm\u001b[0m \u001b[0;34m*\u001b[0m \u001b[0mssym\u001b[0m\u001b[0;34m)\u001b[0m\u001b[0;34m\u001b[0m\u001b[0;34m\u001b[0m\u001b[0m\n",
      "\u001b[0;32m<__array_function__ internals>\u001b[0m in \u001b[0;36mcov\u001b[0;34m(*args, **kwargs)\u001b[0m\n",
      "\u001b[0;32m~/opt/anaconda3/lib/python3.7/site-packages/numpy/lib/function_base.py\u001b[0m in \u001b[0;36mcov\u001b[0;34m(m, y, rowvar, bias, ddof, fweights, aweights)\u001b[0m\n\u001b[1;32m   2388\u001b[0m         \u001b[0;32mif\u001b[0m \u001b[0;32mnot\u001b[0m \u001b[0mrowvar\u001b[0m \u001b[0;32mand\u001b[0m \u001b[0my\u001b[0m\u001b[0;34m.\u001b[0m\u001b[0mshape\u001b[0m\u001b[0;34m[\u001b[0m\u001b[0;36m0\u001b[0m\u001b[0;34m]\u001b[0m \u001b[0;34m!=\u001b[0m \u001b[0;36m1\u001b[0m\u001b[0;34m:\u001b[0m\u001b[0;34m\u001b[0m\u001b[0;34m\u001b[0m\u001b[0m\n\u001b[1;32m   2389\u001b[0m             \u001b[0my\u001b[0m \u001b[0;34m=\u001b[0m \u001b[0my\u001b[0m\u001b[0;34m.\u001b[0m\u001b[0mT\u001b[0m\u001b[0;34m\u001b[0m\u001b[0;34m\u001b[0m\u001b[0m\n\u001b[0;32m-> 2390\u001b[0;31m         \u001b[0mX\u001b[0m \u001b[0;34m=\u001b[0m \u001b[0mnp\u001b[0m\u001b[0;34m.\u001b[0m\u001b[0mconcatenate\u001b[0m\u001b[0;34m(\u001b[0m\u001b[0;34m(\u001b[0m\u001b[0mX\u001b[0m\u001b[0;34m,\u001b[0m \u001b[0my\u001b[0m\u001b[0;34m)\u001b[0m\u001b[0;34m,\u001b[0m \u001b[0maxis\u001b[0m\u001b[0;34m=\u001b[0m\u001b[0;36m0\u001b[0m\u001b[0;34m)\u001b[0m\u001b[0;34m\u001b[0m\u001b[0;34m\u001b[0m\u001b[0m\n\u001b[0m\u001b[1;32m   2391\u001b[0m \u001b[0;34m\u001b[0m\u001b[0m\n\u001b[1;32m   2392\u001b[0m     \u001b[0;32mif\u001b[0m \u001b[0mddof\u001b[0m \u001b[0;32mis\u001b[0m \u001b[0;32mNone\u001b[0m\u001b[0;34m:\u001b[0m\u001b[0;34m\u001b[0m\u001b[0;34m\u001b[0m\u001b[0m\n",
      "\u001b[0;32m<__array_function__ internals>\u001b[0m in \u001b[0;36mconcatenate\u001b[0;34m(*args, **kwargs)\u001b[0m\n",
      "\u001b[0;31mValueError\u001b[0m: all the input array dimensions for the concatenation axis must match exactly, but along dimension 1, the array at index 0 has size 392 and the array at index 1 has size 167"
     ]
    }
   ],
   "source": [
    "x_values = nhem['Latitude']\n",
    "y_values = shem['Max Temp']\n",
    "(slope, intercept, rvalue, pvalue, stderr) = linregress(x_values, y_values)\n",
    "regress_values = x_values * slope + intercept\n",
    "line_eq = \"y = \" + str(round(slope,2)) + \"x + \" + str(round(intercept,2))\n",
    "plt.scatter(x_values,y_values)\n",
    "plt.plot(x_values,regress_values,\"r-\")\n",
    "plt.annotate(line_eq,(6,10),fontsize=15,color=\"red\")\n",
    "plt.xlabel('Rooms in House')\n",
    "plt.ylabel('Median House Prices ($1000)')\n",
    "plt.show()"
   ]
  },
  {
   "cell_type": "code",
   "execution_count": 16,
   "metadata": {},
   "outputs": [
    {
     "name": "stdout",
     "output_type": "stream",
     "text": [
      "The r-squared is: 0.8271188905041935\n"
     ]
    },
    {
     "data": {
      "image/png": "[encoded data removed]",
      "text/plain": [
       "<Figure size 432x288 with 1 Axes>"
      ]
     },
     "metadata": {
      "needs_background": "light"
     },
     "output_type": "display_data"
    }
   ],
   "source": []
  },
  {
   "cell_type": "markdown",
   "metadata": {},
   "source": [
    "####  Southern Hemisphere - Max Temp vs. Latitude Linear Regression"
   ]
  },
  {
   "cell_type": "code",
   "execution_count": 17,
   "metadata": {},
   "outputs": [
    {
     "name": "stdout",
     "output_type": "stream",
     "text": [
      "The r-squared is: 0.39936284758885965\n"
     ]
    },
    {
     "data": {
      "image/png": "[encoded data removed]",
      "text/plain": [
       "<Figure size 432x288 with 1 Axes>"
      ]
     },
     "metadata": {
      "needs_background": "light"
     },
     "output_type": "display_data"
    }
   ],
   "source": []
  },
  {
   "cell_type": "code",
   "execution_count": 64,
   "metadata": {},
   "outputs": [],
   "source": [
    "x_values = weatherdf['Latitude']\n",
    "y_values = weatherdf['Max Temp']"
   ]
  },
  {
   "cell_type": "code",
   "execution_count": 70,
   "metadata": {},
   "outputs": [
    {
     "data": {
      "text/plain": [
       "array([ 39.18,  -8.47, -34.53,  42.1 ,  37.15, -21.2 ,  53.19,  24.8 ,\n",
       "        15.  ,  36.19,  70.86,  19.73,  18.42,  66.97,  13.91,  18.8 ,\n",
       "        37.73, -46.6 ,  -9.8 ,  71.92,   8.2 , -20.33,   2.18,  -0.74,\n",
       "       -34.05, -20.41,  66.04,  23.42,  39.95, -13.2 ,  14.51,  22.29,\n",
       "       -33.65, -54.8 ,  62.46, -15.2 , -42.88,  17.98,  50.84, -42.78,\n",
       "        50.68,  39.36,  64.84,  48.81,  14.72,   9.23,  57.79,  43.52,\n",
       "        40.81,  -4.06, -34.  ,  32.76,  -0.95,  40.16, -23.12,  65.61,\n",
       "        69.45, -38.95,  -2.67, -53.15, -46.28,  -0.6 ,  45.2 ,  22.08,\n",
       "         3.07, -41.87,  37.72, -20.02,  -3.8 ,   3.38,  70.63,  65.85,\n",
       "        69.38,  38.52,  51.92,  41.79,  20.89,  63.75,  -2.65,  65.28,\n",
       "        61.16,  62.72,  59.7 , -21.36,  42.6 ,  38.69,   3.94,   4.14,\n",
       "        27.98, -33.93, -46.19,   5.41,  10.57,  63.05,  24.86, -24.87,\n",
       "        61.28,  -5.81, -20.34,  69.7 ,  59.63,  66.77,  -3.67,  60.14,\n",
       "        60.42, -34.42, -33.87,  40.8 , -13.7 , -33.46, -24.79,  42.16,\n",
       "        77.48,  37.1 ,  44.65,  47.67,  50.8 ,  66.69,  -5.42, -33.7 ,\n",
       "        44.3 ,  -0.67,  44.67,  21.46,  17.02,  62.22,  41.54,  37.63,\n",
       "        71.97,  18.98,  -6.21,  62.23,  33.64, -29.68,  41.37,  11.67,\n",
       "        45.3 ,  32.14,  71.69,  19.89,  34.64,  52.45, -33.04, -20.52,\n",
       "        20.42,  31.58,  66.42, -22.97, -23.32,  48.59,  45.41,  60.92,\n",
       "       -12.15,  35.73,  36.75,  -9.77,  24.67,  -2.57,  73.51,  46.43,\n",
       "        18.53, -20.21, -28.77,  38.5 ,  51.32,  68.05,  57.05, -17.  ,\n",
       "        22.5 ,  64.38, -13.88,  20.93,  29.16,  64.5 , -18.15,  33.59,\n",
       "        14.42,  29.71,  65.7 ,  28.66,  42.92,  53.08,  47.91, -33.59,\n",
       "        55.1 ,  14.53,  18.69,  -6.99, -19.06,  71.29,  25.52,  -2.42,\n",
       "        13.6 ,   5.48,  72.79, -20.94,  -8.14,  15.17,  32.33,  68.22,\n",
       "        41.82,  42.78,  67.47,  29.06, -38.  ,  -4.26,   6.54, -21.21,\n",
       "        51.38,   1.61,  35.31, -30.18, -22.12,  18.09,  40.6 ,  -0.88,\n",
       "         7.42, -32.03, -35.33,  46.49,   6.12,  48.38, -20.37,   7.53,\n",
       "        59.24,   0.38,  24.51,  40.43,  19.22, -22.28,   5.21, -20.23,\n",
       "       -14.8 ,  18.9 , -18.37,  -3.28, -17.71,  71.  , -26.62,   7.76,\n",
       "       -16.48,  22.89,  17.49,  11.27,  34.06, -19.55,  61.99,  -0.91,\n",
       "        55.34,   9.49,  31.21, -38.27, -37.62,  64.43,  20.2 , -22.96,\n",
       "        26.54,  21.4 , -26.65, -14.66,  41.4 ,  10.44,  50.23,  66.8 ,\n",
       "       -24.53,  55.38, -10.45,  49.47,  20.52,  78.22,  22.24,  52.33,\n",
       "        55.75,  -9.08,  10.04,  47.82,  14.07,   8.46,  29.62, -33.92,\n",
       "        19.77,  65.58, -35.1 ,  55.74,   9.19,   3.28,  49.92, -11.61,\n",
       "       -16.98,  68.75,  -5.2 ,  11.03,  20.96,  -9.93,  41.14,  64.75,\n",
       "        42.  ,  32.67,  39.74,  26.77,  65.11,  63.44,   4.93,  51.23,\n",
       "        60.38, -25.4 ,  53.57, -34.6 ,  20.7 , -31.43,  45.02, -22.54,\n",
       "        24.7 ,  -8.1 , -33.02,  39.05, -34.73,  41.76, -33.37,  55.71,\n",
       "       -45.87,  41.88,  42.37,  20.03, -10.15,  61.95, -23.7 ,   2.82,\n",
       "        66.4 ,  26.5 ,  31.67,  -8.12, -14.9 ,   4.42,  36.6 ,  59.09,\n",
       "        15.76,  39.45,  11.14,  -6.84,  60.82,  69.3 , -22.67,  52.98,\n",
       "        39.82,  12.77, -21.34, -17.73,  31.22,  31.35,  56.17,  69.49,\n",
       "        59.33, -25.17,  25.29,  43.97,   4.25, -28.78, -34.58, -19.22,\n",
       "        68.53,  34.54, -11.1 , -32.25,  69.22,  44.39,  27.12,  37.46,\n",
       "       -31.47,  44.56,  29.97,  31.65,  30.48,  -5.09,  52.3 ,  16.35,\n",
       "        62.63,   5.1 ,  62.39,  63.29,  42.8 ,  11.5 ,  13.22,  12.45,\n",
       "        56.01,   5.96,  10.92,  12.58,  -5.23,  49.14,  47.5 ,  40.91,\n",
       "        49.49,  50.72,  54.72,  22.69,  -2.02,   5.78,  39.01,  30.22,\n",
       "         2.67,  28.37,  -2.89, -19.98,  24.14,  35.13,  60.72,  64.7 ,\n",
       "        30.44,  -8.11, -41.41,  67.67,  29.95,  48.71,  68.31, -17.8 ,\n",
       "         6.62,  22.57, -29.95,   3.48,  29.75,  14.92,  36.1 , -15.86,\n",
       "        53.53,  60.34,  50.12, -37.83, -14.47,  49.6 ,  36.56, -17.5 ,\n",
       "        30.99,  48.83,  52.61,  55.3 ,  26.18,   6.19,  64.18,  39.76,\n",
       "        38.42, -13.87,  34.04,  52.5 , -12.74, -32.72,  34.88, -23.13,\n",
       "        38.89,  15.18, -14.25,  -6.12,  44.29, -17.88,   7.77,  70.47,\n",
       "        59.95,  -7.84,  54.95,  59.31,  57.51, -36.72,  33.19,  36.62,\n",
       "         3.08,  51.87,  14.9 ,  64.  ,  -5.79,  -7.75,  67.63,  70.37,\n",
       "       -34.67,  13.77,  50.7 ,  17.88,  34.69,  28.22,  36.54, -43.3 ,\n",
       "        56.54,  45.08,   8.  ,  28.5 ,  37.61, -32.5 ,  -5.25,  30.33,\n",
       "         4.92,  13.83,   1.55,  62.67,  -1.83,  25.22, -35.17,  27.63,\n",
       "        34.5 ,  18.39,  62.58,  -2.1 ,  -5.13,  44.66,  27.02, -19.76,\n",
       "        13.08,  -5.12,  42.25,  20.5 ,  13.5 , -17.35,  14.69,  -5.67,\n",
       "       -13.85,  29.11,  25.34,  13.57,  34.17,  13.21,   2.1 ,  50.37,\n",
       "        65.53, -26.07,   6.3 , -23.35,  -8.84,  -6.6 ,  59.64, -34.48,\n",
       "       -38.55,  70.66,  35.91,  15.74, -16.92,  71.04,  44.51,  20.34,\n",
       "        13.24,  54.04,  15.8 ,  56.62,  66.32])"
      ]
     },
     "execution_count": 70,
     "metadata": {},
     "output_type": "execute_result"
    }
   ],
   "source": [
    "x_values."
   ]
  },
  {
   "cell_type": "markdown",
   "metadata": {},
   "source": [
    "####  Northern Hemisphere - Humidity (%) vs. Latitude Linear Regression"
   ]
  },
  {
   "cell_type": "code",
   "execution_count": 18,
   "metadata": {},
   "outputs": [
    {
     "name": "stdout",
     "output_type": "stream",
     "text": [
      "The r-squared is: 0.10829462153873139\n"
     ]
    },
    {
     "data": {
      "image/png": "[encoded data removed]",
      "text/plain": [
       "<Figure size 432x288 with 1 Axes>"
      ]
     },
     "metadata": {
      "needs_background": "light"
     },
     "output_type": "display_data"
    }
   ],
   "source": []
  },
  {
   "cell_type": "markdown",
   "metadata": {},
   "source": [
    "####  Southern Hemisphere - Humidity (%) vs. Latitude Linear Regression"
   ]
  },
  {
   "cell_type": "code",
   "execution_count": 19,
   "metadata": {},
   "outputs": [
    {
     "name": "stdout",
     "output_type": "stream",
     "text": [
      "The r-squared is: 0.0008996079328825663\n"
     ]
    },
    {
     "data": {
      "image/png": "[encoded data removed]",
      "text/plain": [
       "<Figure size 432x288 with 1 Axes>"
      ]
     },
     "metadata": {
      "needs_background": "light"
     },
     "output_type": "display_data"
    }
   ],
   "source": []
  },
  {
   "cell_type": "markdown",
   "metadata": {},
   "source": [
    "####  Northern Hemisphere - Cloudiness (%) vs. Latitude Linear Regression"
   ]
  },
  {
   "cell_type": "code",
   "execution_count": 20,
   "metadata": {},
   "outputs": [
    {
     "name": "stdout",
     "output_type": "stream",
     "text": [
      "The r-squared is: 0.05768812657005063\n"
     ]
    },
    {
     "data": {
      "image/png": "[encoded data removed]",
      "text/plain": [
       "<Figure size 432x288 with 1 Axes>"
      ]
     },
     "metadata": {
      "needs_background": "light"
     },
     "output_type": "display_data"
    }
   ],
   "source": []
  },
  {
   "cell_type": "markdown",
   "metadata": {},
   "source": [
    "####  Southern Hemisphere - Cloudiness (%) vs. Latitude Linear Regression"
   ]
  },
  {
   "cell_type": "code",
   "execution_count": 21,
   "metadata": {},
   "outputs": [
    {
     "name": "stdout",
     "output_type": "stream",
     "text": [
      "The r-squared is: 0.0684912094859049\n"
     ]
    },
    {
     "data": {
      "image/png": "[encoded data removed]",
      "text/plain": [
       "<Figure size 432x288 with 1 Axes>"
      ]
     },
     "metadata": {
      "needs_background": "light"
     },
     "output_type": "display_data"
    }
   ],
   "source": []
  },
  {
   "cell_type": "markdown",
   "metadata": {},
   "source": [
    "####  Northern Hemisphere - Wind Speed (mph) vs. Latitude Linear Regression"
   ]
  },
  {
   "cell_type": "code",
   "execution_count": 22,
   "metadata": {},
   "outputs": [
    {
     "name": "stdout",
     "output_type": "stream",
     "text": [
      "The r-squared is: 0.023371104533850804\n"
     ]
    },
    {
     "data": {
      "image/png": "[encoded data removed]",
      "text/plain": [
       "<Figure size 432x288 with 1 Axes>"
      ]
     },
     "metadata": {
      "needs_background": "light"
     },
     "output_type": "display_data"
    }
   ],
   "source": []
  },
  {
   "cell_type": "markdown",
   "metadata": {},
   "source": [
    "####  Southern Hemisphere - Wind Speed (mph) vs. Latitude Linear Regression"
   ]
  },
  {
   "cell_type": "code",
   "execution_count": 23,
   "metadata": {},
   "outputs": [
    {
     "name": "stdout",
     "output_type": "stream",
     "text": [
      "The r-squared is: 0.03381889207758188\n"
     ]
    },
    {
     "data": {
      "image/png": "[encoded data removed]",
      "text/plain": [
       "<Figure size 432x288 with 1 Axes>"
      ]
     },
     "metadata": {
      "needs_background": "light"
     },
     "output_type": "display_data"
    }
   ],
   "source": []
  },
  {
   "cell_type": "code",
   "execution_count": null,
   "metadata": {},
   "outputs": [],
   "source": []
  }
 ],
 "metadata": {
  "anaconda-cloud": {},
  "kernel_info": {
   "name": "python3"
  },
  "kernelspec": {
   "display_name": "Python 3",
   "language": "python",
   "name": "python3"
  },
  "language_info": {
   "codemirror_mode": {
    "name": "ipython",
    "version": 3
   },
   "file_extension": ".py",
   "mimetype": "text/x-python",
   "name": "python",
   "nbconvert_exporter": "python",
   "pygments_lexer": "ipython3",
   "version": "3.7.6"
  },
  "latex_envs": {
   "LaTeX_envs_menu_present": true,
   "autoclose": false,
   "autocomplete": true,
   "bibliofile": "biblio.bib",
   "cite_by": "apalike",
   "current_citInitial": 1,
   "eqLabelWithNumbers": true,
   "eqNumInitial": 1,
   "hotkeys": {
    "equation": "Ctrl-E",
    "itemize": "Ctrl-I"
   },
   "labels_anchors": false,
   "latex_user_defs": false,
   "report_style_numbering": false,
   "user_envs_cfg": false
  },
  "nteract": {
   "version": "0.12.3"
  }
 },
 "nbformat": 4,
 "nbformat_minor": 2
}
